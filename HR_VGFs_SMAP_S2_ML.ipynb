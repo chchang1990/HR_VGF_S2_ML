{
  "nbformat": 4,
  "nbformat_minor": 0,
  "metadata": {
    "colab": {
      "provenance": [],
      "toc_visible": true,
      "authorship_tag": "ABX9TyN1sW73mxNV9JM7pqTxeiau",
      "include_colab_link": true
    },
    "kernelspec": {
      "name": "python3",
      "display_name": "Python 3"
    },
    "language_info": {
      "name": "python"
    },
    "widgets": {
      "application/vnd.jupyter.widget-state+json": {
        "3c52ba8a64ca46e7bb59773435d87605": {
          "model_module": "jupyter-leaflet",
          "model_name": "LeafletMapModel",
          "model_module_version": "^0.17",
          "state": {
            "_dom_classes": [],
            "_model_module": "jupyter-leaflet",
            "_model_module_version": "^0.17",
            "_model_name": "LeafletMapModel",
            "_view_count": null,
            "_view_module": "jupyter-leaflet",
            "_view_module_version": "^0.17",
            "_view_name": "LeafletMapView",
            "bottom": 6376,
            "bounce_at_zoom_limits": true,
            "box_zoom": true,
            "center": [
              42.09822241118974,
              -93.49365234375001
            ],
            "close_popup_on_click": true,
            "controls": [
              "IPY_MODEL_16a6d806f22a46f3a7e45a537d5cce0b",
              "IPY_MODEL_fb108e1871064ec493d6fbce75c8db5e",
              "IPY_MODEL_34da2f3478d243be9c7e330561f8f4df",
              "IPY_MODEL_9c629818bc334a23b143b2f1336c2c6f",
              "IPY_MODEL_40485055352e4c368baee3d655505077",
              "IPY_MODEL_17114f2b62d54613babfdea2bf2a1ee2",
              "IPY_MODEL_579c9568447f4732ab68be567ff3b3a1",
              "IPY_MODEL_70e151083d284d2c9bb34e09826d7624",
              "IPY_MODEL_44f76ecf3a0549e7ae7efce6a1d7a63e"
            ],
            "crs": {
              "name": "EPSG3857",
              "custom": false
            },
            "default_style": "IPY_MODEL_3c59c1651c2546b688bba633cb019e9d",
            "double_click_zoom": true,
            "dragging": true,
            "dragging_style": "IPY_MODEL_c0dcd549170045548db5ae23ba8ec6ac",
            "east": -80.50781250000001,
            "fullscreen": false,
            "inertia": true,
            "inertia_deceleration": 3000,
            "inertia_max_speed": 1500,
            "interpolation": "bilinear",
            "keyboard": true,
            "keyboard_pan_offset": 80,
            "keyboard_zoom_offset": 1,
            "layers": [
              "IPY_MODEL_a985f7475dd34fd0ad210d97fabf11d9",
              "IPY_MODEL_607a23ba24814030bfa4dcec178ff9e7"
            ],
            "layout": "IPY_MODEL_28443b603cbd4faeaea608c95fe45d27",
            "left": 3346,
            "max_zoom": 24,
            "min_zoom": null,
            "modisdate": "2023-09-16",
            "north": 46.800059446787316,
            "options": [
              "bounce_at_zoom_limits",
              "box_zoom",
              "center",
              "close_popup_on_click",
              "double_click_zoom",
              "dragging",
              "fullscreen",
              "inertia",
              "inertia_deceleration",
              "inertia_max_speed",
              "interpolation",
              "keyboard",
              "keyboard_pan_offset",
              "keyboard_zoom_offset",
              "max_zoom",
              "min_zoom",
              "prefer_canvas",
              "scroll_wheel_zoom",
              "tap",
              "tap_tolerance",
              "touch_zoom",
              "world_copy_jump",
              "zoom",
              "zoom_animation_threshold",
              "zoom_delta",
              "zoom_snap"
            ],
            "panes": {},
            "prefer_canvas": false,
            "right": 4528,
            "scroll_wheel_zoom": true,
            "south": 37.020098201368114,
            "style": "IPY_MODEL_3c59c1651c2546b688bba633cb019e9d",
            "tap": true,
            "tap_tolerance": 15,
            "top": 5776,
            "touch_zoom": true,
            "west": -106.47949218750001,
            "window_url": "https://jefcusyf3c-496ff2e9c6d22116-0-colab.googleusercontent.com/outputframe.html?vrz=colab_20230914-060107_RC00_565327706",
            "world_copy_jump": false,
            "zoom": 6,
            "zoom_animation_threshold": 4,
            "zoom_delta": 1,
            "zoom_snap": 1
          }
        },
        "16a6d806f22a46f3a7e45a537d5cce0b": {
          "model_module": "jupyter-leaflet",
          "model_name": "LeafletWidgetControlModel",
          "model_module_version": "^0.17",
          "state": {
            "_model_module": "jupyter-leaflet",
            "_model_module_version": "^0.17",
            "_model_name": "LeafletWidgetControlModel",
            "_view_count": null,
            "_view_module": "jupyter-leaflet",
            "_view_module_version": "^0.17",
            "_view_name": "LeafletWidgetControlView",
            "max_height": null,
            "max_width": null,
            "min_height": null,
            "min_width": null,
            "options": [
              "position",
              "transparent_bg"
            ],
            "position": "topleft",
            "transparent_bg": false,
            "widget": "IPY_MODEL_0b8b3c0400224e3997964345ad80a2b0"
          }
        },
        "fb108e1871064ec493d6fbce75c8db5e": {
          "model_module": "jupyter-leaflet",
          "model_name": "LeafletZoomControlModel",
          "model_module_version": "^0.17",
          "state": {
            "_model_module": "jupyter-leaflet",
            "_model_module_version": "^0.17",
            "_model_name": "LeafletZoomControlModel",
            "_view_count": null,
            "_view_module": "jupyter-leaflet",
            "_view_module_version": "^0.17",
            "_view_name": "LeafletZoomControlView",
            "options": [
              "position",
              "zoom_in_text",
              "zoom_in_title",
              "zoom_out_text",
              "zoom_out_title"
            ],
            "position": "topleft",
            "zoom_in_text": "+",
            "zoom_in_title": "Zoom in",
            "zoom_out_text": "-",
            "zoom_out_title": "Zoom out"
          }
        },
        "34da2f3478d243be9c7e330561f8f4df": {
          "model_module": "jupyter-leaflet",
          "model_name": "LeafletFullScreenControlModel",
          "model_module_version": "^0.17",
          "state": {
            "_model_module": "jupyter-leaflet",
            "_model_module_version": "^0.17",
            "_model_name": "LeafletFullScreenControlModel",
            "_view_count": null,
            "_view_module": "jupyter-leaflet",
            "_view_module_version": "^0.17",
            "_view_name": "LeafletFullScreenControlView",
            "options": [
              "position"
            ],
            "position": "topleft"
          }
        },
        "9c629818bc334a23b143b2f1336c2c6f": {
          "model_module": "jupyter-leaflet",
          "model_name": "LeafletDrawControlModel",
          "model_module_version": "^0.17",
          "state": {
            "_model_module": "jupyter-leaflet",
            "_model_module_version": "^0.17",
            "_model_name": "LeafletDrawControlModel",
            "_view_count": null,
            "_view_module": "jupyter-leaflet",
            "_view_module_version": "^0.17",
            "_view_name": "LeafletDrawControlView",
            "circle": {},
            "circlemarker": {},
            "data": [],
            "edit": true,
            "marker": {
              "shapeOptions": {
                "color": "#3388ff"
              }
            },
            "options": [
              "position"
            ],
            "polygon": {
              "shapeOptions": {}
            },
            "polyline": {
              "shapeOptions": {}
            },
            "position": "topleft",
            "rectangle": {
              "shapeOptions": {
                "color": "#3388ff"
              }
            },
            "remove": true
          }
        },
        "40485055352e4c368baee3d655505077": {
          "model_module": "jupyter-leaflet",
          "model_name": "LeafletScaleControlModel",
          "model_module_version": "^0.17",
          "state": {
            "_model_module": "jupyter-leaflet",
            "_model_module_version": "^0.17",
            "_model_name": "LeafletScaleControlModel",
            "_view_count": null,
            "_view_module": "jupyter-leaflet",
            "_view_module_version": "^0.17",
            "_view_name": "LeafletScaleControlView",
            "imperial": true,
            "max_width": 100,
            "metric": true,
            "options": [
              "imperial",
              "max_width",
              "metric",
              "position",
              "update_when_idle"
            ],
            "position": "bottomleft",
            "update_when_idle": false
          }
        },
        "17114f2b62d54613babfdea2bf2a1ee2": {
          "model_module": "jupyter-leaflet",
          "model_name": "LeafletMeasureControlModel",
          "model_module_version": "^0.17",
          "state": {
            "_custom_units": {},
            "_model_module": "jupyter-leaflet",
            "_model_module_version": "^0.17",
            "_model_name": "LeafletMeasureControlModel",
            "_view_count": null,
            "_view_module": "jupyter-leaflet",
            "_view_module_version": "^0.17",
            "_view_name": "LeafletMeasureControlView",
            "active_color": "orange",
            "capture_z_index": 10000,
            "completed_color": "#C8F2BE",
            "options": [
              "active_color",
              "capture_z_index",
              "completed_color",
              "popup_options",
              "position",
              "primary_area_unit",
              "primary_length_unit",
              "secondary_area_unit",
              "secondary_length_unit"
            ],
            "popup_options": {
              "className": "leaflet-measure-resultpopup",
              "autoPanPadding": [
                10,
                10
              ]
            },
            "position": "bottomleft",
            "primary_area_unit": "acres",
            "primary_length_unit": "kilometers",
            "secondary_area_unit": null,
            "secondary_length_unit": null
          }
        },
        "579c9568447f4732ab68be567ff3b3a1": {
          "model_module": "jupyter-leaflet",
          "model_name": "LeafletWidgetControlModel",
          "model_module_version": "^0.17",
          "state": {
            "_model_module": "jupyter-leaflet",
            "_model_module_version": "^0.17",
            "_model_name": "LeafletWidgetControlModel",
            "_view_count": null,
            "_view_module": "jupyter-leaflet",
            "_view_module_version": "^0.17",
            "_view_name": "LeafletWidgetControlView",
            "max_height": null,
            "max_width": null,
            "min_height": null,
            "min_width": null,
            "options": [
              "position",
              "transparent_bg"
            ],
            "position": "topright",
            "transparent_bg": false,
            "widget": "IPY_MODEL_f1164ae65afb4a9fa42792159a222762"
          }
        },
        "70e151083d284d2c9bb34e09826d7624": {
          "model_module": "jupyter-leaflet",
          "model_name": "LeafletAttributionControlModel",
          "model_module_version": "^0.17",
          "state": {
            "_model_module": "jupyter-leaflet",
            "_model_module_version": "^0.17",
            "_model_name": "LeafletAttributionControlModel",
            "_view_count": null,
            "_view_module": "jupyter-leaflet",
            "_view_module_version": "^0.17",
            "_view_name": "LeafletAttributionControlView",
            "options": [
              "position",
              "prefix"
            ],
            "position": "bottomright",
            "prefix": "ipyleaflet"
          }
        },
        "44f76ecf3a0549e7ae7efce6a1d7a63e": {
          "model_module": "jupyter-leaflet",
          "model_name": "LeafletLayersControlModel",
          "model_module_version": "^0.17",
          "state": {
            "_model_module": "jupyter-leaflet",
            "_model_module_version": "^0.17",
            "_model_name": "LeafletLayersControlModel",
            "_view_count": null,
            "_view_module": "jupyter-leaflet",
            "_view_module_version": "^0.17",
            "_view_name": "LeafletLayersControlView",
            "options": [
              "position"
            ],
            "position": "topright"
          }
        },
        "3c59c1651c2546b688bba633cb019e9d": {
          "model_module": "jupyter-leaflet",
          "model_name": "LeafletMapStyleModel",
          "model_module_version": "^0.17",
          "state": {
            "_model_module": "jupyter-leaflet",
            "_model_module_version": "^0.17",
            "_model_name": "LeafletMapStyleModel",
            "_view_count": null,
            "_view_module": "@jupyter-widgets/base",
            "_view_module_version": "1.2.0",
            "_view_name": "StyleView",
            "cursor": "grab"
          }
        },
        "c0dcd549170045548db5ae23ba8ec6ac": {
          "model_module": "jupyter-leaflet",
          "model_name": "LeafletMapStyleModel",
          "model_module_version": "^0.17",
          "state": {
            "_model_module": "jupyter-leaflet",
            "_model_module_version": "^0.17",
            "_model_name": "LeafletMapStyleModel",
            "_view_count": null,
            "_view_module": "@jupyter-widgets/base",
            "_view_module_version": "1.2.0",
            "_view_name": "StyleView",
            "cursor": "move"
          }
        },
        "a985f7475dd34fd0ad210d97fabf11d9": {
          "model_module": "jupyter-leaflet",
          "model_name": "LeafletTileLayerModel",
          "model_module_version": "^0.17",
          "state": {
            "_model_module": "jupyter-leaflet",
            "_model_module_version": "^0.17",
            "_model_name": "LeafletTileLayerModel",
            "_view_count": null,
            "_view_module": "jupyter-leaflet",
            "_view_module_version": "^0.17",
            "_view_name": "LeafletTileLayerView",
            "attribution": "&copy; <a href=\"https://www.openstreetmap.org/copyright\">OpenStreetMap</a> contributors",
            "base": true,
            "bottom": true,
            "bounds": null,
            "detect_retina": false,
            "loading": false,
            "max_native_zoom": null,
            "max_zoom": 19,
            "min_native_zoom": null,
            "min_zoom": 1,
            "name": "OpenStreetMap.Mapnik",
            "no_wrap": false,
            "opacity": 1,
            "options": [
              "attribution",
              "bounds",
              "detect_retina",
              "max_native_zoom",
              "max_zoom",
              "min_native_zoom",
              "min_zoom",
              "no_wrap",
              "tile_size",
              "tms",
              "zoom_offset"
            ],
            "pane": "",
            "popup": null,
            "popup_max_height": null,
            "popup_max_width": 300,
            "popup_min_width": 50,
            "show_loading": false,
            "subitems": [],
            "tile_size": 256,
            "tms": false,
            "url": "https://tile.openstreetmap.org/{z}/{x}/{y}.png",
            "visible": true,
            "zoom_offset": 0
          }
        },
        "607a23ba24814030bfa4dcec178ff9e7": {
          "model_module": "jupyter-leaflet",
          "model_name": "LeafletTileLayerModel",
          "model_module_version": "^0.17",
          "state": {
            "_model_module": "jupyter-leaflet",
            "_model_module_version": "^0.17",
            "_model_name": "LeafletTileLayerModel",
            "_view_count": null,
            "_view_module": "jupyter-leaflet",
            "_view_module_version": "^0.17",
            "_view_name": "LeafletTileLayerView",
            "attribution": "Google Earth Engine",
            "base": false,
            "bottom": true,
            "bounds": null,
            "detect_retina": false,
            "loading": false,
            "max_native_zoom": null,
            "max_zoom": 24,
            "min_native_zoom": null,
            "min_zoom": 0,
            "name": "USDA NASS Cropland 2021",
            "no_wrap": false,
            "opacity": 1,
            "options": [
              "attribution",
              "bounds",
              "detect_retina",
              "max_native_zoom",
              "max_zoom",
              "min_native_zoom",
              "min_zoom",
              "no_wrap",
              "tile_size",
              "tms",
              "zoom_offset"
            ],
            "pane": "",
            "popup": null,
            "popup_max_height": null,
            "popup_max_width": 300,
            "popup_min_width": 50,
            "show_loading": false,
            "subitems": [],
            "tile_size": 256,
            "tms": false,
            "url": "https://earthengine.googleapis.com/v1/projects/earthengine-legacy/maps/5073ed24f19d150efc7f9cc7b8e2f7d0-3a2813e3d664c2fc653c96d8e407014b/tiles/{z}/{x}/{y}",
            "visible": true,
            "zoom_offset": 0
          }
        },
        "28443b603cbd4faeaea608c95fe45d27": {
          "model_module": "@jupyter-widgets/base",
          "model_name": "LayoutModel",
          "model_module_version": "1.2.0",
          "state": {
            "_model_module": "@jupyter-widgets/base",
            "_model_module_version": "1.2.0",
            "_model_name": "LayoutModel",
            "_view_count": null,
            "_view_module": "@jupyter-widgets/base",
            "_view_module_version": "1.2.0",
            "_view_name": "LayoutView",
            "align_content": null,
            "align_items": null,
            "align_self": null,
            "border": null,
            "bottom": null,
            "display": null,
            "flex": null,
            "flex_flow": null,
            "grid_area": null,
            "grid_auto_columns": null,
            "grid_auto_flow": null,
            "grid_auto_rows": null,
            "grid_column": null,
            "grid_gap": null,
            "grid_row": null,
            "grid_template_areas": null,
            "grid_template_columns": null,
            "grid_template_rows": null,
            "height": "600px",
            "justify_content": null,
            "justify_items": null,
            "left": null,
            "margin": null,
            "max_height": null,
            "max_width": null,
            "min_height": null,
            "min_width": null,
            "object_fit": null,
            "object_position": null,
            "order": null,
            "overflow": null,
            "overflow_x": null,
            "overflow_y": null,
            "padding": null,
            "right": null,
            "top": null,
            "visibility": null,
            "width": null
          }
        },
        "2bc1ec6ef1c84ba896d615421285a127": {
          "model_module": "jupyter-leaflet",
          "model_name": "LeafletMapStyleModel",
          "model_module_version": "^0.17",
          "state": {
            "_model_module": "jupyter-leaflet",
            "_model_module_version": "^0.17",
            "_model_name": "LeafletMapStyleModel",
            "_view_count": null,
            "_view_module": "@jupyter-widgets/base",
            "_view_module_version": "1.2.0",
            "_view_name": "StyleView",
            "cursor": "grab"
          }
        },
        "0b8b3c0400224e3997964345ad80a2b0": {
          "model_module": "@jupyter-widgets/controls",
          "model_name": "HBoxModel",
          "model_module_version": "1.5.0",
          "state": {
            "_dom_classes": [],
            "_model_module": "@jupyter-widgets/controls",
            "_model_module_version": "1.5.0",
            "_model_name": "HBoxModel",
            "_view_count": null,
            "_view_module": "@jupyter-widgets/controls",
            "_view_module_version": "1.5.0",
            "_view_name": "HBoxView",
            "box_style": "",
            "children": [
              "IPY_MODEL_f1c383b987054b66861c5eefe8a32221"
            ],
            "layout": "IPY_MODEL_9d8a1409df9d45e59a1a3541367ca713"
          }
        },
        "f1164ae65afb4a9fa42792159a222762": {
          "model_module": "@jupyter-widgets/controls",
          "model_name": "VBoxModel",
          "model_module_version": "1.5.0",
          "state": {
            "_dom_classes": [],
            "_model_module": "@jupyter-widgets/controls",
            "_model_module_version": "1.5.0",
            "_model_name": "VBoxModel",
            "_view_count": null,
            "_view_module": "@jupyter-widgets/controls",
            "_view_module_version": "1.5.0",
            "_view_name": "VBoxView",
            "box_style": "",
            "children": [
              "IPY_MODEL_5f999a7b0085463aa9599216df63cf5b"
            ],
            "layout": "IPY_MODEL_0a04ace676e142d49227c982804e384f"
          }
        },
        "f1c383b987054b66861c5eefe8a32221": {
          "model_module": "@jupyter-widgets/controls",
          "model_name": "ToggleButtonModel",
          "model_module_version": "1.5.0",
          "state": {
            "_dom_classes": [],
            "_model_module": "@jupyter-widgets/controls",
            "_model_module_version": "1.5.0",
            "_model_name": "ToggleButtonModel",
            "_view_count": null,
            "_view_module": "@jupyter-widgets/controls",
            "_view_module_version": "1.5.0",
            "_view_name": "ToggleButtonView",
            "button_style": "",
            "description": "",
            "description_tooltip": null,
            "disabled": false,
            "icon": "globe",
            "layout": "IPY_MODEL_7242190c6366449c8fba7a126906ec70",
            "style": "IPY_MODEL_8ae0cb239c654154a8ed4d85a51dcb21",
            "tooltip": "Search location/data",
            "value": false
          }
        },
        "9d8a1409df9d45e59a1a3541367ca713": {
          "model_module": "@jupyter-widgets/base",
          "model_name": "LayoutModel",
          "model_module_version": "1.2.0",
          "state": {
            "_model_module": "@jupyter-widgets/base",
            "_model_module_version": "1.2.0",
            "_model_name": "LayoutModel",
            "_view_count": null,
            "_view_module": "@jupyter-widgets/base",
            "_view_module_version": "1.2.0",
            "_view_name": "LayoutView",
            "align_content": null,
            "align_items": null,
            "align_self": null,
            "border": null,
            "bottom": null,
            "display": null,
            "flex": null,
            "flex_flow": null,
            "grid_area": null,
            "grid_auto_columns": null,
            "grid_auto_flow": null,
            "grid_auto_rows": null,
            "grid_column": null,
            "grid_gap": null,
            "grid_row": null,
            "grid_template_areas": null,
            "grid_template_columns": null,
            "grid_template_rows": null,
            "height": null,
            "justify_content": null,
            "justify_items": null,
            "left": null,
            "margin": null,
            "max_height": null,
            "max_width": null,
            "min_height": null,
            "min_width": null,
            "object_fit": null,
            "object_position": null,
            "order": null,
            "overflow": null,
            "overflow_x": null,
            "overflow_y": null,
            "padding": null,
            "right": null,
            "top": null,
            "visibility": null,
            "width": null
          }
        },
        "5f999a7b0085463aa9599216df63cf5b": {
          "model_module": "@jupyter-widgets/controls",
          "model_name": "ToggleButtonModel",
          "model_module_version": "1.5.0",
          "state": {
            "_dom_classes": [],
            "_model_module": "@jupyter-widgets/controls",
            "_model_module_version": "1.5.0",
            "_model_name": "ToggleButtonModel",
            "_view_count": null,
            "_view_module": "@jupyter-widgets/controls",
            "_view_module_version": "1.5.0",
            "_view_name": "ToggleButtonView",
            "button_style": "",
            "description": "",
            "description_tooltip": null,
            "disabled": false,
            "icon": "wrench",
            "layout": "IPY_MODEL_3e634ebe015f4114945ca42ade233550",
            "style": "IPY_MODEL_2f09ff680c7b4905a68b4780f1a2be41",
            "tooltip": "Toolbar",
            "value": false
          }
        },
        "0a04ace676e142d49227c982804e384f": {
          "model_module": "@jupyter-widgets/base",
          "model_name": "LayoutModel",
          "model_module_version": "1.2.0",
          "state": {
            "_model_module": "@jupyter-widgets/base",
            "_model_module_version": "1.2.0",
            "_model_name": "LayoutModel",
            "_view_count": null,
            "_view_module": "@jupyter-widgets/base",
            "_view_module_version": "1.2.0",
            "_view_name": "LayoutView",
            "align_content": null,
            "align_items": null,
            "align_self": null,
            "border": null,
            "bottom": null,
            "display": null,
            "flex": null,
            "flex_flow": null,
            "grid_area": null,
            "grid_auto_columns": null,
            "grid_auto_flow": null,
            "grid_auto_rows": null,
            "grid_column": null,
            "grid_gap": null,
            "grid_row": null,
            "grid_template_areas": null,
            "grid_template_columns": null,
            "grid_template_rows": null,
            "height": null,
            "justify_content": null,
            "justify_items": null,
            "left": null,
            "margin": null,
            "max_height": null,
            "max_width": null,
            "min_height": null,
            "min_width": null,
            "object_fit": null,
            "object_position": null,
            "order": null,
            "overflow": null,
            "overflow_x": null,
            "overflow_y": null,
            "padding": null,
            "right": null,
            "top": null,
            "visibility": null,
            "width": null
          }
        },
        "7242190c6366449c8fba7a126906ec70": {
          "model_module": "@jupyter-widgets/base",
          "model_name": "LayoutModel",
          "model_module_version": "1.2.0",
          "state": {
            "_model_module": "@jupyter-widgets/base",
            "_model_module_version": "1.2.0",
            "_model_name": "LayoutModel",
            "_view_count": null,
            "_view_module": "@jupyter-widgets/base",
            "_view_module_version": "1.2.0",
            "_view_name": "LayoutView",
            "align_content": null,
            "align_items": null,
            "align_self": null,
            "border": null,
            "bottom": null,
            "display": null,
            "flex": null,
            "flex_flow": null,
            "grid_area": null,
            "grid_auto_columns": null,
            "grid_auto_flow": null,
            "grid_auto_rows": null,
            "grid_column": null,
            "grid_gap": null,
            "grid_row": null,
            "grid_template_areas": null,
            "grid_template_columns": null,
            "grid_template_rows": null,
            "height": "28px",
            "justify_content": null,
            "justify_items": null,
            "left": null,
            "margin": null,
            "max_height": null,
            "max_width": null,
            "min_height": null,
            "min_width": null,
            "object_fit": null,
            "object_position": null,
            "order": null,
            "overflow": null,
            "overflow_x": null,
            "overflow_y": null,
            "padding": "0px 0px 0px 4px",
            "right": null,
            "top": null,
            "visibility": null,
            "width": "28px"
          }
        },
        "8ae0cb239c654154a8ed4d85a51dcb21": {
          "model_module": "@jupyter-widgets/controls",
          "model_name": "DescriptionStyleModel",
          "model_module_version": "1.5.0",
          "state": {
            "_model_module": "@jupyter-widgets/controls",
            "_model_module_version": "1.5.0",
            "_model_name": "DescriptionStyleModel",
            "_view_count": null,
            "_view_module": "@jupyter-widgets/base",
            "_view_module_version": "1.2.0",
            "_view_name": "StyleView",
            "description_width": ""
          }
        },
        "3e634ebe015f4114945ca42ade233550": {
          "model_module": "@jupyter-widgets/base",
          "model_name": "LayoutModel",
          "model_module_version": "1.2.0",
          "state": {
            "_model_module": "@jupyter-widgets/base",
            "_model_module_version": "1.2.0",
            "_model_name": "LayoutModel",
            "_view_count": null,
            "_view_module": "@jupyter-widgets/base",
            "_view_module_version": "1.2.0",
            "_view_name": "LayoutView",
            "align_content": null,
            "align_items": null,
            "align_self": null,
            "border": null,
            "bottom": null,
            "display": null,
            "flex": null,
            "flex_flow": null,
            "grid_area": null,
            "grid_auto_columns": null,
            "grid_auto_flow": null,
            "grid_auto_rows": null,
            "grid_column": null,
            "grid_gap": null,
            "grid_row": null,
            "grid_template_areas": null,
            "grid_template_columns": null,
            "grid_template_rows": null,
            "height": "28px",
            "justify_content": null,
            "justify_items": null,
            "left": null,
            "margin": null,
            "max_height": null,
            "max_width": null,
            "min_height": null,
            "min_width": null,
            "object_fit": null,
            "object_position": null,
            "order": null,
            "overflow": null,
            "overflow_x": null,
            "overflow_y": null,
            "padding": "0px 0px 0px 4px",
            "right": null,
            "top": null,
            "visibility": null,
            "width": "28px"
          }
        },
        "2f09ff680c7b4905a68b4780f1a2be41": {
          "model_module": "@jupyter-widgets/controls",
          "model_name": "DescriptionStyleModel",
          "model_module_version": "1.5.0",
          "state": {
            "_model_module": "@jupyter-widgets/controls",
            "_model_module_version": "1.5.0",
            "_model_name": "DescriptionStyleModel",
            "_view_count": null,
            "_view_module": "@jupyter-widgets/base",
            "_view_module_version": "1.2.0",
            "_view_name": "StyleView",
            "description_width": ""
          }
        },
        "872b6ed77a974989bd7ab8c796c02de4": {
          "model_module": "jupyter-leaflet",
          "model_name": "LeafletMapModel",
          "model_module_version": "^0.17",
          "state": {
            "_dom_classes": [],
            "_model_module": "jupyter-leaflet",
            "_model_module_version": "^0.17",
            "_model_name": "LeafletMapModel",
            "_view_count": null,
            "_view_module": "jupyter-leaflet",
            "_view_module_version": "^0.17",
            "_view_name": "LeafletMapView",
            "bottom": 6376,
            "bounce_at_zoom_limits": true,
            "box_zoom": true,
            "center": [
              42.09822241118974,
              -93.49365234375001
            ],
            "close_popup_on_click": true,
            "controls": [
              "IPY_MODEL_364eb9bd3b9b47ab81a8ddee25fcd3a3",
              "IPY_MODEL_ca4e7f03b3d84e1e81ee5e890e7295ab",
              "IPY_MODEL_46f79ffed23b429c8aa45dc2e461b470",
              "IPY_MODEL_d68c469b9ab249fbbfd4e7b089b27e5d",
              "IPY_MODEL_4d4f1ed221664554b327e72771ee486e",
              "IPY_MODEL_e16711d7f9724103acfbec910d249dee",
              "IPY_MODEL_c33bf531250c4f4a8727d9223acfbedc",
              "IPY_MODEL_372d239d325d4a9b81396eda6f219709",
              "IPY_MODEL_75a6bce594c44e9cb7aa39845d5024e2"
            ],
            "crs": {
              "name": "EPSG3857",
              "custom": false
            },
            "default_style": "IPY_MODEL_b769debeb2454784a44904116cf3d488",
            "double_click_zoom": true,
            "dragging": true,
            "dragging_style": "IPY_MODEL_96f23c348f8046259db03c0b37bc0620",
            "east": -80.50781250000001,
            "fullscreen": false,
            "inertia": true,
            "inertia_deceleration": 3000,
            "inertia_max_speed": 1500,
            "interpolation": "bilinear",
            "keyboard": true,
            "keyboard_pan_offset": 80,
            "keyboard_zoom_offset": 1,
            "layers": [
              "IPY_MODEL_fde46191ccfa44c4b58960c3dff2a17f",
              "IPY_MODEL_2b78b2f9977141c9875dd000e768638e",
              "IPY_MODEL_cf76e13430d34882ab6710c0b0103986"
            ],
            "layout": "IPY_MODEL_bef47d07dd274a35a3a2feb56e3fcc1e",
            "left": 3346,
            "max_zoom": 24,
            "min_zoom": null,
            "modisdate": "2023-09-16",
            "north": 46.800059446787316,
            "options": [
              "bounce_at_zoom_limits",
              "box_zoom",
              "center",
              "close_popup_on_click",
              "double_click_zoom",
              "dragging",
              "fullscreen",
              "inertia",
              "inertia_deceleration",
              "inertia_max_speed",
              "interpolation",
              "keyboard",
              "keyboard_pan_offset",
              "keyboard_zoom_offset",
              "max_zoom",
              "min_zoom",
              "prefer_canvas",
              "scroll_wheel_zoom",
              "tap",
              "tap_tolerance",
              "touch_zoom",
              "world_copy_jump",
              "zoom",
              "zoom_animation_threshold",
              "zoom_delta",
              "zoom_snap"
            ],
            "panes": {},
            "prefer_canvas": false,
            "right": 4528,
            "scroll_wheel_zoom": true,
            "south": 37.020098201368114,
            "style": "IPY_MODEL_b769debeb2454784a44904116cf3d488",
            "tap": true,
            "tap_tolerance": 15,
            "top": 5776,
            "touch_zoom": true,
            "west": -106.47949218750001,
            "window_url": "https://jefcusyf3c-496ff2e9c6d22116-0-colab.googleusercontent.com/outputframe.html?vrz=colab_20230914-060107_RC00_565327706",
            "world_copy_jump": false,
            "zoom": 6,
            "zoom_animation_threshold": 4,
            "zoom_delta": 1,
            "zoom_snap": 1
          }
        },
        "364eb9bd3b9b47ab81a8ddee25fcd3a3": {
          "model_module": "jupyter-leaflet",
          "model_name": "LeafletWidgetControlModel",
          "model_module_version": "^0.17",
          "state": {
            "_model_module": "jupyter-leaflet",
            "_model_module_version": "^0.17",
            "_model_name": "LeafletWidgetControlModel",
            "_view_count": null,
            "_view_module": "jupyter-leaflet",
            "_view_module_version": "^0.17",
            "_view_name": "LeafletWidgetControlView",
            "max_height": null,
            "max_width": null,
            "min_height": null,
            "min_width": null,
            "options": [
              "position",
              "transparent_bg"
            ],
            "position": "topleft",
            "transparent_bg": false,
            "widget": "IPY_MODEL_ee6855c698664f3c928f50d219374112"
          }
        },
        "ca4e7f03b3d84e1e81ee5e890e7295ab": {
          "model_module": "jupyter-leaflet",
          "model_name": "LeafletZoomControlModel",
          "model_module_version": "^0.17",
          "state": {
            "_model_module": "jupyter-leaflet",
            "_model_module_version": "^0.17",
            "_model_name": "LeafletZoomControlModel",
            "_view_count": null,
            "_view_module": "jupyter-leaflet",
            "_view_module_version": "^0.17",
            "_view_name": "LeafletZoomControlView",
            "options": [
              "position",
              "zoom_in_text",
              "zoom_in_title",
              "zoom_out_text",
              "zoom_out_title"
            ],
            "position": "topleft",
            "zoom_in_text": "+",
            "zoom_in_title": "Zoom in",
            "zoom_out_text": "-",
            "zoom_out_title": "Zoom out"
          }
        },
        "46f79ffed23b429c8aa45dc2e461b470": {
          "model_module": "jupyter-leaflet",
          "model_name": "LeafletFullScreenControlModel",
          "model_module_version": "^0.17",
          "state": {
            "_model_module": "jupyter-leaflet",
            "_model_module_version": "^0.17",
            "_model_name": "LeafletFullScreenControlModel",
            "_view_count": null,
            "_view_module": "jupyter-leaflet",
            "_view_module_version": "^0.17",
            "_view_name": "LeafletFullScreenControlView",
            "options": [
              "position"
            ],
            "position": "topleft"
          }
        },
        "d68c469b9ab249fbbfd4e7b089b27e5d": {
          "model_module": "jupyter-leaflet",
          "model_name": "LeafletDrawControlModel",
          "model_module_version": "^0.17",
          "state": {
            "_model_module": "jupyter-leaflet",
            "_model_module_version": "^0.17",
            "_model_name": "LeafletDrawControlModel",
            "_view_count": null,
            "_view_module": "jupyter-leaflet",
            "_view_module_version": "^0.17",
            "_view_name": "LeafletDrawControlView",
            "circle": {},
            "circlemarker": {},
            "data": [],
            "edit": true,
            "marker": {
              "shapeOptions": {
                "color": "#3388ff"
              }
            },
            "options": [
              "position"
            ],
            "polygon": {
              "shapeOptions": {}
            },
            "polyline": {
              "shapeOptions": {}
            },
            "position": "topleft",
            "rectangle": {
              "shapeOptions": {
                "color": "#3388ff"
              }
            },
            "remove": true
          }
        },
        "4d4f1ed221664554b327e72771ee486e": {
          "model_module": "jupyter-leaflet",
          "model_name": "LeafletScaleControlModel",
          "model_module_version": "^0.17",
          "state": {
            "_model_module": "jupyter-leaflet",
            "_model_module_version": "^0.17",
            "_model_name": "LeafletScaleControlModel",
            "_view_count": null,
            "_view_module": "jupyter-leaflet",
            "_view_module_version": "^0.17",
            "_view_name": "LeafletScaleControlView",
            "imperial": true,
            "max_width": 100,
            "metric": true,
            "options": [
              "imperial",
              "max_width",
              "metric",
              "position",
              "update_when_idle"
            ],
            "position": "bottomleft",
            "update_when_idle": false
          }
        },
        "e16711d7f9724103acfbec910d249dee": {
          "model_module": "jupyter-leaflet",
          "model_name": "LeafletMeasureControlModel",
          "model_module_version": "^0.17",
          "state": {
            "_custom_units": {},
            "_model_module": "jupyter-leaflet",
            "_model_module_version": "^0.17",
            "_model_name": "LeafletMeasureControlModel",
            "_view_count": null,
            "_view_module": "jupyter-leaflet",
            "_view_module_version": "^0.17",
            "_view_name": "LeafletMeasureControlView",
            "active_color": "orange",
            "capture_z_index": 10000,
            "completed_color": "#C8F2BE",
            "options": [
              "active_color",
              "capture_z_index",
              "completed_color",
              "popup_options",
              "position",
              "primary_area_unit",
              "primary_length_unit",
              "secondary_area_unit",
              "secondary_length_unit"
            ],
            "popup_options": {
              "className": "leaflet-measure-resultpopup",
              "autoPanPadding": [
                10,
                10
              ]
            },
            "position": "bottomleft",
            "primary_area_unit": "acres",
            "primary_length_unit": "kilometers",
            "secondary_area_unit": null,
            "secondary_length_unit": null
          }
        },
        "c33bf531250c4f4a8727d9223acfbedc": {
          "model_module": "jupyter-leaflet",
          "model_name": "LeafletWidgetControlModel",
          "model_module_version": "^0.17",
          "state": {
            "_model_module": "jupyter-leaflet",
            "_model_module_version": "^0.17",
            "_model_name": "LeafletWidgetControlModel",
            "_view_count": null,
            "_view_module": "jupyter-leaflet",
            "_view_module_version": "^0.17",
            "_view_name": "LeafletWidgetControlView",
            "max_height": null,
            "max_width": null,
            "min_height": null,
            "min_width": null,
            "options": [
              "position",
              "transparent_bg"
            ],
            "position": "topright",
            "transparent_bg": false,
            "widget": "IPY_MODEL_7a0da61778b94f949ab7f7e7a4054798"
          }
        },
        "372d239d325d4a9b81396eda6f219709": {
          "model_module": "jupyter-leaflet",
          "model_name": "LeafletAttributionControlModel",
          "model_module_version": "^0.17",
          "state": {
            "_model_module": "jupyter-leaflet",
            "_model_module_version": "^0.17",
            "_model_name": "LeafletAttributionControlModel",
            "_view_count": null,
            "_view_module": "jupyter-leaflet",
            "_view_module_version": "^0.17",
            "_view_name": "LeafletAttributionControlView",
            "options": [
              "position",
              "prefix"
            ],
            "position": "bottomright",
            "prefix": "ipyleaflet"
          }
        },
        "75a6bce594c44e9cb7aa39845d5024e2": {
          "model_module": "jupyter-leaflet",
          "model_name": "LeafletLayersControlModel",
          "model_module_version": "^0.17",
          "state": {
            "_model_module": "jupyter-leaflet",
            "_model_module_version": "^0.17",
            "_model_name": "LeafletLayersControlModel",
            "_view_count": null,
            "_view_module": "jupyter-leaflet",
            "_view_module_version": "^0.17",
            "_view_name": "LeafletLayersControlView",
            "options": [
              "position"
            ],
            "position": "topright"
          }
        },
        "b769debeb2454784a44904116cf3d488": {
          "model_module": "jupyter-leaflet",
          "model_name": "LeafletMapStyleModel",
          "model_module_version": "^0.17",
          "state": {
            "_model_module": "jupyter-leaflet",
            "_model_module_version": "^0.17",
            "_model_name": "LeafletMapStyleModel",
            "_view_count": null,
            "_view_module": "@jupyter-widgets/base",
            "_view_module_version": "1.2.0",
            "_view_name": "StyleView",
            "cursor": "grab"
          }
        },
        "96f23c348f8046259db03c0b37bc0620": {
          "model_module": "jupyter-leaflet",
          "model_name": "LeafletMapStyleModel",
          "model_module_version": "^0.17",
          "state": {
            "_model_module": "jupyter-leaflet",
            "_model_module_version": "^0.17",
            "_model_name": "LeafletMapStyleModel",
            "_view_count": null,
            "_view_module": "@jupyter-widgets/base",
            "_view_module_version": "1.2.0",
            "_view_name": "StyleView",
            "cursor": "move"
          }
        },
        "fde46191ccfa44c4b58960c3dff2a17f": {
          "model_module": "jupyter-leaflet",
          "model_name": "LeafletTileLayerModel",
          "model_module_version": "^0.17",
          "state": {
            "_model_module": "jupyter-leaflet",
            "_model_module_version": "^0.17",
            "_model_name": "LeafletTileLayerModel",
            "_view_count": null,
            "_view_module": "jupyter-leaflet",
            "_view_module_version": "^0.17",
            "_view_name": "LeafletTileLayerView",
            "attribution": "&copy; <a href=\"https://www.openstreetmap.org/copyright\">OpenStreetMap</a> contributors",
            "base": true,
            "bottom": true,
            "bounds": null,
            "detect_retina": false,
            "loading": false,
            "max_native_zoom": null,
            "max_zoom": 19,
            "min_native_zoom": null,
            "min_zoom": 1,
            "name": "OpenStreetMap.Mapnik",
            "no_wrap": false,
            "opacity": 1,
            "options": [
              "attribution",
              "bounds",
              "detect_retina",
              "max_native_zoom",
              "max_zoom",
              "min_native_zoom",
              "min_zoom",
              "no_wrap",
              "tile_size",
              "tms",
              "zoom_offset"
            ],
            "pane": "",
            "popup": null,
            "popup_max_height": null,
            "popup_max_width": 300,
            "popup_min_width": 50,
            "show_loading": false,
            "subitems": [],
            "tile_size": 256,
            "tms": false,
            "url": "https://tile.openstreetmap.org/{z}/{x}/{y}.png",
            "visible": true,
            "zoom_offset": 0
          }
        },
        "2b78b2f9977141c9875dd000e768638e": {
          "model_module": "jupyter-leaflet",
          "model_name": "LeafletTileLayerModel",
          "model_module_version": "^0.17",
          "state": {
            "_model_module": "jupyter-leaflet",
            "_model_module_version": "^0.17",
            "_model_name": "LeafletTileLayerModel",
            "_view_count": null,
            "_view_module": "jupyter-leaflet",
            "_view_module_version": "^0.17",
            "_view_name": "LeafletTileLayerView",
            "attribution": "Google Earth Engine",
            "base": false,
            "bottom": true,
            "bounds": null,
            "detect_retina": false,
            "loading": false,
            "max_native_zoom": null,
            "max_zoom": 24,
            "min_native_zoom": null,
            "min_zoom": 0,
            "name": "USDA NASS Cropland 2021",
            "no_wrap": false,
            "opacity": 1,
            "options": [
              "attribution",
              "bounds",
              "detect_retina",
              "max_native_zoom",
              "max_zoom",
              "min_native_zoom",
              "min_zoom",
              "no_wrap",
              "tile_size",
              "tms",
              "zoom_offset"
            ],
            "pane": "",
            "popup": null,
            "popup_max_height": null,
            "popup_max_width": 300,
            "popup_min_width": 50,
            "show_loading": false,
            "subitems": [],
            "tile_size": 256,
            "tms": false,
            "url": "https://earthengine.googleapis.com/v1/projects/earthengine-legacy/maps/5073ed24f19d150efc7f9cc7b8e2f7d0-c4b26606c77660dad58d0a070317cf74/tiles/{z}/{x}/{y}",
            "visible": true,
            "zoom_offset": 0
          }
        },
        "cf76e13430d34882ab6710c0b0103986": {
          "model_module": "jupyter-leaflet",
          "model_name": "LeafletTileLayerModel",
          "model_module_version": "^0.17",
          "state": {
            "_model_module": "jupyter-leaflet",
            "_model_module_version": "^0.17",
            "_model_name": "LeafletTileLayerModel",
            "_view_count": null,
            "_view_module": "jupyter-leaflet",
            "_view_module_version": "^0.17",
            "_view_name": "LeafletTileLayerView",
            "attribution": "Google Earth Engine",
            "base": false,
            "bottom": true,
            "bounds": null,
            "detect_retina": false,
            "loading": false,
            "max_native_zoom": null,
            "max_zoom": 24,
            "min_native_zoom": null,
            "min_zoom": 0,
            "name": "Sample AOI",
            "no_wrap": false,
            "opacity": 1,
            "options": [
              "attribution",
              "bounds",
              "detect_retina",
              "max_native_zoom",
              "max_zoom",
              "min_native_zoom",
              "min_zoom",
              "no_wrap",
              "tile_size",
              "tms",
              "zoom_offset"
            ],
            "pane": "",
            "popup": null,
            "popup_max_height": null,
            "popup_max_width": 300,
            "popup_min_width": 50,
            "show_loading": false,
            "subitems": [],
            "tile_size": 256,
            "tms": false,
            "url": "https://earthengine.googleapis.com/v1/projects/earthengine-legacy/maps/3b52dfd6aef8448cfdf30e77deff8bf5-3a0dc322138f7adf456afd4195f88f96/tiles/{z}/{x}/{y}",
            "visible": true,
            "zoom_offset": 0
          }
        },
        "bef47d07dd274a35a3a2feb56e3fcc1e": {
          "model_module": "@jupyter-widgets/base",
          "model_name": "LayoutModel",
          "model_module_version": "1.2.0",
          "state": {
            "_model_module": "@jupyter-widgets/base",
            "_model_module_version": "1.2.0",
            "_model_name": "LayoutModel",
            "_view_count": null,
            "_view_module": "@jupyter-widgets/base",
            "_view_module_version": "1.2.0",
            "_view_name": "LayoutView",
            "align_content": null,
            "align_items": null,
            "align_self": null,
            "border": null,
            "bottom": null,
            "display": null,
            "flex": null,
            "flex_flow": null,
            "grid_area": null,
            "grid_auto_columns": null,
            "grid_auto_flow": null,
            "grid_auto_rows": null,
            "grid_column": null,
            "grid_gap": null,
            "grid_row": null,
            "grid_template_areas": null,
            "grid_template_columns": null,
            "grid_template_rows": null,
            "height": "600px",
            "justify_content": null,
            "justify_items": null,
            "left": null,
            "margin": null,
            "max_height": null,
            "max_width": null,
            "min_height": null,
            "min_width": null,
            "object_fit": null,
            "object_position": null,
            "order": null,
            "overflow": null,
            "overflow_x": null,
            "overflow_y": null,
            "padding": null,
            "right": null,
            "top": null,
            "visibility": null,
            "width": null
          }
        },
        "cc3a9dcd33e748039a65194879786f26": {
          "model_module": "jupyter-leaflet",
          "model_name": "LeafletMapStyleModel",
          "model_module_version": "^0.17",
          "state": {
            "_model_module": "jupyter-leaflet",
            "_model_module_version": "^0.17",
            "_model_name": "LeafletMapStyleModel",
            "_view_count": null,
            "_view_module": "@jupyter-widgets/base",
            "_view_module_version": "1.2.0",
            "_view_name": "StyleView",
            "cursor": "grab"
          }
        },
        "ee6855c698664f3c928f50d219374112": {
          "model_module": "@jupyter-widgets/controls",
          "model_name": "HBoxModel",
          "model_module_version": "1.5.0",
          "state": {
            "_dom_classes": [],
            "_model_module": "@jupyter-widgets/controls",
            "_model_module_version": "1.5.0",
            "_model_name": "HBoxModel",
            "_view_count": null,
            "_view_module": "@jupyter-widgets/controls",
            "_view_module_version": "1.5.0",
            "_view_name": "HBoxView",
            "box_style": "",
            "children": [
              "IPY_MODEL_4642b52a38764c4abaf8ec57892db706"
            ],
            "layout": "IPY_MODEL_d0b79ff0985e46ab93883f7566c9e675"
          }
        },
        "7a0da61778b94f949ab7f7e7a4054798": {
          "model_module": "@jupyter-widgets/controls",
          "model_name": "VBoxModel",
          "model_module_version": "1.5.0",
          "state": {
            "_dom_classes": [],
            "_model_module": "@jupyter-widgets/controls",
            "_model_module_version": "1.5.0",
            "_model_name": "VBoxModel",
            "_view_count": null,
            "_view_module": "@jupyter-widgets/controls",
            "_view_module_version": "1.5.0",
            "_view_name": "VBoxView",
            "box_style": "",
            "children": [
              "IPY_MODEL_9772541d44724b54abee1be56d05f0c3"
            ],
            "layout": "IPY_MODEL_a55a1a0c80674d19a3a43676c4874d95"
          }
        },
        "4642b52a38764c4abaf8ec57892db706": {
          "model_module": "@jupyter-widgets/controls",
          "model_name": "ToggleButtonModel",
          "model_module_version": "1.5.0",
          "state": {
            "_dom_classes": [],
            "_model_module": "@jupyter-widgets/controls",
            "_model_module_version": "1.5.0",
            "_model_name": "ToggleButtonModel",
            "_view_count": null,
            "_view_module": "@jupyter-widgets/controls",
            "_view_module_version": "1.5.0",
            "_view_name": "ToggleButtonView",
            "button_style": "",
            "description": "",
            "description_tooltip": null,
            "disabled": false,
            "icon": "globe",
            "layout": "IPY_MODEL_9da3e8c6730e4e8184f9178855976526",
            "style": "IPY_MODEL_7066fce66c15445590bfebc16a1f398f",
            "tooltip": "Search location/data",
            "value": false
          }
        },
        "d0b79ff0985e46ab93883f7566c9e675": {
          "model_module": "@jupyter-widgets/base",
          "model_name": "LayoutModel",
          "model_module_version": "1.2.0",
          "state": {
            "_model_module": "@jupyter-widgets/base",
            "_model_module_version": "1.2.0",
            "_model_name": "LayoutModel",
            "_view_count": null,
            "_view_module": "@jupyter-widgets/base",
            "_view_module_version": "1.2.0",
            "_view_name": "LayoutView",
            "align_content": null,
            "align_items": null,
            "align_self": null,
            "border": null,
            "bottom": null,
            "display": null,
            "flex": null,
            "flex_flow": null,
            "grid_area": null,
            "grid_auto_columns": null,
            "grid_auto_flow": null,
            "grid_auto_rows": null,
            "grid_column": null,
            "grid_gap": null,
            "grid_row": null,
            "grid_template_areas": null,
            "grid_template_columns": null,
            "grid_template_rows": null,
            "height": null,
            "justify_content": null,
            "justify_items": null,
            "left": null,
            "margin": null,
            "max_height": null,
            "max_width": null,
            "min_height": null,
            "min_width": null,
            "object_fit": null,
            "object_position": null,
            "order": null,
            "overflow": null,
            "overflow_x": null,
            "overflow_y": null,
            "padding": null,
            "right": null,
            "top": null,
            "visibility": null,
            "width": null
          }
        },
        "9772541d44724b54abee1be56d05f0c3": {
          "model_module": "@jupyter-widgets/controls",
          "model_name": "ToggleButtonModel",
          "model_module_version": "1.5.0",
          "state": {
            "_dom_classes": [],
            "_model_module": "@jupyter-widgets/controls",
            "_model_module_version": "1.5.0",
            "_model_name": "ToggleButtonModel",
            "_view_count": null,
            "_view_module": "@jupyter-widgets/controls",
            "_view_module_version": "1.5.0",
            "_view_name": "ToggleButtonView",
            "button_style": "",
            "description": "",
            "description_tooltip": null,
            "disabled": false,
            "icon": "wrench",
            "layout": "IPY_MODEL_60a894b7edc24ad6a5270c8abad9913b",
            "style": "IPY_MODEL_1920d1bcd430460197bc7097b08ba969",
            "tooltip": "Toolbar",
            "value": false
          }
        },
        "a55a1a0c80674d19a3a43676c4874d95": {
          "model_module": "@jupyter-widgets/base",
          "model_name": "LayoutModel",
          "model_module_version": "1.2.0",
          "state": {
            "_model_module": "@jupyter-widgets/base",
            "_model_module_version": "1.2.0",
            "_model_name": "LayoutModel",
            "_view_count": null,
            "_view_module": "@jupyter-widgets/base",
            "_view_module_version": "1.2.0",
            "_view_name": "LayoutView",
            "align_content": null,
            "align_items": null,
            "align_self": null,
            "border": null,
            "bottom": null,
            "display": null,
            "flex": null,
            "flex_flow": null,
            "grid_area": null,
            "grid_auto_columns": null,
            "grid_auto_flow": null,
            "grid_auto_rows": null,
            "grid_column": null,
            "grid_gap": null,
            "grid_row": null,
            "grid_template_areas": null,
            "grid_template_columns": null,
            "grid_template_rows": null,
            "height": null,
            "justify_content": null,
            "justify_items": null,
            "left": null,
            "margin": null,
            "max_height": null,
            "max_width": null,
            "min_height": null,
            "min_width": null,
            "object_fit": null,
            "object_position": null,
            "order": null,
            "overflow": null,
            "overflow_x": null,
            "overflow_y": null,
            "padding": null,
            "right": null,
            "top": null,
            "visibility": null,
            "width": null
          }
        },
        "9da3e8c6730e4e8184f9178855976526": {
          "model_module": "@jupyter-widgets/base",
          "model_name": "LayoutModel",
          "model_module_version": "1.2.0",
          "state": {
            "_model_module": "@jupyter-widgets/base",
            "_model_module_version": "1.2.0",
            "_model_name": "LayoutModel",
            "_view_count": null,
            "_view_module": "@jupyter-widgets/base",
            "_view_module_version": "1.2.0",
            "_view_name": "LayoutView",
            "align_content": null,
            "align_items": null,
            "align_self": null,
            "border": null,
            "bottom": null,
            "display": null,
            "flex": null,
            "flex_flow": null,
            "grid_area": null,
            "grid_auto_columns": null,
            "grid_auto_flow": null,
            "grid_auto_rows": null,
            "grid_column": null,
            "grid_gap": null,
            "grid_row": null,
            "grid_template_areas": null,
            "grid_template_columns": null,
            "grid_template_rows": null,
            "height": "28px",
            "justify_content": null,
            "justify_items": null,
            "left": null,
            "margin": null,
            "max_height": null,
            "max_width": null,
            "min_height": null,
            "min_width": null,
            "object_fit": null,
            "object_position": null,
            "order": null,
            "overflow": null,
            "overflow_x": null,
            "overflow_y": null,
            "padding": "0px 0px 0px 4px",
            "right": null,
            "top": null,
            "visibility": null,
            "width": "28px"
          }
        },
        "7066fce66c15445590bfebc16a1f398f": {
          "model_module": "@jupyter-widgets/controls",
          "model_name": "DescriptionStyleModel",
          "model_module_version": "1.5.0",
          "state": {
            "_model_module": "@jupyter-widgets/controls",
            "_model_module_version": "1.5.0",
            "_model_name": "DescriptionStyleModel",
            "_view_count": null,
            "_view_module": "@jupyter-widgets/base",
            "_view_module_version": "1.2.0",
            "_view_name": "StyleView",
            "description_width": ""
          }
        },
        "60a894b7edc24ad6a5270c8abad9913b": {
          "model_module": "@jupyter-widgets/base",
          "model_name": "LayoutModel",
          "model_module_version": "1.2.0",
          "state": {
            "_model_module": "@jupyter-widgets/base",
            "_model_module_version": "1.2.0",
            "_model_name": "LayoutModel",
            "_view_count": null,
            "_view_module": "@jupyter-widgets/base",
            "_view_module_version": "1.2.0",
            "_view_name": "LayoutView",
            "align_content": null,
            "align_items": null,
            "align_self": null,
            "border": null,
            "bottom": null,
            "display": null,
            "flex": null,
            "flex_flow": null,
            "grid_area": null,
            "grid_auto_columns": null,
            "grid_auto_flow": null,
            "grid_auto_rows": null,
            "grid_column": null,
            "grid_gap": null,
            "grid_row": null,
            "grid_template_areas": null,
            "grid_template_columns": null,
            "grid_template_rows": null,
            "height": "28px",
            "justify_content": null,
            "justify_items": null,
            "left": null,
            "margin": null,
            "max_height": null,
            "max_width": null,
            "min_height": null,
            "min_width": null,
            "object_fit": null,
            "object_position": null,
            "order": null,
            "overflow": null,
            "overflow_x": null,
            "overflow_y": null,
            "padding": "0px 0px 0px 4px",
            "right": null,
            "top": null,
            "visibility": null,
            "width": "28px"
          }
        },
        "1920d1bcd430460197bc7097b08ba969": {
          "model_module": "@jupyter-widgets/controls",
          "model_name": "DescriptionStyleModel",
          "model_module_version": "1.5.0",
          "state": {
            "_model_module": "@jupyter-widgets/controls",
            "_model_module_version": "1.5.0",
            "_model_name": "DescriptionStyleModel",
            "_view_count": null,
            "_view_module": "@jupyter-widgets/base",
            "_view_module_version": "1.2.0",
            "_view_name": "StyleView",
            "description_width": ""
          }
        },
        "0afc34707bf74849916e3de6f3564514": {
          "model_module": "jupyter-leaflet",
          "model_name": "LeafletMapModel",
          "model_module_version": "^0.17",
          "state": {
            "_dom_classes": [],
            "_model_module": "jupyter-leaflet",
            "_model_module_version": "^0.17",
            "_model_name": "LeafletMapModel",
            "_view_count": null,
            "_view_module": "jupyter-leaflet",
            "_view_module_version": "^0.17",
            "_view_name": "LeafletMapView",
            "bottom": 48400,
            "bounce_at_zoom_limits": true,
            "box_zoom": true,
            "center": [
              43.12504316740127,
              -94.053955078125
            ],
            "close_popup_on_click": true,
            "controls": [
              "IPY_MODEL_33dcc1a5fd794d5fbc3f26a067c90786",
              "IPY_MODEL_5f5bf554b4014cf39549a8ce82a5f11b",
              "IPY_MODEL_342331f610734513a968c45066eb6b7f",
              "IPY_MODEL_43f606ef203845168e3181cbdf28e18e",
              "IPY_MODEL_4de55641766f4513968b50f65f4708f9",
              "IPY_MODEL_9e2c9b9ef1c04662b3f3052ddfa9cdec",
              "IPY_MODEL_a152d9fdb0a14f87b088b1b73bf6c879",
              "IPY_MODEL_f8ab82124ca84004abc1b53af9504166"
            ],
            "crs": {
              "name": "EPSG3857",
              "custom": false
            },
            "default_style": "IPY_MODEL_498e0258896b4bf08afef7fd6f237220",
            "double_click_zoom": true,
            "dragging": true,
            "dragging_style": "IPY_MODEL_0c826745a5924dd8bde2ad1ae58fbe8f",
            "east": -92.43072509765626,
            "fullscreen": false,
            "inertia": true,
            "inertia_deceleration": 3000,
            "inertia_max_speed": 1500,
            "interpolation": "bilinear",
            "keyboard": true,
            "keyboard_pan_offset": 80,
            "keyboard_zoom_offset": 1,
            "layers": [
              "IPY_MODEL_53bcf6666bdd496eb455c1d311d2224e",
              "IPY_MODEL_a5efafced8e0414da48f50edf095f33a",
              "IPY_MODEL_18578571bddf4da7b46635756291dd83"
            ],
            "layout": "IPY_MODEL_43d035ddf7ea474e9bc2abd685ed81cc",
            "left": 30701,
            "max_zoom": 24,
            "min_zoom": null,
            "modisdate": "2023-09-16",
            "north": 43.723474896114794,
            "options": [
              "bounce_at_zoom_limits",
              "box_zoom",
              "center",
              "close_popup_on_click",
              "double_click_zoom",
              "dragging",
              "fullscreen",
              "inertia",
              "inertia_deceleration",
              "inertia_max_speed",
              "interpolation",
              "keyboard",
              "keyboard_pan_offset",
              "keyboard_zoom_offset",
              "max_zoom",
              "min_zoom",
              "prefer_canvas",
              "scroll_wheel_zoom",
              "tap",
              "tap_tolerance",
              "touch_zoom",
              "world_copy_jump",
              "zoom",
              "zoom_animation_threshold",
              "zoom_delta",
              "zoom_snap"
            ],
            "panes": {},
            "prefer_canvas": false,
            "right": 31883,
            "scroll_wheel_zoom": true,
            "south": 42.52069952914966,
            "style": "IPY_MODEL_498e0258896b4bf08afef7fd6f237220",
            "tap": true,
            "tap_tolerance": 15,
            "top": 47800,
            "touch_zoom": true,
            "west": -95.67718505859376,
            "window_url": "https://jefcusyf3c-496ff2e9c6d22116-0-colab.googleusercontent.com/outputframe.html?vrz=colab_20230914-060107_RC00_565327706",
            "world_copy_jump": false,
            "zoom": 9,
            "zoom_animation_threshold": 4,
            "zoom_delta": 1,
            "zoom_snap": 1
          }
        },
        "33dcc1a5fd794d5fbc3f26a067c90786": {
          "model_module": "jupyter-leaflet",
          "model_name": "LeafletWidgetControlModel",
          "model_module_version": "^0.17",
          "state": {
            "_model_module": "jupyter-leaflet",
            "_model_module_version": "^0.17",
            "_model_name": "LeafletWidgetControlModel",
            "_view_count": null,
            "_view_module": "jupyter-leaflet",
            "_view_module_version": "^0.17",
            "_view_name": "LeafletWidgetControlView",
            "max_height": null,
            "max_width": null,
            "min_height": null,
            "min_width": null,
            "options": [
              "position",
              "transparent_bg"
            ],
            "position": "topleft",
            "transparent_bg": false,
            "widget": "IPY_MODEL_d2de6702cc1441db82247f5adaa231a3"
          }
        },
        "5f5bf554b4014cf39549a8ce82a5f11b": {
          "model_module": "jupyter-leaflet",
          "model_name": "LeafletZoomControlModel",
          "model_module_version": "^0.17",
          "state": {
            "_model_module": "jupyter-leaflet",
            "_model_module_version": "^0.17",
            "_model_name": "LeafletZoomControlModel",
            "_view_count": null,
            "_view_module": "jupyter-leaflet",
            "_view_module_version": "^0.17",
            "_view_name": "LeafletZoomControlView",
            "options": [
              "position",
              "zoom_in_text",
              "zoom_in_title",
              "zoom_out_text",
              "zoom_out_title"
            ],
            "position": "topleft",
            "zoom_in_text": "+",
            "zoom_in_title": "Zoom in",
            "zoom_out_text": "-",
            "zoom_out_title": "Zoom out"
          }
        },
        "342331f610734513a968c45066eb6b7f": {
          "model_module": "jupyter-leaflet",
          "model_name": "LeafletFullScreenControlModel",
          "model_module_version": "^0.17",
          "state": {
            "_model_module": "jupyter-leaflet",
            "_model_module_version": "^0.17",
            "_model_name": "LeafletFullScreenControlModel",
            "_view_count": null,
            "_view_module": "jupyter-leaflet",
            "_view_module_version": "^0.17",
            "_view_name": "LeafletFullScreenControlView",
            "options": [
              "position"
            ],
            "position": "topleft"
          }
        },
        "43f606ef203845168e3181cbdf28e18e": {
          "model_module": "jupyter-leaflet",
          "model_name": "LeafletDrawControlModel",
          "model_module_version": "^0.17",
          "state": {
            "_model_module": "jupyter-leaflet",
            "_model_module_version": "^0.17",
            "_model_name": "LeafletDrawControlModel",
            "_view_count": null,
            "_view_module": "jupyter-leaflet",
            "_view_module_version": "^0.17",
            "_view_name": "LeafletDrawControlView",
            "circle": {},
            "circlemarker": {},
            "data": [],
            "edit": true,
            "marker": {
              "shapeOptions": {
                "color": "#3388ff"
              }
            },
            "options": [
              "position"
            ],
            "polygon": {
              "shapeOptions": {}
            },
            "polyline": {
              "shapeOptions": {}
            },
            "position": "topleft",
            "rectangle": {
              "shapeOptions": {
                "color": "#3388ff"
              }
            },
            "remove": true
          }
        },
        "4de55641766f4513968b50f65f4708f9": {
          "model_module": "jupyter-leaflet",
          "model_name": "LeafletScaleControlModel",
          "model_module_version": "^0.17",
          "state": {
            "_model_module": "jupyter-leaflet",
            "_model_module_version": "^0.17",
            "_model_name": "LeafletScaleControlModel",
            "_view_count": null,
            "_view_module": "jupyter-leaflet",
            "_view_module_version": "^0.17",
            "_view_name": "LeafletScaleControlView",
            "imperial": true,
            "max_width": 100,
            "metric": true,
            "options": [
              "imperial",
              "max_width",
              "metric",
              "position",
              "update_when_idle"
            ],
            "position": "bottomleft",
            "update_when_idle": false
          }
        },
        "9e2c9b9ef1c04662b3f3052ddfa9cdec": {
          "model_module": "jupyter-leaflet",
          "model_name": "LeafletMeasureControlModel",
          "model_module_version": "^0.17",
          "state": {
            "_custom_units": {},
            "_model_module": "jupyter-leaflet",
            "_model_module_version": "^0.17",
            "_model_name": "LeafletMeasureControlModel",
            "_view_count": null,
            "_view_module": "jupyter-leaflet",
            "_view_module_version": "^0.17",
            "_view_name": "LeafletMeasureControlView",
            "active_color": "orange",
            "capture_z_index": 10000,
            "completed_color": "#C8F2BE",
            "options": [
              "active_color",
              "capture_z_index",
              "completed_color",
              "popup_options",
              "position",
              "primary_area_unit",
              "primary_length_unit",
              "secondary_area_unit",
              "secondary_length_unit"
            ],
            "popup_options": {
              "className": "leaflet-measure-resultpopup",
              "autoPanPadding": [
                10,
                10
              ]
            },
            "position": "bottomleft",
            "primary_area_unit": "acres",
            "primary_length_unit": "kilometers",
            "secondary_area_unit": null,
            "secondary_length_unit": null
          }
        },
        "a152d9fdb0a14f87b088b1b73bf6c879": {
          "model_module": "jupyter-leaflet",
          "model_name": "LeafletWidgetControlModel",
          "model_module_version": "^0.17",
          "state": {
            "_model_module": "jupyter-leaflet",
            "_model_module_version": "^0.17",
            "_model_name": "LeafletWidgetControlModel",
            "_view_count": null,
            "_view_module": "jupyter-leaflet",
            "_view_module_version": "^0.17",
            "_view_name": "LeafletWidgetControlView",
            "max_height": null,
            "max_width": null,
            "min_height": null,
            "min_width": null,
            "options": [
              "position",
              "transparent_bg"
            ],
            "position": "topright",
            "transparent_bg": false,
            "widget": "IPY_MODEL_f8bf02264ebf444e947643d0937ac6c2"
          }
        },
        "f8ab82124ca84004abc1b53af9504166": {
          "model_module": "jupyter-leaflet",
          "model_name": "LeafletAttributionControlModel",
          "model_module_version": "^0.17",
          "state": {
            "_model_module": "jupyter-leaflet",
            "_model_module_version": "^0.17",
            "_model_name": "LeafletAttributionControlModel",
            "_view_count": null,
            "_view_module": "jupyter-leaflet",
            "_view_module_version": "^0.17",
            "_view_name": "LeafletAttributionControlView",
            "options": [
              "position",
              "prefix"
            ],
            "position": "bottomright",
            "prefix": "ipyleaflet"
          }
        },
        "498e0258896b4bf08afef7fd6f237220": {
          "model_module": "jupyter-leaflet",
          "model_name": "LeafletMapStyleModel",
          "model_module_version": "^0.17",
          "state": {
            "_model_module": "jupyter-leaflet",
            "_model_module_version": "^0.17",
            "_model_name": "LeafletMapStyleModel",
            "_view_count": null,
            "_view_module": "@jupyter-widgets/base",
            "_view_module_version": "1.2.0",
            "_view_name": "StyleView",
            "cursor": "grab"
          }
        },
        "0c826745a5924dd8bde2ad1ae58fbe8f": {
          "model_module": "jupyter-leaflet",
          "model_name": "LeafletMapStyleModel",
          "model_module_version": "^0.17",
          "state": {
            "_model_module": "jupyter-leaflet",
            "_model_module_version": "^0.17",
            "_model_name": "LeafletMapStyleModel",
            "_view_count": null,
            "_view_module": "@jupyter-widgets/base",
            "_view_module_version": "1.2.0",
            "_view_name": "StyleView",
            "cursor": "move"
          }
        },
        "53bcf6666bdd496eb455c1d311d2224e": {
          "model_module": "jupyter-leaflet",
          "model_name": "LeafletTileLayerModel",
          "model_module_version": "^0.17",
          "state": {
            "_model_module": "jupyter-leaflet",
            "_model_module_version": "^0.17",
            "_model_name": "LeafletTileLayerModel",
            "_view_count": null,
            "_view_module": "jupyter-leaflet",
            "_view_module_version": "^0.17",
            "_view_name": "LeafletTileLayerView",
            "attribution": "&copy; <a href=\"https://www.openstreetmap.org/copyright\">OpenStreetMap</a> contributors",
            "base": true,
            "bottom": true,
            "bounds": null,
            "detect_retina": false,
            "loading": false,
            "max_native_zoom": null,
            "max_zoom": 19,
            "min_native_zoom": null,
            "min_zoom": 1,
            "name": "OpenStreetMap.Mapnik",
            "no_wrap": false,
            "opacity": 1,
            "options": [
              "attribution",
              "bounds",
              "detect_retina",
              "max_native_zoom",
              "max_zoom",
              "min_native_zoom",
              "min_zoom",
              "no_wrap",
              "tile_size",
              "tms",
              "zoom_offset"
            ],
            "pane": "",
            "popup": null,
            "popup_max_height": null,
            "popup_max_width": 300,
            "popup_min_width": 50,
            "show_loading": false,
            "subitems": [],
            "tile_size": 256,
            "tms": false,
            "url": "https://tile.openstreetmap.org/{z}/{x}/{y}.png",
            "visible": true,
            "zoom_offset": 0
          }
        },
        "a5efafced8e0414da48f50edf095f33a": {
          "model_module": "jupyter-leaflet",
          "model_name": "LeafletTileLayerModel",
          "model_module_version": "^0.17",
          "state": {
            "_model_module": "jupyter-leaflet",
            "_model_module_version": "^0.17",
            "_model_name": "LeafletTileLayerModel",
            "_view_count": null,
            "_view_module": "jupyter-leaflet",
            "_view_module_version": "^0.17",
            "_view_name": "LeafletTileLayerView",
            "attribution": "Google Earth Engine",
            "base": false,
            "bottom": true,
            "bounds": null,
            "detect_retina": false,
            "loading": false,
            "max_native_zoom": null,
            "max_zoom": 24,
            "min_native_zoom": null,
            "min_zoom": 0,
            "name": "Sample AOI",
            "no_wrap": false,
            "opacity": 1,
            "options": [
              "attribution",
              "bounds",
              "detect_retina",
              "max_native_zoom",
              "max_zoom",
              "min_native_zoom",
              "min_zoom",
              "no_wrap",
              "tile_size",
              "tms",
              "zoom_offset"
            ],
            "pane": "",
            "popup": null,
            "popup_max_height": null,
            "popup_max_width": 300,
            "popup_min_width": 50,
            "show_loading": false,
            "subitems": [],
            "tile_size": 256,
            "tms": false,
            "url": "https://earthengine.googleapis.com/v1/projects/earthengine-legacy/maps/3b52dfd6aef8448cfdf30e77deff8bf5-3767c480ef2b3dbedee0d1d005ee4cdf/tiles/{z}/{x}/{y}",
            "visible": true,
            "zoom_offset": 0
          }
        },
        "18578571bddf4da7b46635756291dd83": {
          "model_module": "jupyter-leaflet",
          "model_name": "LeafletTileLayerModel",
          "model_module_version": "^0.17",
          "state": {
            "_model_module": "jupyter-leaflet",
            "_model_module_version": "^0.17",
            "_model_name": "LeafletTileLayerModel",
            "_view_count": null,
            "_view_module": "jupyter-leaflet",
            "_view_module_version": "^0.17",
            "_view_name": "LeafletTileLayerView",
            "attribution": "Google Earth Engine",
            "base": false,
            "bottom": true,
            "bounds": null,
            "detect_retina": false,
            "loading": false,
            "max_native_zoom": null,
            "max_zoom": 24,
            "min_native_zoom": null,
            "min_zoom": 0,
            "name": "training sample",
            "no_wrap": false,
            "opacity": 1,
            "options": [
              "attribution",
              "bounds",
              "detect_retina",
              "max_native_zoom",
              "max_zoom",
              "min_native_zoom",
              "min_zoom",
              "no_wrap",
              "tile_size",
              "tms",
              "zoom_offset"
            ],
            "pane": "",
            "popup": null,
            "popup_max_height": null,
            "popup_max_width": 300,
            "popup_min_width": 50,
            "show_loading": false,
            "subitems": [],
            "tile_size": 256,
            "tms": false,
            "url": "https://earthengine.googleapis.com/v1/projects/earthengine-legacy/maps/db04286fd9fee2b626362c502f576818-276bf7603b1a7ea22331e163d8745d17/tiles/{z}/{x}/{y}",
            "visible": true,
            "zoom_offset": 0
          }
        },
        "43d035ddf7ea474e9bc2abd685ed81cc": {
          "model_module": "@jupyter-widgets/base",
          "model_name": "LayoutModel",
          "model_module_version": "1.2.0",
          "state": {
            "_model_module": "@jupyter-widgets/base",
            "_model_module_version": "1.2.0",
            "_model_name": "LayoutModel",
            "_view_count": null,
            "_view_module": "@jupyter-widgets/base",
            "_view_module_version": "1.2.0",
            "_view_name": "LayoutView",
            "align_content": null,
            "align_items": null,
            "align_self": null,
            "border": null,
            "bottom": null,
            "display": null,
            "flex": null,
            "flex_flow": null,
            "grid_area": null,
            "grid_auto_columns": null,
            "grid_auto_flow": null,
            "grid_auto_rows": null,
            "grid_column": null,
            "grid_gap": null,
            "grid_row": null,
            "grid_template_areas": null,
            "grid_template_columns": null,
            "grid_template_rows": null,
            "height": "600px",
            "justify_content": null,
            "justify_items": null,
            "left": null,
            "margin": null,
            "max_height": null,
            "max_width": null,
            "min_height": null,
            "min_width": null,
            "object_fit": null,
            "object_position": null,
            "order": null,
            "overflow": null,
            "overflow_x": null,
            "overflow_y": null,
            "padding": null,
            "right": null,
            "top": null,
            "visibility": null,
            "width": null
          }
        },
        "9933cdc2a13248f69a33118dd529a749": {
          "model_module": "jupyter-leaflet",
          "model_name": "LeafletMapStyleModel",
          "model_module_version": "^0.17",
          "state": {
            "_model_module": "jupyter-leaflet",
            "_model_module_version": "^0.17",
            "_model_name": "LeafletMapStyleModel",
            "_view_count": null,
            "_view_module": "@jupyter-widgets/base",
            "_view_module_version": "1.2.0",
            "_view_name": "StyleView",
            "cursor": "grab"
          }
        },
        "d2de6702cc1441db82247f5adaa231a3": {
          "model_module": "@jupyter-widgets/controls",
          "model_name": "HBoxModel",
          "model_module_version": "1.5.0",
          "state": {
            "_dom_classes": [],
            "_model_module": "@jupyter-widgets/controls",
            "_model_module_version": "1.5.0",
            "_model_name": "HBoxModel",
            "_view_count": null,
            "_view_module": "@jupyter-widgets/controls",
            "_view_module_version": "1.5.0",
            "_view_name": "HBoxView",
            "box_style": "",
            "children": [
              "IPY_MODEL_a997071f9c3b41ae88152c1acaa15ee8"
            ],
            "layout": "IPY_MODEL_f6cd823e0bfd4aa1a1359626152d33af"
          }
        },
        "f8bf02264ebf444e947643d0937ac6c2": {
          "model_module": "@jupyter-widgets/controls",
          "model_name": "VBoxModel",
          "model_module_version": "1.5.0",
          "state": {
            "_dom_classes": [],
            "_model_module": "@jupyter-widgets/controls",
            "_model_module_version": "1.5.0",
            "_model_name": "VBoxModel",
            "_view_count": null,
            "_view_module": "@jupyter-widgets/controls",
            "_view_module_version": "1.5.0",
            "_view_name": "VBoxView",
            "box_style": "",
            "children": [
              "IPY_MODEL_fd2cfb2fbbb84d73af0c092ade40baae"
            ],
            "layout": "IPY_MODEL_c96542e9e2dc4d09824c050508c3a489"
          }
        },
        "a997071f9c3b41ae88152c1acaa15ee8": {
          "model_module": "@jupyter-widgets/controls",
          "model_name": "ToggleButtonModel",
          "model_module_version": "1.5.0",
          "state": {
            "_dom_classes": [],
            "_model_module": "@jupyter-widgets/controls",
            "_model_module_version": "1.5.0",
            "_model_name": "ToggleButtonModel",
            "_view_count": null,
            "_view_module": "@jupyter-widgets/controls",
            "_view_module_version": "1.5.0",
            "_view_name": "ToggleButtonView",
            "button_style": "",
            "description": "",
            "description_tooltip": null,
            "disabled": false,
            "icon": "globe",
            "layout": "IPY_MODEL_a9984a28081745e6888cd71a1d6a8686",
            "style": "IPY_MODEL_084b78618a914f4d8332902afceca3ac",
            "tooltip": "Search location/data",
            "value": false
          }
        },
        "f6cd823e0bfd4aa1a1359626152d33af": {
          "model_module": "@jupyter-widgets/base",
          "model_name": "LayoutModel",
          "model_module_version": "1.2.0",
          "state": {
            "_model_module": "@jupyter-widgets/base",
            "_model_module_version": "1.2.0",
            "_model_name": "LayoutModel",
            "_view_count": null,
            "_view_module": "@jupyter-widgets/base",
            "_view_module_version": "1.2.0",
            "_view_name": "LayoutView",
            "align_content": null,
            "align_items": null,
            "align_self": null,
            "border": null,
            "bottom": null,
            "display": null,
            "flex": null,
            "flex_flow": null,
            "grid_area": null,
            "grid_auto_columns": null,
            "grid_auto_flow": null,
            "grid_auto_rows": null,
            "grid_column": null,
            "grid_gap": null,
            "grid_row": null,
            "grid_template_areas": null,
            "grid_template_columns": null,
            "grid_template_rows": null,
            "height": null,
            "justify_content": null,
            "justify_items": null,
            "left": null,
            "margin": null,
            "max_height": null,
            "max_width": null,
            "min_height": null,
            "min_width": null,
            "object_fit": null,
            "object_position": null,
            "order": null,
            "overflow": null,
            "overflow_x": null,
            "overflow_y": null,
            "padding": null,
            "right": null,
            "top": null,
            "visibility": null,
            "width": null
          }
        },
        "fd2cfb2fbbb84d73af0c092ade40baae": {
          "model_module": "@jupyter-widgets/controls",
          "model_name": "ToggleButtonModel",
          "model_module_version": "1.5.0",
          "state": {
            "_dom_classes": [],
            "_model_module": "@jupyter-widgets/controls",
            "_model_module_version": "1.5.0",
            "_model_name": "ToggleButtonModel",
            "_view_count": null,
            "_view_module": "@jupyter-widgets/controls",
            "_view_module_version": "1.5.0",
            "_view_name": "ToggleButtonView",
            "button_style": "",
            "description": "",
            "description_tooltip": null,
            "disabled": false,
            "icon": "wrench",
            "layout": "IPY_MODEL_6cc0836b5d364936b6544b8fddb324a1",
            "style": "IPY_MODEL_d60a5647be7240f3b01fabc1f353f6f8",
            "tooltip": "Toolbar",
            "value": false
          }
        },
        "c96542e9e2dc4d09824c050508c3a489": {
          "model_module": "@jupyter-widgets/base",
          "model_name": "LayoutModel",
          "model_module_version": "1.2.0",
          "state": {
            "_model_module": "@jupyter-widgets/base",
            "_model_module_version": "1.2.0",
            "_model_name": "LayoutModel",
            "_view_count": null,
            "_view_module": "@jupyter-widgets/base",
            "_view_module_version": "1.2.0",
            "_view_name": "LayoutView",
            "align_content": null,
            "align_items": null,
            "align_self": null,
            "border": null,
            "bottom": null,
            "display": null,
            "flex": null,
            "flex_flow": null,
            "grid_area": null,
            "grid_auto_columns": null,
            "grid_auto_flow": null,
            "grid_auto_rows": null,
            "grid_column": null,
            "grid_gap": null,
            "grid_row": null,
            "grid_template_areas": null,
            "grid_template_columns": null,
            "grid_template_rows": null,
            "height": null,
            "justify_content": null,
            "justify_items": null,
            "left": null,
            "margin": null,
            "max_height": null,
            "max_width": null,
            "min_height": null,
            "min_width": null,
            "object_fit": null,
            "object_position": null,
            "order": null,
            "overflow": null,
            "overflow_x": null,
            "overflow_y": null,
            "padding": null,
            "right": null,
            "top": null,
            "visibility": null,
            "width": null
          }
        },
        "a9984a28081745e6888cd71a1d6a8686": {
          "model_module": "@jupyter-widgets/base",
          "model_name": "LayoutModel",
          "model_module_version": "1.2.0",
          "state": {
            "_model_module": "@jupyter-widgets/base",
            "_model_module_version": "1.2.0",
            "_model_name": "LayoutModel",
            "_view_count": null,
            "_view_module": "@jupyter-widgets/base",
            "_view_module_version": "1.2.0",
            "_view_name": "LayoutView",
            "align_content": null,
            "align_items": null,
            "align_self": null,
            "border": null,
            "bottom": null,
            "display": null,
            "flex": null,
            "flex_flow": null,
            "grid_area": null,
            "grid_auto_columns": null,
            "grid_auto_flow": null,
            "grid_auto_rows": null,
            "grid_column": null,
            "grid_gap": null,
            "grid_row": null,
            "grid_template_areas": null,
            "grid_template_columns": null,
            "grid_template_rows": null,
            "height": "28px",
            "justify_content": null,
            "justify_items": null,
            "left": null,
            "margin": null,
            "max_height": null,
            "max_width": null,
            "min_height": null,
            "min_width": null,
            "object_fit": null,
            "object_position": null,
            "order": null,
            "overflow": null,
            "overflow_x": null,
            "overflow_y": null,
            "padding": "0px 0px 0px 4px",
            "right": null,
            "top": null,
            "visibility": null,
            "width": "28px"
          }
        },
        "084b78618a914f4d8332902afceca3ac": {
          "model_module": "@jupyter-widgets/controls",
          "model_name": "DescriptionStyleModel",
          "model_module_version": "1.5.0",
          "state": {
            "_model_module": "@jupyter-widgets/controls",
            "_model_module_version": "1.5.0",
            "_model_name": "DescriptionStyleModel",
            "_view_count": null,
            "_view_module": "@jupyter-widgets/base",
            "_view_module_version": "1.2.0",
            "_view_name": "StyleView",
            "description_width": ""
          }
        },
        "6cc0836b5d364936b6544b8fddb324a1": {
          "model_module": "@jupyter-widgets/base",
          "model_name": "LayoutModel",
          "model_module_version": "1.2.0",
          "state": {
            "_model_module": "@jupyter-widgets/base",
            "_model_module_version": "1.2.0",
            "_model_name": "LayoutModel",
            "_view_count": null,
            "_view_module": "@jupyter-widgets/base",
            "_view_module_version": "1.2.0",
            "_view_name": "LayoutView",
            "align_content": null,
            "align_items": null,
            "align_self": null,
            "border": null,
            "bottom": null,
            "display": null,
            "flex": null,
            "flex_flow": null,
            "grid_area": null,
            "grid_auto_columns": null,
            "grid_auto_flow": null,
            "grid_auto_rows": null,
            "grid_column": null,
            "grid_gap": null,
            "grid_row": null,
            "grid_template_areas": null,
            "grid_template_columns": null,
            "grid_template_rows": null,
            "height": "28px",
            "justify_content": null,
            "justify_items": null,
            "left": null,
            "margin": null,
            "max_height": null,
            "max_width": null,
            "min_height": null,
            "min_width": null,
            "object_fit": null,
            "object_position": null,
            "order": null,
            "overflow": null,
            "overflow_x": null,
            "overflow_y": null,
            "padding": "0px 0px 0px 4px",
            "right": null,
            "top": null,
            "visibility": null,
            "width": "28px"
          }
        },
        "d60a5647be7240f3b01fabc1f353f6f8": {
          "model_module": "@jupyter-widgets/controls",
          "model_name": "DescriptionStyleModel",
          "model_module_version": "1.5.0",
          "state": {
            "_model_module": "@jupyter-widgets/controls",
            "_model_module_version": "1.5.0",
            "_model_name": "DescriptionStyleModel",
            "_view_count": null,
            "_view_module": "@jupyter-widgets/base",
            "_view_module_version": "1.2.0",
            "_view_name": "StyleView",
            "description_width": ""
          }
        },
        "6b03d61dd16843b4a95a74c4b9acd799": {
          "model_module": "jupyter-leaflet",
          "model_name": "LeafletMapModel",
          "model_module_version": "^0.17",
          "state": {
            "_dom_classes": [],
            "_model_module": "jupyter-leaflet",
            "_model_module_version": "^0.17",
            "_model_name": "LeafletMapModel",
            "_view_count": null,
            "_view_module": "jupyter-leaflet",
            "_view_module_version": "^0.17",
            "_view_name": "LeafletMapView",
            "bottom": 769900,
            "bounce_at_zoom_limits": true,
            "box_zoom": true,
            "center": [
              43.12504316740127,
              -94.05498504638673
            ],
            "close_popup_on_click": true,
            "controls": [
              "IPY_MODEL_8898b7d321414d06b99841ba55937f5d",
              "IPY_MODEL_74e71fbf5f2049308bd1475a6b22dec0",
              "IPY_MODEL_01e64e0d61624b6a8fb787d2b3b1b457",
              "IPY_MODEL_01bb7e8306e64032b242b2f8d2756768",
              "IPY_MODEL_07d082b92f1a44e8b41114785a0a5728",
              "IPY_MODEL_e81159fd562d4f799c8649351fe8ae29",
              "IPY_MODEL_7b57e1d81ed14c56ade656af35b412b2",
              "IPY_MODEL_5ed6bf3a715a49128054385c0fe0c74e",
              "IPY_MODEL_17d09d0feab14e568f3d6469b13ff2bd"
            ],
            "crs": {
              "name": "EPSG3857",
              "custom": false
            },
            "default_style": "IPY_MODEL_da5633ac52b0402eac3759cd8218d427",
            "double_click_zoom": true,
            "dragging": true,
            "dragging_style": "IPY_MODEL_74ad99f2c98946e997ba4b043bfd1a4b",
            "east": -93.95353317260742,
            "fullscreen": false,
            "inertia": true,
            "inertia_deceleration": 3000,
            "inertia_max_speed": 1500,
            "interpolation": "bilinear",
            "keyboard": true,
            "keyboard_pan_offset": 80,
            "keyboard_zoom_offset": 1,
            "layers": [
              "IPY_MODEL_a928ca2e398645f68a78a34a595136be",
              "IPY_MODEL_b251b7d55c3d43509c53b0e3736edab2",
              "IPY_MODEL_7c815866f92643c7adc91921c30c1f8a",
              "IPY_MODEL_d12abd89397d433a85ac418b03c1dedf",
              "IPY_MODEL_73c39fec22944cb38eef439bf592fc78"
            ],
            "layout": "IPY_MODEL_d4e99635c35040cba4e66a6d32cfd540",
            "left": 500075,
            "max_zoom": 24,
            "min_zoom": null,
            "modisdate": "2023-09-16",
            "north": 43.162618434925875,
            "options": [
              "bounce_at_zoom_limits",
              "box_zoom",
              "center",
              "close_popup_on_click",
              "double_click_zoom",
              "dragging",
              "fullscreen",
              "inertia",
              "inertia_deceleration",
              "inertia_max_speed",
              "interpolation",
              "keyboard",
              "keyboard_pan_offset",
              "keyboard_zoom_offset",
              "max_zoom",
              "min_zoom",
              "prefer_canvas",
              "scroll_wheel_zoom",
              "tap",
              "tap_tolerance",
              "touch_zoom",
              "world_copy_jump",
              "zoom",
              "zoom_animation_threshold",
              "zoom_delta",
              "zoom_snap"
            ],
            "panes": {},
            "prefer_canvas": false,
            "right": 501257,
            "scroll_wheel_zoom": true,
            "south": 43.08744480560932,
            "style": "IPY_MODEL_da5633ac52b0402eac3759cd8218d427",
            "tap": true,
            "tap_tolerance": 15,
            "top": 769300,
            "touch_zoom": true,
            "west": -94.15643692016603,
            "window_url": "https://jefcusyf3c-496ff2e9c6d22116-0-colab.googleusercontent.com/outputframe.html?vrz=colab_20230914-060107_RC00_565327706",
            "world_copy_jump": false,
            "zoom": 13,
            "zoom_animation_threshold": 4,
            "zoom_delta": 1,
            "zoom_snap": 1
          }
        },
        "8898b7d321414d06b99841ba55937f5d": {
          "model_module": "jupyter-leaflet",
          "model_name": "LeafletWidgetControlModel",
          "model_module_version": "^0.17",
          "state": {
            "_model_module": "jupyter-leaflet",
            "_model_module_version": "^0.17",
            "_model_name": "LeafletWidgetControlModel",
            "_view_count": null,
            "_view_module": "jupyter-leaflet",
            "_view_module_version": "^0.17",
            "_view_name": "LeafletWidgetControlView",
            "max_height": null,
            "max_width": null,
            "min_height": null,
            "min_width": null,
            "options": [
              "position",
              "transparent_bg"
            ],
            "position": "topleft",
            "transparent_bg": false,
            "widget": "IPY_MODEL_ee11bfcbe287452fad6deb7ad9702438"
          }
        },
        "74e71fbf5f2049308bd1475a6b22dec0": {
          "model_module": "jupyter-leaflet",
          "model_name": "LeafletZoomControlModel",
          "model_module_version": "^0.17",
          "state": {
            "_model_module": "jupyter-leaflet",
            "_model_module_version": "^0.17",
            "_model_name": "LeafletZoomControlModel",
            "_view_count": null,
            "_view_module": "jupyter-leaflet",
            "_view_module_version": "^0.17",
            "_view_name": "LeafletZoomControlView",
            "options": [
              "position",
              "zoom_in_text",
              "zoom_in_title",
              "zoom_out_text",
              "zoom_out_title"
            ],
            "position": "topleft",
            "zoom_in_text": "+",
            "zoom_in_title": "Zoom in",
            "zoom_out_text": "-",
            "zoom_out_title": "Zoom out"
          }
        },
        "01e64e0d61624b6a8fb787d2b3b1b457": {
          "model_module": "jupyter-leaflet",
          "model_name": "LeafletFullScreenControlModel",
          "model_module_version": "^0.17",
          "state": {
            "_model_module": "jupyter-leaflet",
            "_model_module_version": "^0.17",
            "_model_name": "LeafletFullScreenControlModel",
            "_view_count": null,
            "_view_module": "jupyter-leaflet",
            "_view_module_version": "^0.17",
            "_view_name": "LeafletFullScreenControlView",
            "options": [
              "position"
            ],
            "position": "topleft"
          }
        },
        "01bb7e8306e64032b242b2f8d2756768": {
          "model_module": "jupyter-leaflet",
          "model_name": "LeafletDrawControlModel",
          "model_module_version": "^0.17",
          "state": {
            "_model_module": "jupyter-leaflet",
            "_model_module_version": "^0.17",
            "_model_name": "LeafletDrawControlModel",
            "_view_count": null,
            "_view_module": "jupyter-leaflet",
            "_view_module_version": "^0.17",
            "_view_name": "LeafletDrawControlView",
            "circle": {},
            "circlemarker": {},
            "data": [],
            "edit": true,
            "marker": {
              "shapeOptions": {
                "color": "#3388ff"
              }
            },
            "options": [
              "position"
            ],
            "polygon": {
              "shapeOptions": {}
            },
            "polyline": {
              "shapeOptions": {}
            },
            "position": "topleft",
            "rectangle": {
              "shapeOptions": {
                "color": "#3388ff"
              }
            },
            "remove": true
          }
        },
        "07d082b92f1a44e8b41114785a0a5728": {
          "model_module": "jupyter-leaflet",
          "model_name": "LeafletScaleControlModel",
          "model_module_version": "^0.17",
          "state": {
            "_model_module": "jupyter-leaflet",
            "_model_module_version": "^0.17",
            "_model_name": "LeafletScaleControlModel",
            "_view_count": null,
            "_view_module": "jupyter-leaflet",
            "_view_module_version": "^0.17",
            "_view_name": "LeafletScaleControlView",
            "imperial": true,
            "max_width": 100,
            "metric": true,
            "options": [
              "imperial",
              "max_width",
              "metric",
              "position",
              "update_when_idle"
            ],
            "position": "bottomleft",
            "update_when_idle": false
          }
        },
        "e81159fd562d4f799c8649351fe8ae29": {
          "model_module": "jupyter-leaflet",
          "model_name": "LeafletMeasureControlModel",
          "model_module_version": "^0.17",
          "state": {
            "_custom_units": {},
            "_model_module": "jupyter-leaflet",
            "_model_module_version": "^0.17",
            "_model_name": "LeafletMeasureControlModel",
            "_view_count": null,
            "_view_module": "jupyter-leaflet",
            "_view_module_version": "^0.17",
            "_view_name": "LeafletMeasureControlView",
            "active_color": "orange",
            "capture_z_index": 10000,
            "completed_color": "#C8F2BE",
            "options": [
              "active_color",
              "capture_z_index",
              "completed_color",
              "popup_options",
              "position",
              "primary_area_unit",
              "primary_length_unit",
              "secondary_area_unit",
              "secondary_length_unit"
            ],
            "popup_options": {
              "className": "leaflet-measure-resultpopup",
              "autoPanPadding": [
                10,
                10
              ]
            },
            "position": "bottomleft",
            "primary_area_unit": "acres",
            "primary_length_unit": "kilometers",
            "secondary_area_unit": null,
            "secondary_length_unit": null
          }
        },
        "7b57e1d81ed14c56ade656af35b412b2": {
          "model_module": "jupyter-leaflet",
          "model_name": "LeafletWidgetControlModel",
          "model_module_version": "^0.17",
          "state": {
            "_model_module": "jupyter-leaflet",
            "_model_module_version": "^0.17",
            "_model_name": "LeafletWidgetControlModel",
            "_view_count": null,
            "_view_module": "jupyter-leaflet",
            "_view_module_version": "^0.17",
            "_view_name": "LeafletWidgetControlView",
            "max_height": null,
            "max_width": null,
            "min_height": null,
            "min_width": null,
            "options": [
              "position",
              "transparent_bg"
            ],
            "position": "topright",
            "transparent_bg": false,
            "widget": "IPY_MODEL_de6079ba478148ec990e70415db27b0c"
          }
        },
        "5ed6bf3a715a49128054385c0fe0c74e": {
          "model_module": "jupyter-leaflet",
          "model_name": "LeafletAttributionControlModel",
          "model_module_version": "^0.17",
          "state": {
            "_model_module": "jupyter-leaflet",
            "_model_module_version": "^0.17",
            "_model_name": "LeafletAttributionControlModel",
            "_view_count": null,
            "_view_module": "jupyter-leaflet",
            "_view_module_version": "^0.17",
            "_view_name": "LeafletAttributionControlView",
            "options": [
              "position",
              "prefix"
            ],
            "position": "bottomright",
            "prefix": "ipyleaflet"
          }
        },
        "17d09d0feab14e568f3d6469b13ff2bd": {
          "model_module": "jupyter-leaflet",
          "model_name": "LeafletLayersControlModel",
          "model_module_version": "^0.17",
          "state": {
            "_model_module": "jupyter-leaflet",
            "_model_module_version": "^0.17",
            "_model_name": "LeafletLayersControlModel",
            "_view_count": null,
            "_view_module": "jupyter-leaflet",
            "_view_module_version": "^0.17",
            "_view_name": "LeafletLayersControlView",
            "options": [
              "position"
            ],
            "position": "topright"
          }
        },
        "da5633ac52b0402eac3759cd8218d427": {
          "model_module": "jupyter-leaflet",
          "model_name": "LeafletMapStyleModel",
          "model_module_version": "^0.17",
          "state": {
            "_model_module": "jupyter-leaflet",
            "_model_module_version": "^0.17",
            "_model_name": "LeafletMapStyleModel",
            "_view_count": null,
            "_view_module": "@jupyter-widgets/base",
            "_view_module_version": "1.2.0",
            "_view_name": "StyleView",
            "cursor": "grab"
          }
        },
        "74ad99f2c98946e997ba4b043bfd1a4b": {
          "model_module": "jupyter-leaflet",
          "model_name": "LeafletMapStyleModel",
          "model_module_version": "^0.17",
          "state": {
            "_model_module": "jupyter-leaflet",
            "_model_module_version": "^0.17",
            "_model_name": "LeafletMapStyleModel",
            "_view_count": null,
            "_view_module": "@jupyter-widgets/base",
            "_view_module_version": "1.2.0",
            "_view_name": "StyleView",
            "cursor": "move"
          }
        },
        "a928ca2e398645f68a78a34a595136be": {
          "model_module": "jupyter-leaflet",
          "model_name": "LeafletTileLayerModel",
          "model_module_version": "^0.17",
          "state": {
            "_model_module": "jupyter-leaflet",
            "_model_module_version": "^0.17",
            "_model_name": "LeafletTileLayerModel",
            "_view_count": null,
            "_view_module": "jupyter-leaflet",
            "_view_module_version": "^0.17",
            "_view_name": "LeafletTileLayerView",
            "attribution": "&copy; <a href=\"https://www.openstreetmap.org/copyright\">OpenStreetMap</a> contributors",
            "base": true,
            "bottom": true,
            "bounds": null,
            "detect_retina": false,
            "loading": false,
            "max_native_zoom": null,
            "max_zoom": 19,
            "min_native_zoom": null,
            "min_zoom": 1,
            "name": "OpenStreetMap.Mapnik",
            "no_wrap": false,
            "opacity": 1,
            "options": [
              "attribution",
              "bounds",
              "detect_retina",
              "max_native_zoom",
              "max_zoom",
              "min_native_zoom",
              "min_zoom",
              "no_wrap",
              "tile_size",
              "tms",
              "zoom_offset"
            ],
            "pane": "",
            "popup": null,
            "popup_max_height": null,
            "popup_max_width": 300,
            "popup_min_width": 50,
            "show_loading": false,
            "subitems": [],
            "tile_size": 256,
            "tms": false,
            "url": "https://tile.openstreetmap.org/{z}/{x}/{y}.png",
            "visible": true,
            "zoom_offset": 0
          }
        },
        "b251b7d55c3d43509c53b0e3736edab2": {
          "model_module": "jupyter-leaflet",
          "model_name": "LeafletTileLayerModel",
          "model_module_version": "^0.17",
          "state": {
            "_model_module": "jupyter-leaflet",
            "_model_module_version": "^0.17",
            "_model_name": "LeafletTileLayerModel",
            "_view_count": null,
            "_view_module": "jupyter-leaflet",
            "_view_module_version": "^0.17",
            "_view_name": "LeafletTileLayerView",
            "attribution": "Google Earth Engine",
            "base": false,
            "bottom": true,
            "bounds": null,
            "detect_retina": false,
            "loading": false,
            "max_native_zoom": null,
            "max_zoom": 24,
            "min_native_zoom": null,
            "min_zoom": 0,
            "name": "USDA NASS Cropland 2022",
            "no_wrap": false,
            "opacity": 1,
            "options": [
              "attribution",
              "bounds",
              "detect_retina",
              "max_native_zoom",
              "max_zoom",
              "min_native_zoom",
              "min_zoom",
              "no_wrap",
              "tile_size",
              "tms",
              "zoom_offset"
            ],
            "pane": "",
            "popup": null,
            "popup_max_height": null,
            "popup_max_width": 300,
            "popup_min_width": 50,
            "show_loading": false,
            "subitems": [],
            "tile_size": 256,
            "tms": false,
            "url": "https://earthengine.googleapis.com/v1/projects/earthengine-legacy/maps/3f932857fe9f77074d5abdc752188cf6-1ebe30b0b4d204c80033afb544ce9662/tiles/{z}/{x}/{y}",
            "visible": true,
            "zoom_offset": 0
          }
        },
        "7c815866f92643c7adc91921c30c1f8a": {
          "model_module": "jupyter-leaflet",
          "model_name": "LeafletTileLayerModel",
          "model_module_version": "^0.17",
          "state": {
            "_model_module": "jupyter-leaflet",
            "_model_module_version": "^0.17",
            "_model_name": "LeafletTileLayerModel",
            "_view_count": null,
            "_view_module": "jupyter-leaflet",
            "_view_module_version": "^0.17",
            "_view_name": "LeafletTileLayerView",
            "attribution": "Google Earth Engine",
            "base": false,
            "bottom": true,
            "bounds": null,
            "detect_retina": false,
            "loading": false,
            "max_native_zoom": null,
            "max_zoom": 24,
            "min_native_zoom": null,
            "min_zoom": 0,
            "name": "Sample AOI",
            "no_wrap": false,
            "opacity": 1,
            "options": [
              "attribution",
              "bounds",
              "detect_retina",
              "max_native_zoom",
              "max_zoom",
              "min_native_zoom",
              "min_zoom",
              "no_wrap",
              "tile_size",
              "tms",
              "zoom_offset"
            ],
            "pane": "",
            "popup": null,
            "popup_max_height": null,
            "popup_max_width": 300,
            "popup_min_width": 50,
            "show_loading": false,
            "subitems": [],
            "tile_size": 256,
            "tms": false,
            "url": "https://earthengine.googleapis.com/v1/projects/earthengine-legacy/maps/3b52dfd6aef8448cfdf30e77deff8bf5-89e01f6ddc670618883898264e2d48e3/tiles/{z}/{x}/{y}",
            "visible": true,
            "zoom_offset": 0
          }
        },
        "d12abd89397d433a85ac418b03c1dedf": {
          "model_module": "jupyter-leaflet",
          "model_name": "LeafletTileLayerModel",
          "model_module_version": "^0.17",
          "state": {
            "_model_module": "jupyter-leaflet",
            "_model_module_version": "^0.17",
            "_model_name": "LeafletTileLayerModel",
            "_view_count": null,
            "_view_module": "jupyter-leaflet",
            "_view_module_version": "^0.17",
            "_view_name": "LeafletTileLayerView",
            "attribution": "Google Earth Engine",
            "base": false,
            "bottom": true,
            "bounds": null,
            "detect_retina": false,
            "loading": false,
            "max_native_zoom": null,
            "max_zoom": 24,
            "min_native_zoom": null,
            "min_zoom": 0,
            "name": "Mean SMAP VGF:2022-06-20",
            "no_wrap": false,
            "opacity": 1,
            "options": [
              "attribution",
              "bounds",
              "detect_retina",
              "max_native_zoom",
              "max_zoom",
              "min_native_zoom",
              "min_zoom",
              "no_wrap",
              "tile_size",
              "tms",
              "zoom_offset"
            ],
            "pane": "",
            "popup": null,
            "popup_max_height": null,
            "popup_max_width": 300,
            "popup_min_width": 50,
            "show_loading": false,
            "subitems": [],
            "tile_size": 256,
            "tms": false,
            "url": "https://earthengine.googleapis.com/v1/projects/earthengine-legacy/maps/eb8f5721d13634fd4b2eb7232ed93ad1-25df9db234773546c9eddccaf1f5fdfa/tiles/{z}/{x}/{y}",
            "visible": true,
            "zoom_offset": 0
          }
        },
        "73c39fec22944cb38eef439bf592fc78": {
          "model_module": "jupyter-leaflet",
          "model_name": "LeafletTileLayerModel",
          "model_module_version": "^0.17",
          "state": {
            "_model_module": "jupyter-leaflet",
            "_model_module_version": "^0.17",
            "_model_name": "LeafletTileLayerModel",
            "_view_count": null,
            "_view_module": "jupyter-leaflet",
            "_view_module_version": "^0.17",
            "_view_name": "LeafletTileLayerView",
            "attribution": "Google Earth Engine",
            "base": false,
            "bottom": true,
            "bounds": null,
            "detect_retina": false,
            "loading": false,
            "max_native_zoom": null,
            "max_zoom": 24,
            "min_native_zoom": null,
            "min_zoom": 0,
            "name": "Mean S2 VGF:2022-06-20",
            "no_wrap": false,
            "opacity": 1,
            "options": [
              "attribution",
              "bounds",
              "detect_retina",
              "max_native_zoom",
              "max_zoom",
              "min_native_zoom",
              "min_zoom",
              "no_wrap",
              "tile_size",
              "tms",
              "zoom_offset"
            ],
            "pane": "",
            "popup": null,
            "popup_max_height": null,
            "popup_max_width": 300,
            "popup_min_width": 50,
            "show_loading": false,
            "subitems": [],
            "tile_size": 256,
            "tms": false,
            "url": "https://earthengine.googleapis.com/v1/projects/earthengine-legacy/maps/62930be13de3b204685bf925b933c0ec-f80accec05e63f4dca183a700730e07a/tiles/{z}/{x}/{y}",
            "visible": true,
            "zoom_offset": 0
          }
        },
        "d4e99635c35040cba4e66a6d32cfd540": {
          "model_module": "@jupyter-widgets/base",
          "model_name": "LayoutModel",
          "model_module_version": "1.2.0",
          "state": {
            "_model_module": "@jupyter-widgets/base",
            "_model_module_version": "1.2.0",
            "_model_name": "LayoutModel",
            "_view_count": null,
            "_view_module": "@jupyter-widgets/base",
            "_view_module_version": "1.2.0",
            "_view_name": "LayoutView",
            "align_content": null,
            "align_items": null,
            "align_self": null,
            "border": null,
            "bottom": null,
            "display": null,
            "flex": null,
            "flex_flow": null,
            "grid_area": null,
            "grid_auto_columns": null,
            "grid_auto_flow": null,
            "grid_auto_rows": null,
            "grid_column": null,
            "grid_gap": null,
            "grid_row": null,
            "grid_template_areas": null,
            "grid_template_columns": null,
            "grid_template_rows": null,
            "height": "600px",
            "justify_content": null,
            "justify_items": null,
            "left": null,
            "margin": null,
            "max_height": null,
            "max_width": null,
            "min_height": null,
            "min_width": null,
            "object_fit": null,
            "object_position": null,
            "order": null,
            "overflow": null,
            "overflow_x": null,
            "overflow_y": null,
            "padding": null,
            "right": null,
            "top": null,
            "visibility": null,
            "width": null
          }
        },
        "9952b434886548629f815324e866fb13": {
          "model_module": "jupyter-leaflet",
          "model_name": "LeafletMapStyleModel",
          "model_module_version": "^0.17",
          "state": {
            "_model_module": "jupyter-leaflet",
            "_model_module_version": "^0.17",
            "_model_name": "LeafletMapStyleModel",
            "_view_count": null,
            "_view_module": "@jupyter-widgets/base",
            "_view_module_version": "1.2.0",
            "_view_name": "StyleView",
            "cursor": "grab"
          }
        },
        "ee11bfcbe287452fad6deb7ad9702438": {
          "model_module": "@jupyter-widgets/controls",
          "model_name": "HBoxModel",
          "model_module_version": "1.5.0",
          "state": {
            "_dom_classes": [],
            "_model_module": "@jupyter-widgets/controls",
            "_model_module_version": "1.5.0",
            "_model_name": "HBoxModel",
            "_view_count": null,
            "_view_module": "@jupyter-widgets/controls",
            "_view_module_version": "1.5.0",
            "_view_name": "HBoxView",
            "box_style": "",
            "children": [
              "IPY_MODEL_05151954121b48d690498f3d075c218f"
            ],
            "layout": "IPY_MODEL_3eea36e9d0f240be908f3456107107a0"
          }
        },
        "de6079ba478148ec990e70415db27b0c": {
          "model_module": "@jupyter-widgets/controls",
          "model_name": "VBoxModel",
          "model_module_version": "1.5.0",
          "state": {
            "_dom_classes": [],
            "_model_module": "@jupyter-widgets/controls",
            "_model_module_version": "1.5.0",
            "_model_name": "VBoxModel",
            "_view_count": null,
            "_view_module": "@jupyter-widgets/controls",
            "_view_module_version": "1.5.0",
            "_view_name": "VBoxView",
            "box_style": "",
            "children": [
              "IPY_MODEL_57ec5e973a474e26989be13a88c5dc41"
            ],
            "layout": "IPY_MODEL_615e56b26f6c4e4fb9d54ad0a2a4e7b5"
          }
        },
        "05151954121b48d690498f3d075c218f": {
          "model_module": "@jupyter-widgets/controls",
          "model_name": "ToggleButtonModel",
          "model_module_version": "1.5.0",
          "state": {
            "_dom_classes": [],
            "_model_module": "@jupyter-widgets/controls",
            "_model_module_version": "1.5.0",
            "_model_name": "ToggleButtonModel",
            "_view_count": null,
            "_view_module": "@jupyter-widgets/controls",
            "_view_module_version": "1.5.0",
            "_view_name": "ToggleButtonView",
            "button_style": "",
            "description": "",
            "description_tooltip": null,
            "disabled": false,
            "icon": "globe",
            "layout": "IPY_MODEL_52af7e50136c4654843613c202a1ae58",
            "style": "IPY_MODEL_cbc37f181f284e18b9e16f18662f8c97",
            "tooltip": "Search location/data",
            "value": false
          }
        },
        "3eea36e9d0f240be908f3456107107a0": {
          "model_module": "@jupyter-widgets/base",
          "model_name": "LayoutModel",
          "model_module_version": "1.2.0",
          "state": {
            "_model_module": "@jupyter-widgets/base",
            "_model_module_version": "1.2.0",
            "_model_name": "LayoutModel",
            "_view_count": null,
            "_view_module": "@jupyter-widgets/base",
            "_view_module_version": "1.2.0",
            "_view_name": "LayoutView",
            "align_content": null,
            "align_items": null,
            "align_self": null,
            "border": null,
            "bottom": null,
            "display": null,
            "flex": null,
            "flex_flow": null,
            "grid_area": null,
            "grid_auto_columns": null,
            "grid_auto_flow": null,
            "grid_auto_rows": null,
            "grid_column": null,
            "grid_gap": null,
            "grid_row": null,
            "grid_template_areas": null,
            "grid_template_columns": null,
            "grid_template_rows": null,
            "height": null,
            "justify_content": null,
            "justify_items": null,
            "left": null,
            "margin": null,
            "max_height": null,
            "max_width": null,
            "min_height": null,
            "min_width": null,
            "object_fit": null,
            "object_position": null,
            "order": null,
            "overflow": null,
            "overflow_x": null,
            "overflow_y": null,
            "padding": null,
            "right": null,
            "top": null,
            "visibility": null,
            "width": null
          }
        },
        "57ec5e973a474e26989be13a88c5dc41": {
          "model_module": "@jupyter-widgets/controls",
          "model_name": "ToggleButtonModel",
          "model_module_version": "1.5.0",
          "state": {
            "_dom_classes": [],
            "_model_module": "@jupyter-widgets/controls",
            "_model_module_version": "1.5.0",
            "_model_name": "ToggleButtonModel",
            "_view_count": null,
            "_view_module": "@jupyter-widgets/controls",
            "_view_module_version": "1.5.0",
            "_view_name": "ToggleButtonView",
            "button_style": "",
            "description": "",
            "description_tooltip": null,
            "disabled": false,
            "icon": "wrench",
            "layout": "IPY_MODEL_453f3a9e3bdf42ae96595343150789f0",
            "style": "IPY_MODEL_eae07cdbfa2c41e6b43302eaabfb61c4",
            "tooltip": "Toolbar",
            "value": false
          }
        },
        "615e56b26f6c4e4fb9d54ad0a2a4e7b5": {
          "model_module": "@jupyter-widgets/base",
          "model_name": "LayoutModel",
          "model_module_version": "1.2.0",
          "state": {
            "_model_module": "@jupyter-widgets/base",
            "_model_module_version": "1.2.0",
            "_model_name": "LayoutModel",
            "_view_count": null,
            "_view_module": "@jupyter-widgets/base",
            "_view_module_version": "1.2.0",
            "_view_name": "LayoutView",
            "align_content": null,
            "align_items": null,
            "align_self": null,
            "border": null,
            "bottom": null,
            "display": null,
            "flex": null,
            "flex_flow": null,
            "grid_area": null,
            "grid_auto_columns": null,
            "grid_auto_flow": null,
            "grid_auto_rows": null,
            "grid_column": null,
            "grid_gap": null,
            "grid_row": null,
            "grid_template_areas": null,
            "grid_template_columns": null,
            "grid_template_rows": null,
            "height": null,
            "justify_content": null,
            "justify_items": null,
            "left": null,
            "margin": null,
            "max_height": null,
            "max_width": null,
            "min_height": null,
            "min_width": null,
            "object_fit": null,
            "object_position": null,
            "order": null,
            "overflow": null,
            "overflow_x": null,
            "overflow_y": null,
            "padding": null,
            "right": null,
            "top": null,
            "visibility": null,
            "width": null
          }
        },
        "52af7e50136c4654843613c202a1ae58": {
          "model_module": "@jupyter-widgets/base",
          "model_name": "LayoutModel",
          "model_module_version": "1.2.0",
          "state": {
            "_model_module": "@jupyter-widgets/base",
            "_model_module_version": "1.2.0",
            "_model_name": "LayoutModel",
            "_view_count": null,
            "_view_module": "@jupyter-widgets/base",
            "_view_module_version": "1.2.0",
            "_view_name": "LayoutView",
            "align_content": null,
            "align_items": null,
            "align_self": null,
            "border": null,
            "bottom": null,
            "display": null,
            "flex": null,
            "flex_flow": null,
            "grid_area": null,
            "grid_auto_columns": null,
            "grid_auto_flow": null,
            "grid_auto_rows": null,
            "grid_column": null,
            "grid_gap": null,
            "grid_row": null,
            "grid_template_areas": null,
            "grid_template_columns": null,
            "grid_template_rows": null,
            "height": "28px",
            "justify_content": null,
            "justify_items": null,
            "left": null,
            "margin": null,
            "max_height": null,
            "max_width": null,
            "min_height": null,
            "min_width": null,
            "object_fit": null,
            "object_position": null,
            "order": null,
            "overflow": null,
            "overflow_x": null,
            "overflow_y": null,
            "padding": "0px 0px 0px 4px",
            "right": null,
            "top": null,
            "visibility": null,
            "width": "28px"
          }
        },
        "cbc37f181f284e18b9e16f18662f8c97": {
          "model_module": "@jupyter-widgets/controls",
          "model_name": "DescriptionStyleModel",
          "model_module_version": "1.5.0",
          "state": {
            "_model_module": "@jupyter-widgets/controls",
            "_model_module_version": "1.5.0",
            "_model_name": "DescriptionStyleModel",
            "_view_count": null,
            "_view_module": "@jupyter-widgets/base",
            "_view_module_version": "1.2.0",
            "_view_name": "StyleView",
            "description_width": ""
          }
        },
        "453f3a9e3bdf42ae96595343150789f0": {
          "model_module": "@jupyter-widgets/base",
          "model_name": "LayoutModel",
          "model_module_version": "1.2.0",
          "state": {
            "_model_module": "@jupyter-widgets/base",
            "_model_module_version": "1.2.0",
            "_model_name": "LayoutModel",
            "_view_count": null,
            "_view_module": "@jupyter-widgets/base",
            "_view_module_version": "1.2.0",
            "_view_name": "LayoutView",
            "align_content": null,
            "align_items": null,
            "align_self": null,
            "border": null,
            "bottom": null,
            "display": null,
            "flex": null,
            "flex_flow": null,
            "grid_area": null,
            "grid_auto_columns": null,
            "grid_auto_flow": null,
            "grid_auto_rows": null,
            "grid_column": null,
            "grid_gap": null,
            "grid_row": null,
            "grid_template_areas": null,
            "grid_template_columns": null,
            "grid_template_rows": null,
            "height": "28px",
            "justify_content": null,
            "justify_items": null,
            "left": null,
            "margin": null,
            "max_height": null,
            "max_width": null,
            "min_height": null,
            "min_width": null,
            "object_fit": null,
            "object_position": null,
            "order": null,
            "overflow": null,
            "overflow_x": null,
            "overflow_y": null,
            "padding": "0px 0px 0px 4px",
            "right": null,
            "top": null,
            "visibility": null,
            "width": "28px"
          }
        },
        "eae07cdbfa2c41e6b43302eaabfb61c4": {
          "model_module": "@jupyter-widgets/controls",
          "model_name": "DescriptionStyleModel",
          "model_module_version": "1.5.0",
          "state": {
            "_model_module": "@jupyter-widgets/controls",
            "_model_module_version": "1.5.0",
            "_model_name": "DescriptionStyleModel",
            "_view_count": null,
            "_view_module": "@jupyter-widgets/base",
            "_view_module_version": "1.2.0",
            "_view_name": "StyleView",
            "description_width": ""
          }
        }
      }
    }
  },
  "cells": [
    {
      "cell_type": "markdown",
      "metadata": {
        "id": "view-in-github",
        "colab_type": "text"
      },
      "source": [
        "<a href=\"https://colab.research.google.com/github/chchang1990/HR_VGF_S2_ML/blob/main/HR_VGFs_SMAP_S2_ML.ipynb\" target=\"_parent\"><img src=\"https://colab.research.google.com/assets/colab-badge.svg\" alt=\"Open In Colab\"/></a>"
      ]
    },
    {
      "cell_type": "markdown",
      "source": [
        "# **Generating High Resolution (10-m) Vegetation Greenness Fraction using Sentinel-2 and SMAP imagery, and Machine Learning**"
      ],
      "metadata": {
        "id": "StjqW7vXKSrN"
      }
    },
    {
      "cell_type": "markdown",
      "source": [
        "**Vegetation Greenness Fraction (VGF)** describes the proportion of green vegetation over an area. High resolution VGF data is widely used in many aspects. One of its applications is to **monitor the vegetation growth, and crop yields, which provide valuable insight for agriculture activity** (<a href=\"https://www.mdpi.com/2072-4292/11/19/2324\">Tao et al., 2019</a>).\n",
        "\n",
        "Conventionally, VGF are commonly calculated with the **\"<i>relative vegetation abundance algorithm</i>\" by leveraging vegetation index (VI) derived from remotely sensed data**. Simply put, this algorithm calculates VGF as the ratio between the instaneous and the maximal VIs relative to the bare-soil VI. However, **this algorithm requires accurate maximal and bare-soil VIs to give us a skillful VGF estimation, which is quite challenging since they can vary in different geographic regions, and vegetation types** (<a href=\"https://www.sciencedirect.com/science/article/pii/S0924271619302783\">Gao et al., 2020</a>). The level 4 product of the Soil Moisture Active Passive (SMAP) satellite mission, SPL4SMGP, provides the VGF data. However, its 9-km spatial resolution is coarse and may not be fine enough for practical use.\n",
        "\n",
        "In this Colab script, **I demonstrated a machine learning-based approach to generate high-resolution (10-m) VGF from the Sentinel-2 (S2) imagery by leveraging the Google Earth Engine**. Specifically, I used randomly sampled data from coincident historical S2 Normalized Difference Vegetation Index (NDVI) and SMAP VGF as training data to train a random forest regression model. With this model, any updated high-resolution (10-m) S2 NDVI can be used as input to generate the corresponding high-resolution (10-m) VGF."
      ],
      "metadata": {
        "id": "4ketlKSMKqeF"
      }
    },
    {
      "cell_type": "markdown",
      "source": [
        "# Required Package preparation"
      ],
      "metadata": {
        "id": "OPW_VFibwKI7"
      }
    },
    {
      "cell_type": "markdown",
      "source": [
        "**Install required packages**"
      ],
      "metadata": {
        "id": "AWy8jLiHY5qY"
      }
    },
    {
      "cell_type": "code",
      "source": [
        "!pip install geemap rioxarray"
      ],
      "metadata": {
        "colab": {
          "base_uri": "https://localhost:8080/"
        },
        "id": "o96Ma5vaY51b",
        "outputId": "2411fd32-d7ef-44ba-ef02-ae630fa6d035"
      },
      "execution_count": null,
      "outputs": [
        {
          "output_type": "stream",
          "name": "stdout",
          "text": [
            "Requirement already satisfied: geemap in /usr/local/lib/python3.10/dist-packages (0.26.0)\n",
            "Collecting rioxarray\n",
            "  Downloading rioxarray-0.15.0-py3-none-any.whl (53 kB)\n",
            "\u001b[2K     \u001b[90m━━━━━━━━━━━━━━━━━━━━━━━━━━━━━━━━━━━━━━━━\u001b[0m \u001b[32m53.7/53.7 kB\u001b[0m \u001b[31m2.2 MB/s\u001b[0m eta \u001b[36m0:00:00\u001b[0m\n",
            "\u001b[?25hRequirement already satisfied: bqplot in /usr/local/lib/python3.10/dist-packages (from geemap) (0.12.40)\n",
            "Requirement already satisfied: colour in /usr/local/lib/python3.10/dist-packages (from geemap) (0.1.5)\n",
            "Requirement already satisfied: earthengine-api>=0.1.347 in /usr/local/lib/python3.10/dist-packages (from geemap) (0.1.368)\n",
            "Requirement already satisfied: eerepr>=0.0.4 in /usr/local/lib/python3.10/dist-packages (from geemap) (0.0.4)\n",
            "Requirement already satisfied: folium>=0.13.0 in /usr/local/lib/python3.10/dist-packages (from geemap) (0.14.0)\n",
            "Requirement already satisfied: geocoder in /usr/local/lib/python3.10/dist-packages (from geemap) (1.38.1)\n",
            "Requirement already satisfied: ipyevents in /usr/local/lib/python3.10/dist-packages (from geemap) (2.0.2)\n",
            "Requirement already satisfied: ipyfilechooser>=0.6.0 in /usr/local/lib/python3.10/dist-packages (from geemap) (0.6.0)\n",
            "Requirement already satisfied: ipyleaflet>=0.17.0 in /usr/local/lib/python3.10/dist-packages (from geemap) (0.17.3)\n",
            "Requirement already satisfied: ipytree in /usr/local/lib/python3.10/dist-packages (from geemap) (0.2.2)\n",
            "Requirement already satisfied: matplotlib in /usr/local/lib/python3.10/dist-packages (from geemap) (3.7.1)\n",
            "Requirement already satisfied: numpy in /usr/local/lib/python3.10/dist-packages (from geemap) (1.23.5)\n",
            "Requirement already satisfied: pandas in /usr/local/lib/python3.10/dist-packages (from geemap) (1.5.3)\n",
            "Requirement already satisfied: plotly in /usr/local/lib/python3.10/dist-packages (from geemap) (5.15.0)\n",
            "Requirement already satisfied: pyperclip in /usr/local/lib/python3.10/dist-packages (from geemap) (1.8.2)\n",
            "Requirement already satisfied: pyshp>=2.1.3 in /usr/local/lib/python3.10/dist-packages (from geemap) (2.3.1)\n",
            "Requirement already satisfied: python-box in /usr/local/lib/python3.10/dist-packages (from geemap) (7.1.1)\n",
            "Requirement already satisfied: scooby in /usr/local/lib/python3.10/dist-packages (from geemap) (0.7.2)\n",
            "Requirement already satisfied: packaging in /usr/local/lib/python3.10/dist-packages (from rioxarray) (23.1)\n",
            "Collecting rasterio>=1.2 (from rioxarray)\n",
            "  Downloading rasterio-1.3.8-cp310-cp310-manylinux_2_17_x86_64.manylinux2014_x86_64.whl (21.3 MB)\n",
            "\u001b[2K     \u001b[90m━━━━━━━━━━━━━━━━━━━━━━━━━━━━━━━━━━━━━━━━\u001b[0m \u001b[32m21.3/21.3 MB\u001b[0m \u001b[31m67.6 MB/s\u001b[0m eta \u001b[36m0:00:00\u001b[0m\n",
            "\u001b[?25hRequirement already satisfied: xarray>=0.17 in /usr/local/lib/python3.10/dist-packages (from rioxarray) (2023.7.0)\n",
            "Requirement already satisfied: pyproj>=2.2 in /usr/local/lib/python3.10/dist-packages (from rioxarray) (3.6.0)\n",
            "Requirement already satisfied: google-cloud-storage in /usr/local/lib/python3.10/dist-packages (from earthengine-api>=0.1.347->geemap) (2.8.0)\n",
            "Requirement already satisfied: google-api-python-client>=1.12.1 in /usr/local/lib/python3.10/dist-packages (from earthengine-api>=0.1.347->geemap) (2.84.0)\n",
            "Requirement already satisfied: google-auth>=1.4.1 in /usr/local/lib/python3.10/dist-packages (from earthengine-api>=0.1.347->geemap) (2.17.3)\n",
            "Requirement already satisfied: google-auth-httplib2>=0.0.3 in /usr/local/lib/python3.10/dist-packages (from earthengine-api>=0.1.347->geemap) (0.1.0)\n",
            "Requirement already satisfied: httplib2<1dev,>=0.9.2 in /usr/local/lib/python3.10/dist-packages (from earthengine-api>=0.1.347->geemap) (0.22.0)\n",
            "Requirement already satisfied: requests in /usr/local/lib/python3.10/dist-packages (from earthengine-api>=0.1.347->geemap) (2.31.0)\n",
            "Requirement already satisfied: branca>=0.6.0 in /usr/local/lib/python3.10/dist-packages (from folium>=0.13.0->geemap) (0.6.0)\n",
            "Requirement already satisfied: jinja2>=2.9 in /usr/local/lib/python3.10/dist-packages (from folium>=0.13.0->geemap) (3.1.2)\n",
            "Requirement already satisfied: ipywidgets in /usr/local/lib/python3.10/dist-packages (from ipyfilechooser>=0.6.0->geemap) (7.7.1)\n",
            "Requirement already satisfied: traittypes<3,>=0.2.1 in /usr/local/lib/python3.10/dist-packages (from ipyleaflet>=0.17.0->geemap) (0.2.1)\n",
            "Requirement already satisfied: xyzservices>=2021.8.1 in /usr/local/lib/python3.10/dist-packages (from ipyleaflet>=0.17.0->geemap) (2023.7.0)\n",
            "Requirement already satisfied: certifi in /usr/local/lib/python3.10/dist-packages (from pyproj>=2.2->rioxarray) (2023.7.22)\n",
            "Collecting affine (from rasterio>=1.2->rioxarray)\n",
            "  Downloading affine-2.4.0-py3-none-any.whl (15 kB)\n",
            "Requirement already satisfied: attrs in /usr/local/lib/python3.10/dist-packages (from rasterio>=1.2->rioxarray) (23.1.0)\n",
            "Requirement already satisfied: click>=4.0 in /usr/local/lib/python3.10/dist-packages (from rasterio>=1.2->rioxarray) (8.1.7)\n",
            "Requirement already satisfied: cligj>=0.5 in /usr/local/lib/python3.10/dist-packages (from rasterio>=1.2->rioxarray) (0.7.2)\n",
            "Collecting snuggs>=1.4.1 (from rasterio>=1.2->rioxarray)\n",
            "  Downloading snuggs-1.4.7-py3-none-any.whl (5.4 kB)\n",
            "Requirement already satisfied: click-plugins in /usr/local/lib/python3.10/dist-packages (from rasterio>=1.2->rioxarray) (1.1.1)\n",
            "Requirement already satisfied: setuptools in /usr/local/lib/python3.10/dist-packages (from rasterio>=1.2->rioxarray) (67.7.2)\n",
            "Requirement already satisfied: python-dateutil>=2.8.1 in /usr/local/lib/python3.10/dist-packages (from pandas->geemap) (2.8.2)\n",
            "Requirement already satisfied: pytz>=2020.1 in /usr/local/lib/python3.10/dist-packages (from pandas->geemap) (2023.3.post1)\n",
            "Requirement already satisfied: traitlets>=4.3.0 in /usr/local/lib/python3.10/dist-packages (from bqplot->geemap) (5.7.1)\n",
            "Requirement already satisfied: future in /usr/local/lib/python3.10/dist-packages (from geocoder->geemap) (0.18.3)\n",
            "Requirement already satisfied: ratelim in /usr/local/lib/python3.10/dist-packages (from geocoder->geemap) (0.1.6)\n",
            "Requirement already satisfied: six in /usr/local/lib/python3.10/dist-packages (from geocoder->geemap) (1.16.0)\n",
            "Requirement already satisfied: contourpy>=1.0.1 in /usr/local/lib/python3.10/dist-packages (from matplotlib->geemap) (1.1.0)\n",
            "Requirement already satisfied: cycler>=0.10 in /usr/local/lib/python3.10/dist-packages (from matplotlib->geemap) (0.11.0)\n",
            "Requirement already satisfied: fonttools>=4.22.0 in /usr/local/lib/python3.10/dist-packages (from matplotlib->geemap) (4.42.1)\n",
            "Requirement already satisfied: kiwisolver>=1.0.1 in /usr/local/lib/python3.10/dist-packages (from matplotlib->geemap) (1.4.5)\n",
            "Requirement already satisfied: pillow>=6.2.0 in /usr/local/lib/python3.10/dist-packages (from matplotlib->geemap) (9.4.0)\n",
            "Requirement already satisfied: pyparsing>=2.3.1 in /usr/local/lib/python3.10/dist-packages (from matplotlib->geemap) (3.1.1)\n",
            "Requirement already satisfied: tenacity>=6.2.0 in /usr/local/lib/python3.10/dist-packages (from plotly->geemap) (8.2.3)\n",
            "Requirement already satisfied: google-api-core!=2.0.*,!=2.1.*,!=2.2.*,!=2.3.0,<3.0.0dev,>=1.31.5 in /usr/local/lib/python3.10/dist-packages (from google-api-python-client>=1.12.1->earthengine-api>=0.1.347->geemap) (2.11.1)\n",
            "Requirement already satisfied: uritemplate<5,>=3.0.1 in /usr/local/lib/python3.10/dist-packages (from google-api-python-client>=1.12.1->earthengine-api>=0.1.347->geemap) (4.1.1)\n",
            "Requirement already satisfied: cachetools<6.0,>=2.0.0 in /usr/local/lib/python3.10/dist-packages (from google-auth>=1.4.1->earthengine-api>=0.1.347->geemap) (5.3.1)\n",
            "Requirement already satisfied: pyasn1-modules>=0.2.1 in /usr/local/lib/python3.10/dist-packages (from google-auth>=1.4.1->earthengine-api>=0.1.347->geemap) (0.3.0)\n",
            "Requirement already satisfied: rsa<5,>=3.1.4 in /usr/local/lib/python3.10/dist-packages (from google-auth>=1.4.1->earthengine-api>=0.1.347->geemap) (4.9)\n",
            "Requirement already satisfied: ipykernel>=4.5.1 in /usr/local/lib/python3.10/dist-packages (from ipywidgets->ipyfilechooser>=0.6.0->geemap) (5.5.6)\n",
            "Requirement already satisfied: ipython-genutils~=0.2.0 in /usr/local/lib/python3.10/dist-packages (from ipywidgets->ipyfilechooser>=0.6.0->geemap) (0.2.0)\n",
            "Requirement already satisfied: widgetsnbextension~=3.6.0 in /usr/local/lib/python3.10/dist-packages (from ipywidgets->ipyfilechooser>=0.6.0->geemap) (3.6.5)\n",
            "Requirement already satisfied: ipython>=4.0.0 in /usr/local/lib/python3.10/dist-packages (from ipywidgets->ipyfilechooser>=0.6.0->geemap) (7.34.0)\n",
            "Requirement already satisfied: jupyterlab-widgets>=1.0.0 in /usr/local/lib/python3.10/dist-packages (from ipywidgets->ipyfilechooser>=0.6.0->geemap) (3.0.8)\n",
            "Requirement already satisfied: MarkupSafe>=2.0 in /usr/local/lib/python3.10/dist-packages (from jinja2>=2.9->folium>=0.13.0->geemap) (2.1.3)\n",
            "Requirement already satisfied: google-cloud-core<3.0dev,>=2.3.0 in /usr/local/lib/python3.10/dist-packages (from google-cloud-storage->earthengine-api>=0.1.347->geemap) (2.3.3)\n",
            "Requirement already satisfied: google-resumable-media>=2.3.2 in /usr/local/lib/python3.10/dist-packages (from google-cloud-storage->earthengine-api>=0.1.347->geemap) (2.6.0)\n",
            "Requirement already satisfied: charset-normalizer<4,>=2 in /usr/local/lib/python3.10/dist-packages (from requests->earthengine-api>=0.1.347->geemap) (3.2.0)\n",
            "Requirement already satisfied: idna<4,>=2.5 in /usr/local/lib/python3.10/dist-packages (from requests->earthengine-api>=0.1.347->geemap) (3.4)\n",
            "Requirement already satisfied: urllib3<3,>=1.21.1 in /usr/local/lib/python3.10/dist-packages (from requests->earthengine-api>=0.1.347->geemap) (2.0.4)\n",
            "Requirement already satisfied: decorator in /usr/local/lib/python3.10/dist-packages (from ratelim->geocoder->geemap) (4.4.2)\n",
            "Requirement already satisfied: googleapis-common-protos<2.0.dev0,>=1.56.2 in /usr/local/lib/python3.10/dist-packages (from google-api-core!=2.0.*,!=2.1.*,!=2.2.*,!=2.3.0,<3.0.0dev,>=1.31.5->google-api-python-client>=1.12.1->earthengine-api>=0.1.347->geemap) (1.60.0)\n",
            "Requirement already satisfied: protobuf!=3.20.0,!=3.20.1,!=4.21.0,!=4.21.1,!=4.21.2,!=4.21.3,!=4.21.4,!=4.21.5,<5.0.0.dev0,>=3.19.5 in /usr/local/lib/python3.10/dist-packages (from google-api-core!=2.0.*,!=2.1.*,!=2.2.*,!=2.3.0,<3.0.0dev,>=1.31.5->google-api-python-client>=1.12.1->earthengine-api>=0.1.347->geemap) (3.20.3)\n",
            "Requirement already satisfied: google-crc32c<2.0dev,>=1.0 in /usr/local/lib/python3.10/dist-packages (from google-resumable-media>=2.3.2->google-cloud-storage->earthengine-api>=0.1.347->geemap) (1.5.0)\n",
            "Requirement already satisfied: jupyter-client in /usr/local/lib/python3.10/dist-packages (from ipykernel>=4.5.1->ipywidgets->ipyfilechooser>=0.6.0->geemap) (6.1.12)\n",
            "Requirement already satisfied: tornado>=4.2 in /usr/local/lib/python3.10/dist-packages (from ipykernel>=4.5.1->ipywidgets->ipyfilechooser>=0.6.0->geemap) (6.3.2)\n",
            "Collecting jedi>=0.16 (from ipython>=4.0.0->ipywidgets->ipyfilechooser>=0.6.0->geemap)\n",
            "  Downloading jedi-0.19.0-py2.py3-none-any.whl (1.6 MB)\n",
            "\u001b[2K     \u001b[90m━━━━━━━━━━━━━━━━━━━━━━━━━━━━━━━━━━━━━━━━\u001b[0m \u001b[32m1.6/1.6 MB\u001b[0m \u001b[31m33.8 MB/s\u001b[0m eta \u001b[36m0:00:00\u001b[0m\n",
            "\u001b[?25hRequirement already satisfied: pickleshare in /usr/local/lib/python3.10/dist-packages (from ipython>=4.0.0->ipywidgets->ipyfilechooser>=0.6.0->geemap) (0.7.5)\n",
            "Requirement already satisfied: prompt-toolkit!=3.0.0,!=3.0.1,<3.1.0,>=2.0.0 in /usr/local/lib/python3.10/dist-packages (from ipython>=4.0.0->ipywidgets->ipyfilechooser>=0.6.0->geemap) (3.0.39)\n",
            "Requirement already satisfied: pygments in /usr/local/lib/python3.10/dist-packages (from ipython>=4.0.0->ipywidgets->ipyfilechooser>=0.6.0->geemap) (2.16.1)\n",
            "Requirement already satisfied: backcall in /usr/local/lib/python3.10/dist-packages (from ipython>=4.0.0->ipywidgets->ipyfilechooser>=0.6.0->geemap) (0.2.0)\n",
            "Requirement already satisfied: matplotlib-inline in /usr/local/lib/python3.10/dist-packages (from ipython>=4.0.0->ipywidgets->ipyfilechooser>=0.6.0->geemap) (0.1.6)\n",
            "Requirement already satisfied: pexpect>4.3 in /usr/local/lib/python3.10/dist-packages (from ipython>=4.0.0->ipywidgets->ipyfilechooser>=0.6.0->geemap) (4.8.0)\n",
            "Requirement already satisfied: pyasn1<0.6.0,>=0.4.6 in /usr/local/lib/python3.10/dist-packages (from pyasn1-modules>=0.2.1->google-auth>=1.4.1->earthengine-api>=0.1.347->geemap) (0.5.0)\n",
            "Requirement already satisfied: notebook>=4.4.1 in /usr/local/lib/python3.10/dist-packages (from widgetsnbextension~=3.6.0->ipywidgets->ipyfilechooser>=0.6.0->geemap) (6.5.5)\n",
            "Requirement already satisfied: parso<0.9.0,>=0.8.3 in /usr/local/lib/python3.10/dist-packages (from jedi>=0.16->ipython>=4.0.0->ipywidgets->ipyfilechooser>=0.6.0->geemap) (0.8.3)\n",
            "Requirement already satisfied: pyzmq<25,>=17 in /usr/local/lib/python3.10/dist-packages (from notebook>=4.4.1->widgetsnbextension~=3.6.0->ipywidgets->ipyfilechooser>=0.6.0->geemap) (23.2.1)\n",
            "Requirement already satisfied: argon2-cffi in /usr/local/lib/python3.10/dist-packages (from notebook>=4.4.1->widgetsnbextension~=3.6.0->ipywidgets->ipyfilechooser>=0.6.0->geemap) (23.1.0)\n",
            "Requirement already satisfied: jupyter-core>=4.6.1 in /usr/local/lib/python3.10/dist-packages (from notebook>=4.4.1->widgetsnbextension~=3.6.0->ipywidgets->ipyfilechooser>=0.6.0->geemap) (5.3.1)\n",
            "Requirement already satisfied: nbformat in /usr/local/lib/python3.10/dist-packages (from notebook>=4.4.1->widgetsnbextension~=3.6.0->ipywidgets->ipyfilechooser>=0.6.0->geemap) (5.9.2)\n",
            "Requirement already satisfied: nbconvert>=5 in /usr/local/lib/python3.10/dist-packages (from notebook>=4.4.1->widgetsnbextension~=3.6.0->ipywidgets->ipyfilechooser>=0.6.0->geemap) (6.5.4)\n",
            "Requirement already satisfied: nest-asyncio>=1.5 in /usr/local/lib/python3.10/dist-packages (from notebook>=4.4.1->widgetsnbextension~=3.6.0->ipywidgets->ipyfilechooser>=0.6.0->geemap) (1.5.7)\n",
            "Requirement already satisfied: Send2Trash>=1.8.0 in /usr/local/lib/python3.10/dist-packages (from notebook>=4.4.1->widgetsnbextension~=3.6.0->ipywidgets->ipyfilechooser>=0.6.0->geemap) (1.8.2)\n",
            "Requirement already satisfied: terminado>=0.8.3 in /usr/local/lib/python3.10/dist-packages (from notebook>=4.4.1->widgetsnbextension~=3.6.0->ipywidgets->ipyfilechooser>=0.6.0->geemap) (0.17.1)\n",
            "Requirement already satisfied: prometheus-client in /usr/local/lib/python3.10/dist-packages (from notebook>=4.4.1->widgetsnbextension~=3.6.0->ipywidgets->ipyfilechooser>=0.6.0->geemap) (0.17.1)\n",
            "Requirement already satisfied: nbclassic>=0.4.7 in /usr/local/lib/python3.10/dist-packages (from notebook>=4.4.1->widgetsnbextension~=3.6.0->ipywidgets->ipyfilechooser>=0.6.0->geemap) (1.0.0)\n",
            "Requirement already satisfied: ptyprocess>=0.5 in /usr/local/lib/python3.10/dist-packages (from pexpect>4.3->ipython>=4.0.0->ipywidgets->ipyfilechooser>=0.6.0->geemap) (0.7.0)\n",
            "Requirement already satisfied: wcwidth in /usr/local/lib/python3.10/dist-packages (from prompt-toolkit!=3.0.0,!=3.0.1,<3.1.0,>=2.0.0->ipython>=4.0.0->ipywidgets->ipyfilechooser>=0.6.0->geemap) (0.2.6)\n",
            "Requirement already satisfied: platformdirs>=2.5 in /usr/local/lib/python3.10/dist-packages (from jupyter-core>=4.6.1->notebook>=4.4.1->widgetsnbextension~=3.6.0->ipywidgets->ipyfilechooser>=0.6.0->geemap) (3.10.0)\n",
            "Requirement already satisfied: jupyter-server>=1.8 in /usr/local/lib/python3.10/dist-packages (from nbclassic>=0.4.7->notebook>=4.4.1->widgetsnbextension~=3.6.0->ipywidgets->ipyfilechooser>=0.6.0->geemap) (1.24.0)\n",
            "Requirement already satisfied: notebook-shim>=0.2.3 in /usr/local/lib/python3.10/dist-packages (from nbclassic>=0.4.7->notebook>=4.4.1->widgetsnbextension~=3.6.0->ipywidgets->ipyfilechooser>=0.6.0->geemap) (0.2.3)\n",
            "Requirement already satisfied: lxml in /usr/local/lib/python3.10/dist-packages (from nbconvert>=5->notebook>=4.4.1->widgetsnbextension~=3.6.0->ipywidgets->ipyfilechooser>=0.6.0->geemap) (4.9.3)\n",
            "Requirement already satisfied: beautifulsoup4 in /usr/local/lib/python3.10/dist-packages (from nbconvert>=5->notebook>=4.4.1->widgetsnbextension~=3.6.0->ipywidgets->ipyfilechooser>=0.6.0->geemap) (4.11.2)\n",
            "Requirement already satisfied: bleach in /usr/local/lib/python3.10/dist-packages (from nbconvert>=5->notebook>=4.4.1->widgetsnbextension~=3.6.0->ipywidgets->ipyfilechooser>=0.6.0->geemap) (6.0.0)\n",
            "Requirement already satisfied: defusedxml in /usr/local/lib/python3.10/dist-packages (from nbconvert>=5->notebook>=4.4.1->widgetsnbextension~=3.6.0->ipywidgets->ipyfilechooser>=0.6.0->geemap) (0.7.1)\n",
            "Requirement already satisfied: entrypoints>=0.2.2 in /usr/local/lib/python3.10/dist-packages (from nbconvert>=5->notebook>=4.4.1->widgetsnbextension~=3.6.0->ipywidgets->ipyfilechooser>=0.6.0->geemap) (0.4)\n",
            "Requirement already satisfied: jupyterlab-pygments in /usr/local/lib/python3.10/dist-packages (from nbconvert>=5->notebook>=4.4.1->widgetsnbextension~=3.6.0->ipywidgets->ipyfilechooser>=0.6.0->geemap) (0.2.2)\n",
            "Requirement already satisfied: mistune<2,>=0.8.1 in /usr/local/lib/python3.10/dist-packages (from nbconvert>=5->notebook>=4.4.1->widgetsnbextension~=3.6.0->ipywidgets->ipyfilechooser>=0.6.0->geemap) (0.8.4)\n",
            "Requirement already satisfied: nbclient>=0.5.0 in /usr/local/lib/python3.10/dist-packages (from nbconvert>=5->notebook>=4.4.1->widgetsnbextension~=3.6.0->ipywidgets->ipyfilechooser>=0.6.0->geemap) (0.8.0)\n",
            "Requirement already satisfied: pandocfilters>=1.4.1 in /usr/local/lib/python3.10/dist-packages (from nbconvert>=5->notebook>=4.4.1->widgetsnbextension~=3.6.0->ipywidgets->ipyfilechooser>=0.6.0->geemap) (1.5.0)\n",
            "Requirement already satisfied: tinycss2 in /usr/local/lib/python3.10/dist-packages (from nbconvert>=5->notebook>=4.4.1->widgetsnbextension~=3.6.0->ipywidgets->ipyfilechooser>=0.6.0->geemap) (1.2.1)\n",
            "Requirement already satisfied: fastjsonschema in /usr/local/lib/python3.10/dist-packages (from nbformat->notebook>=4.4.1->widgetsnbextension~=3.6.0->ipywidgets->ipyfilechooser>=0.6.0->geemap) (2.18.0)\n",
            "Requirement already satisfied: jsonschema>=2.6 in /usr/local/lib/python3.10/dist-packages (from nbformat->notebook>=4.4.1->widgetsnbextension~=3.6.0->ipywidgets->ipyfilechooser>=0.6.0->geemap) (4.19.0)\n",
            "Requirement already satisfied: argon2-cffi-bindings in /usr/local/lib/python3.10/dist-packages (from argon2-cffi->notebook>=4.4.1->widgetsnbextension~=3.6.0->ipywidgets->ipyfilechooser>=0.6.0->geemap) (21.2.0)\n",
            "Requirement already satisfied: jsonschema-specifications>=2023.03.6 in /usr/local/lib/python3.10/dist-packages (from jsonschema>=2.6->nbformat->notebook>=4.4.1->widgetsnbextension~=3.6.0->ipywidgets->ipyfilechooser>=0.6.0->geemap) (2023.7.1)\n",
            "Requirement already satisfied: referencing>=0.28.4 in /usr/local/lib/python3.10/dist-packages (from jsonschema>=2.6->nbformat->notebook>=4.4.1->widgetsnbextension~=3.6.0->ipywidgets->ipyfilechooser>=0.6.0->geemap) (0.30.2)\n",
            "Requirement already satisfied: rpds-py>=0.7.1 in /usr/local/lib/python3.10/dist-packages (from jsonschema>=2.6->nbformat->notebook>=4.4.1->widgetsnbextension~=3.6.0->ipywidgets->ipyfilechooser>=0.6.0->geemap) (0.10.2)\n",
            "Requirement already satisfied: anyio<4,>=3.1.0 in /usr/local/lib/python3.10/dist-packages (from jupyter-server>=1.8->nbclassic>=0.4.7->notebook>=4.4.1->widgetsnbextension~=3.6.0->ipywidgets->ipyfilechooser>=0.6.0->geemap) (3.7.1)\n",
            "Requirement already satisfied: websocket-client in /usr/local/lib/python3.10/dist-packages (from jupyter-server>=1.8->nbclassic>=0.4.7->notebook>=4.4.1->widgetsnbextension~=3.6.0->ipywidgets->ipyfilechooser>=0.6.0->geemap) (1.6.2)\n",
            "Requirement already satisfied: cffi>=1.0.1 in /usr/local/lib/python3.10/dist-packages (from argon2-cffi-bindings->argon2-cffi->notebook>=4.4.1->widgetsnbextension~=3.6.0->ipywidgets->ipyfilechooser>=0.6.0->geemap) (1.15.1)\n",
            "Requirement already satisfied: soupsieve>1.2 in /usr/local/lib/python3.10/dist-packages (from beautifulsoup4->nbconvert>=5->notebook>=4.4.1->widgetsnbextension~=3.6.0->ipywidgets->ipyfilechooser>=0.6.0->geemap) (2.5)\n",
            "Requirement already satisfied: webencodings in /usr/local/lib/python3.10/dist-packages (from bleach->nbconvert>=5->notebook>=4.4.1->widgetsnbextension~=3.6.0->ipywidgets->ipyfilechooser>=0.6.0->geemap) (0.5.1)\n",
            "Requirement already satisfied: sniffio>=1.1 in /usr/local/lib/python3.10/dist-packages (from anyio<4,>=3.1.0->jupyter-server>=1.8->nbclassic>=0.4.7->notebook>=4.4.1->widgetsnbextension~=3.6.0->ipywidgets->ipyfilechooser>=0.6.0->geemap) (1.3.0)\n",
            "Requirement already satisfied: exceptiongroup in /usr/local/lib/python3.10/dist-packages (from anyio<4,>=3.1.0->jupyter-server>=1.8->nbclassic>=0.4.7->notebook>=4.4.1->widgetsnbextension~=3.6.0->ipywidgets->ipyfilechooser>=0.6.0->geemap) (1.1.3)\n",
            "Requirement already satisfied: pycparser in /usr/local/lib/python3.10/dist-packages (from cffi>=1.0.1->argon2-cffi-bindings->argon2-cffi->notebook>=4.4.1->widgetsnbextension~=3.6.0->ipywidgets->ipyfilechooser>=0.6.0->geemap) (2.21)\n",
            "Installing collected packages: snuggs, jedi, affine, rasterio, rioxarray\n",
            "Successfully installed affine-2.4.0 jedi-0.19.0 rasterio-1.3.8 rioxarray-0.15.0 snuggs-1.4.7\n"
          ]
        }
      ]
    },
    {
      "cell_type": "markdown",
      "source": [
        "**Import relevant packages**"
      ],
      "metadata": {
        "id": "FNOruAKTPuhi"
      }
    },
    {
      "cell_type": "code",
      "execution_count": null,
      "metadata": {
        "id": "aLZw1Wh9KQxq"
      },
      "outputs": [],
      "source": [
        "import ee\n",
        "import geemap\n",
        "\n",
        "import numpy as np\n",
        "import pandas as pd\n",
        "\n",
        "import xarray as xr\n",
        "import rioxarray\n",
        "import rasterio\n",
        "\n",
        "import datetime\n",
        "\n",
        "#import seaborn as sbn\n",
        "import matplotlib.pyplot as plt\n",
        "\n",
        "import os\n",
        "import google.colab.drive as drive\n"
      ]
    },
    {
      "cell_type": "markdown",
      "source": [
        "**Authenticate and initialize Earth Engine API**"
      ],
      "metadata": {
        "id": "e95o9CmHtI3M"
      }
    },
    {
      "cell_type": "code",
      "source": [
        "\n",
        "ee.Authenticate()\n",
        "ee.Initialize()"
      ],
      "metadata": {
        "colab": {
          "base_uri": "https://localhost:8080/"
        },
        "id": "huczeiQxKRPf",
        "outputId": "72a74fba-6e3b-4484-dc0d-f07b4606ec94"
      },
      "execution_count": null,
      "outputs": [
        {
          "output_type": "stream",
          "name": "stdout",
          "text": [
            "To authorize access needed by Earth Engine, open the following URL in a web browser and follow the instructions. If the web browser does not start automatically, please manually browse the URL below.\n",
            "\n",
            "    https://code.earthengine.google.com/client-auth?scopes=https%3A//www.googleapis.com/auth/earthengine%20https%3A//www.googleapis.com/auth/devstorage.full_control&request_id=nSVs1VJrxlVKyBZXFt3tgwfpPEHXKzV-nXXnTaev08s&tc=xHtOhv1evnsVCjA-rkd16sNSahmM6ix6JPLQoETBwHI&cc=KnaH2_7RtJ8OXnK3GHscgph6SVJEKj8fDI-S8bPMy7o\n",
            "\n",
            "The authorization workflow will generate a code, which you should paste in the box below.\n",
            "Enter verification code: 4/1AfJohXlr7ptrL1MSMkfulLARU4zymifzs-wUtA-DVFYf5q2h1RF5-kd4cdY\n",
            "\n",
            "Successfully saved authorization token.\n"
          ]
        }
      ]
    },
    {
      "cell_type": "markdown",
      "source": [
        "**Mount your Google Drive to the Google Colab**"
      ],
      "metadata": {
        "id": "hHTXngnstNMM"
      }
    },
    {
      "cell_type": "code",
      "source": [
        "drive.mount('/content/drive/')\n",
        "root_gdrive = '/content/drive/MyDrive/'"
      ],
      "metadata": {
        "colab": {
          "base_uri": "https://localhost:8080/"
        },
        "id": "fl8q3BDiKRSa",
        "outputId": "230bf81f-adaa-48bf-af8d-02d12512cb5f"
      },
      "execution_count": null,
      "outputs": [
        {
          "output_type": "stream",
          "name": "stdout",
          "text": [
            "Mounted at /content/drive/\n"
          ]
        }
      ]
    },
    {
      "cell_type": "code",
      "source": [],
      "metadata": {
        "id": "ZSNQjuIHwZOX"
      },
      "execution_count": null,
      "outputs": []
    },
    {
      "cell_type": "markdown",
      "source": [
        "# Area-Of-Interest (AOI) visualization"
      ],
      "metadata": {
        "id": "N9lWLHUTwSQs"
      }
    },
    {
      "cell_type": "markdown",
      "source": [
        "**Visualize AOI**\n",
        "\n",
        "I selected Iowa State as the pilot study site since it has the highest average percentage in the national production of corn and soybean from 2015 - 2019 per USDA (https://ipad.fas.usda.gov/countrysummary/Default.aspx?id=US&crop=Corn)\n",
        "\n"
      ],
      "metadata": {
        "id": "mFj6wBbLZiQL"
      }
    },
    {
      "cell_type": "markdown",
      "source": [
        "Let's first visualize how different crops are distributed over Iowa"
      ],
      "metadata": {
        "id": "s8nYbSB4tmAL"
      }
    },
    {
      "cell_type": "code",
      "source": [
        "aoi = (\n",
        "    ee.FeatureCollection('TIGER/2018/States')\n",
        "    .filter(ee.Filter.eq('NAME', 'Iowa'))\n",
        ").geometry()\n"
      ],
      "metadata": {
        "id": "Y8KcDv-zi7tF"
      },
      "execution_count": null,
      "outputs": []
    },
    {
      "cell_type": "code",
      "source": [
        "usda_crop = (\n",
        "    ee.ImageCollection(\"USDA/NASS/CDL\")\n",
        "    .filterDate('2022-01-01','2022-12-31')\n",
        "    .first()\n",
        "    .select('cropland')\n",
        ") .clip(aoi)"
      ],
      "metadata": {
        "id": "tiM78YV2jat8"
      },
      "execution_count": null,
      "outputs": []
    },
    {
      "cell_type": "code",
      "source": [
        "Map = geemap.Map(center=(42.1,-93.5), zoom=6)\n",
        "Map.addLayer(usda_crop,{},name='USDA NASS Cropland 2021')\n",
        "Map.addLayerControl()\n",
        "Map"
      ],
      "metadata": {
        "colab": {
          "base_uri": "https://localhost:8080/",
          "height": 621,
          "referenced_widgets": [
            "3c52ba8a64ca46e7bb59773435d87605",
            "16a6d806f22a46f3a7e45a537d5cce0b",
            "fb108e1871064ec493d6fbce75c8db5e",
            "34da2f3478d243be9c7e330561f8f4df",
            "9c629818bc334a23b143b2f1336c2c6f",
            "40485055352e4c368baee3d655505077",
            "17114f2b62d54613babfdea2bf2a1ee2",
            "579c9568447f4732ab68be567ff3b3a1",
            "70e151083d284d2c9bb34e09826d7624",
            "44f76ecf3a0549e7ae7efce6a1d7a63e",
            "3c59c1651c2546b688bba633cb019e9d",
            "c0dcd549170045548db5ae23ba8ec6ac",
            "a985f7475dd34fd0ad210d97fabf11d9",
            "607a23ba24814030bfa4dcec178ff9e7",
            "28443b603cbd4faeaea608c95fe45d27",
            "2bc1ec6ef1c84ba896d615421285a127",
            "0b8b3c0400224e3997964345ad80a2b0",
            "f1164ae65afb4a9fa42792159a222762",
            "f1c383b987054b66861c5eefe8a32221",
            "9d8a1409df9d45e59a1a3541367ca713",
            "5f999a7b0085463aa9599216df63cf5b",
            "0a04ace676e142d49227c982804e384f",
            "7242190c6366449c8fba7a126906ec70",
            "8ae0cb239c654154a8ed4d85a51dcb21",
            "3e634ebe015f4114945ca42ade233550",
            "2f09ff680c7b4905a68b4780f1a2be41"
          ]
        },
        "id": "FbhlRT8my3dp",
        "outputId": "336abfdc-da34-4f73-dcb2-9f36274259f5"
      },
      "execution_count": null,
      "outputs": [
        {
          "output_type": "display_data",
          "data": {
            "text/plain": [
              "Map(center=[42.1, -93.5], controls=(WidgetControl(options=['position', 'transparent_bg'], widget=HBox(children…"
            ],
            "application/vnd.jupyter.widget-view+json": {
              "version_major": 2,
              "version_minor": 0,
              "model_id": "3c52ba8a64ca46e7bb59773435d87605"
            }
          },
          "metadata": {
            "application/vnd.jupyter.widget-view+json": {
              "colab": {
                "custom_widget_manager": {
                  "url": "https://ssl.gstatic.com/colaboratory-static/widgets/colab-cdn-widget-manager/b3e629b1971e1542/manager.min.js"
                }
              }
            }
          }
        }
      ]
    },
    {
      "cell_type": "markdown",
      "source": [
        "From the USDA Cropland map, we can see there are widespread crop fields, mostly corn and soybean, except the south side of Iowa."
      ],
      "metadata": {
        "id": "rxIh4LlfuYgX"
      }
    },
    {
      "cell_type": "code",
      "source": [],
      "metadata": {
        "id": "3o_2G6VmHclV"
      },
      "execution_count": null,
      "outputs": []
    },
    {
      "cell_type": "markdown",
      "source": [
        "# **Use Google Earth Engine API to retrieve and preprocess SMAP, and S2 images**"
      ],
      "metadata": {
        "id": "mc2zYWM8Yqu3"
      }
    },
    {
      "cell_type": "markdown",
      "source": [
        "## Image Collection retrieval setting"
      ],
      "metadata": {
        "id": "_41EFIDaxY-2"
      }
    },
    {
      "cell_type": "markdown",
      "source": [
        "In this project, I selected a target AOI that is in the north Iowa. Let's have a look where the target AOI is located."
      ],
      "metadata": {
        "id": "tstWqU-pqAYH"
      }
    },
    {
      "cell_type": "code",
      "source": [
        "# Iowa state border\n",
        "#sample_aoi_w, sample_aoi_s, sample_aoi_e, sample_aoi_n = -96.64, 40.41, -90.12, 43.55\n",
        "\n",
        "sample_aoi_w, sample_aoi_s, sample_aoi_e, sample_aoi_n = -94.73, 42.71, -93.38, 43.54\n",
        "sample_aoi = ee.Geometry.BBox(sample_aoi_w, sample_aoi_s, sample_aoi_e, sample_aoi_n)"
      ],
      "metadata": {
        "id": "SBXqO4g8wmH_"
      },
      "execution_count": null,
      "outputs": []
    },
    {
      "cell_type": "code",
      "source": [
        "Map = geemap.Map(center=(42.1,-93.5), zoom=6)\n",
        "Map.addLayer(usda_crop,{},name='USDA NASS Cropland 2021')\n",
        "Map.addLayer(sample_aoi,{},name='Sample AOI')\n",
        "Map.addLayerControl()\n",
        "Map"
      ],
      "metadata": {
        "colab": {
          "base_uri": "https://localhost:8080/",
          "height": 621,
          "referenced_widgets": [
            "872b6ed77a974989bd7ab8c796c02de4",
            "364eb9bd3b9b47ab81a8ddee25fcd3a3",
            "ca4e7f03b3d84e1e81ee5e890e7295ab",
            "46f79ffed23b429c8aa45dc2e461b470",
            "d68c469b9ab249fbbfd4e7b089b27e5d",
            "4d4f1ed221664554b327e72771ee486e",
            "e16711d7f9724103acfbec910d249dee",
            "c33bf531250c4f4a8727d9223acfbedc",
            "372d239d325d4a9b81396eda6f219709",
            "75a6bce594c44e9cb7aa39845d5024e2",
            "b769debeb2454784a44904116cf3d488",
            "96f23c348f8046259db03c0b37bc0620",
            "fde46191ccfa44c4b58960c3dff2a17f",
            "2b78b2f9977141c9875dd000e768638e",
            "cf76e13430d34882ab6710c0b0103986",
            "bef47d07dd274a35a3a2feb56e3fcc1e",
            "cc3a9dcd33e748039a65194879786f26",
            "ee6855c698664f3c928f50d219374112",
            "7a0da61778b94f949ab7f7e7a4054798",
            "4642b52a38764c4abaf8ec57892db706",
            "d0b79ff0985e46ab93883f7566c9e675",
            "9772541d44724b54abee1be56d05f0c3",
            "a55a1a0c80674d19a3a43676c4874d95",
            "9da3e8c6730e4e8184f9178855976526",
            "7066fce66c15445590bfebc16a1f398f",
            "60a894b7edc24ad6a5270c8abad9913b",
            "1920d1bcd430460197bc7097b08ba969"
          ]
        },
        "id": "JwMz8hxKqAmW",
        "outputId": "df85c047-7b44-4d22-b807-b47989b6ef94"
      },
      "execution_count": null,
      "outputs": [
        {
          "output_type": "display_data",
          "data": {
            "text/plain": [
              "Map(center=[42.1, -93.5], controls=(WidgetControl(options=['position', 'transparent_bg'], widget=HBox(children…"
            ],
            "application/vnd.jupyter.widget-view+json": {
              "version_major": 2,
              "version_minor": 0,
              "model_id": "872b6ed77a974989bd7ab8c796c02de4"
            }
          },
          "metadata": {
            "application/vnd.jupyter.widget-view+json": {
              "colab": {
                "custom_widget_manager": {
                  "url": "https://ssl.gstatic.com/colaboratory-static/widgets/colab-cdn-widget-manager/b3e629b1971e1542/manager.min.js"
                }
              }
            }
          }
        }
      ]
    },
    {
      "cell_type": "markdown",
      "source": [
        "Here are some pre-requisite before proceeding. I set up the time span of S2 and SMAP retrieval, and define a mapping function to clip the image collection to the target AOI"
      ],
      "metadata": {
        "id": "biBWcZXvqAyL"
      }
    },
    {
      "cell_type": "code",
      "source": [
        "start_date = '2019-01-01'\n",
        "end_date = '2023-12-31'\n",
        "\n",
        "def imgcol_clip(image):\n",
        "    return image.clip(sample_aoi)\n"
      ],
      "metadata": {
        "id": "OOHAfNI-xZnz"
      },
      "execution_count": null,
      "outputs": []
    },
    {
      "cell_type": "markdown",
      "source": [
        "After setting up the target AOI and the time span of data retrieval, let's proceed to get the data from Google Earth Engine and pre-process them."
      ],
      "metadata": {
        "id": "B5RkMus6x3mX"
      }
    },
    {
      "cell_type": "markdown",
      "source": [
        "## S2 image retrieval and processing\n",
        "\n",
        "\n",
        "\n",
        "Firstly, let's retrieve and pre-process the Sentinel-2 images, which include applying cloud mask and scale the data with the given scale factor. I used **Sentinel-2 MSI: MultiSpectral Instrument, Level-2A** images.\n",
        "    \n",
        "    ee.ImageCollection(\"COPERNICUS/S2_SR\")\n",
        "\n",
        "Then, we can calculate the vegetation indices to be used as input of the machine learning regression model, which is the training feature. There are several vegetation indices can be calculated with the multi-spectral S2 imagery. In this project, I calculated NDVI with Near Infra-Red (NIR) and red bands."
      ],
      "metadata": {
        "id": "pclweD5D1yBk"
      }
    },
    {
      "cell_type": "markdown",
      "source": [
        "**Function to mask out cloud pixels and apply the scale factor to the data**"
      ],
      "metadata": {
        "id": "F2umNcgj_Wfa"
      }
    },
    {
      "cell_type": "code",
      "source": [
        "def maskS2clouds(image):\n",
        "    qa = image.select('QA60');\n",
        "\n",
        "    # QA has 12 bits from bit-0 to bit-11\n",
        "    # Bits 10 and 11 are clouds and cirrus, respectively.\n",
        "    cloudBitMask = 1 << 10; # Push \"1\" 10 spaces to the left (010000000000)\n",
        "    cirrusBitMask = 1 << 11; # Push \"1\" 11 spaces to the left (100000000000)\n",
        "\n",
        "    # \"bitwiseAnd\" compare the QA and \"cloudBitMask\" and \"cirrusBitMask\"\n",
        "    # then return True if (1) bit-10 of QA and \"cloudBitMask\" do not match (no cloud)\n",
        "    #                     (2) bit-11 of QA and \"cirrusBitMask\" do not match (no cirrus cloud)\n",
        "    #\n",
        "    # Both flags should be set to zero, indicating clear conditions.\n",
        "    # (a pixel that is neither cloud nor cirrus cloud will be retained)\n",
        "    mask = qa.bitwiseAnd(cloudBitMask).eq(0).And(qa.bitwiseAnd(cirrusBitMask).eq(0));\n",
        "    #\n",
        "    # Mask out the cloud/cirrus-cloud pixels and scale the data by 10000 (the scale factor of the data)\n",
        "    return image.updateMask(mask).divide(10000).copyProperties(image, ['system:time_start'])"
      ],
      "metadata": {
        "id": "u00LXY0S1yOR"
      },
      "execution_count": null,
      "outputs": []
    },
    {
      "cell_type": "code",
      "source": [],
      "metadata": {
        "id": "5NLqVndy2Znr"
      },
      "execution_count": null,
      "outputs": []
    },
    {
      "cell_type": "markdown",
      "source": [
        "**Functions to calculate NDVI**"
      ],
      "metadata": {
        "id": "TxrluCYT2Bbu"
      }
    },
    {
      "cell_type": "code",
      "source": [
        "def cal_ndvi(image):\n",
        "    ndvi = image.expression(\n",
        "        \"(NIR - RED)/(NIR + RED)\",\n",
        "        {\n",
        "            \"NIR\": image.select('B8'),\n",
        "            \"RED\": image.select('B4')\n",
        "        }\n",
        "    ).rename('NDVI').copyProperties(image, ['system:time_start']);\n",
        "    #image = image.addBands(ndvi)\n",
        "\n",
        "    return ndvi\n"
      ],
      "metadata": {
        "id": "tUkH44EL2BzU"
      },
      "execution_count": null,
      "outputs": []
    },
    {
      "cell_type": "markdown",
      "source": [
        "**S2 image retrieval, preprocess, and clipping**"
      ],
      "metadata": {
        "id": "g0sJEdEYyMJ8"
      }
    },
    {
      "cell_type": "code",
      "source": [
        "# Use Sentinel-2 data from 2018 to 2022 for training\n",
        "s2_ImgCol = (\n",
        "    ee.ImageCollection('COPERNICUS/S2_SR_HARMONIZED')\n",
        "    .filterDate(start_date, end_date)\n",
        "    ##Pre-filter to get less cloudy granules.\n",
        "    .filter(ee.Filter.lt('CLOUDY_PIXEL_PERCENTAGE',20))\n",
        "    .filterBounds(aoi)\n",
        ").map(maskS2clouds).map(imgcol_clip)"
      ],
      "metadata": {
        "id": "KUkwVioh_7En"
      },
      "execution_count": null,
      "outputs": []
    },
    {
      "cell_type": "markdown",
      "source": [
        "**Calculate S2 NDVI**"
      ],
      "metadata": {
        "id": "zE3y0KB0ANai"
      }
    },
    {
      "cell_type": "code",
      "source": [
        "s2_ndvi_ImgCol = s2_ImgCol.map(cal_ndvi)"
      ],
      "metadata": {
        "id": "0hq7z-JjANie"
      },
      "execution_count": null,
      "outputs": []
    },
    {
      "cell_type": "code",
      "source": [],
      "metadata": {
        "id": "zzpCKOZj_7PJ"
      },
      "execution_count": null,
      "outputs": []
    },
    {
      "cell_type": "markdown",
      "source": [
        "## SMAP image retrieval and processing"
      ],
      "metadata": {
        "id": "AUmCnBEb15xp"
      }
    },
    {
      "cell_type": "markdown",
      "source": [
        "Secondly, let's retrieve the SMAP VGF to be used as desired output of the machine learning regression model, which is the training label. I used **SMAP L4 Global 3-hourly 9-km Surface and Root Zone Soil Moisture**.\n",
        "\n",
        "    ee.ImageCollection(\"NASA/SMAP/SPL4SMGP/007\")"
      ],
      "metadata": {
        "id": "84ioSv8o660X"
      }
    },
    {
      "cell_type": "code",
      "source": [
        "smap_band = 'vegetation_greenness_fraction'\n",
        "\n",
        "smap_ImgCol = (\n",
        "    ee.ImageCollection(\"NASA/SMAP/SPL4SMGP/007\")\n",
        "    .select(smap_band)\n",
        "    .filterDate(start_date,end_date)\n",
        "    .filterBounds(aoi)\n",
        ").map(imgcol_clip)"
      ],
      "metadata": {
        "id": "bIypl7RN1slx"
      },
      "execution_count": null,
      "outputs": []
    },
    {
      "cell_type": "code",
      "source": [],
      "metadata": {
        "id": "MOFxM8ylw8Ik"
      },
      "execution_count": null,
      "outputs": []
    },
    {
      "cell_type": "markdown",
      "source": [
        "# **Randomly sample data points from coincident S2 NDVI and SMAP VGF to build machine learning regression model**\n",
        "\n",
        "After retrieving and pre-processing the S2 NDVI and SMAP VGF, let's go ahead to sample the data points from coincident S2 NDVI and SMAP VGF, so that we can use them to train the machine learning regression model. It requires two steps\n",
        "\n",
        "1. Generate an image colleciton with spatiotemporally coincident S2 NDVI and SMAP VGF\n",
        "\n",
        "2. Randomly sample the data from each image in the spatiotemporally coincident image collection"
      ],
      "metadata": {
        "id": "EH7pu3Pmw6-3"
      }
    },
    {
      "cell_type": "markdown",
      "source": [
        "**Function to put spatiotemporally coincident S2 NDVI and SMAP VGF as one image collection**"
      ],
      "metadata": {
        "id": "tlmC7kzsrJfR"
      }
    },
    {
      "cell_type": "code",
      "source": [
        "def space_time_join(primary_data, secondary_data, space_tolerance=100, time_tolerance=1):\n",
        "\n",
        "    \"\"\"\n",
        "\n",
        "    primary_data: data used as reference\n",
        "    secondary_data: data to be matched with primary_data\n",
        "    space_tolerance: tolerance to find spatial match (unit: meter)\n",
        "    time_tolerance: tolerance to find temporal match (unit: day)\n",
        "\n",
        "    \"\"\"\n",
        "    def get_geometry(img):\n",
        "        return img.geometry()\n",
        "\n",
        "    def space_time_merge(img):\n",
        "        BeJoined_ImgCol = ee.ImageCollection.fromImages(img.get(primary_data.__class__.__name__))\n",
        "\n",
        "        img_geom = img.geometry(100)\n",
        "        BeJoined_geom = BeJoined_ImgCol.map(get_geometry).union(100).geometry(100)\n",
        "        overlay = img_geom.intersection(BeJoined_geom, 100)\n",
        "\n",
        "        BeJoined_ImgCol = BeJoined_ImgCol.mosaic()\n",
        "\n",
        "        return img.addBands(BeJoined_ImgCol).clip(overlay)\n",
        "\n",
        "\n",
        "    # Define spatiotemporal filter\n",
        "    space_time_filter = ee.Filter.And(\n",
        "        # Time filter\n",
        "        ee.Filter.maxDifference(\n",
        "            **{\n",
        "                \"difference\": time_tolerance * 1000 * 60 * 60 * 24,  # One day in milliseconds\n",
        "                \"leftField\": \"system:time_start\",\n",
        "                \"rightField\": \"system:time_start\",\n",
        "            }\n",
        "        ),\n",
        "        # Space filter\n",
        "        ee.Filter.intersects(\n",
        "            **{\"leftField\": \".geo\", \"rightField\": \".geo\", \"maxError\": space_tolerance}\n",
        "        ),\n",
        "    )\n",
        "\n",
        "    # apply join on collections and save all results\n",
        "    saveAllJoin =  ee.Join.saveAll(**{\n",
        "            \"matchesKey\": primary_data.__class__.__name__,\n",
        "            \"ordering\": \"system:time_start\",\n",
        "            \"ascending\": True\n",
        "        }\n",
        "    )\n",
        "\n",
        "    joined_ImgCol = ee.ImageCollection(saveAllJoin.apply(primary=primary_data, secondary=secondary_data, condition=space_time_filter))\n",
        "    joined_ImgCol = joined_ImgCol.map(space_time_merge)\n",
        "\n",
        "    return joined_ImgCol"
      ],
      "metadata": {
        "id": "2o4KtyG3rJnx"
      },
      "execution_count": null,
      "outputs": []
    },
    {
      "cell_type": "markdown",
      "source": [
        "**Function to sample points of data within the AOI along with the acquisition time**"
      ],
      "metadata": {
        "id": "CxAv8rF8qYA7"
      }
    },
    {
      "cell_type": "code",
      "source": [
        "# Plot a time series of mean NDVI and CPC in AOI.\n",
        "def add_date(img):\n",
        "    img_date = ee.Date(img.date())\n",
        "    img_date = ee.Number.parse(img_date.format('YYYYMMdd'))\n",
        "    return img.addBands(ee.Image(img_date).rename('Date').toInt())\n",
        "\n",
        "\n",
        "def aoi_sample(img):\n",
        "    sample_data = img.sample(region=sample_aoi, numPixels=30, geometries=True)\n",
        "    return sample_data"
      ],
      "metadata": {
        "id": "TWgQLzpiqZCT"
      },
      "execution_count": null,
      "outputs": []
    },
    {
      "cell_type": "markdown",
      "source": [
        "**Function to export the sampled data to Google Drive (It will take awhile, depending on how large your sampled data is)**"
      ],
      "metadata": {
        "id": "8g68oFwqqZrl"
      }
    },
    {
      "cell_type": "code",
      "source": [
        "def export_samples(sampled_feature_collection, root_gdrive, out_fname):\n",
        "    if not os.path.exists(root_gdrive+out_fname+'.csv'):\n",
        "        task = ee.batch.Export.table.toDrive(**{\n",
        "            'collection': sampled_feature_collection,\n",
        "            'description':out_fname,\n",
        "            'fileFormat': 'csv'\n",
        "        })\n",
        "        task.start()\n",
        "\n",
        "        task = ee.batch.Export.table.toAsset(**{\n",
        "            'collection': sampled_feature_collection,\n",
        "            'description':out_fname,\n",
        "            'assetId': 'users/cchang37ee/'+out_fname\n",
        "        })\n",
        "        task.start()\n",
        "        print('Export the data to Google Drive and Earth Engine Asset. Please read the CSV files after it is done.')\n",
        "    else:\n",
        "        print('Training sample already exported.')"
      ],
      "metadata": {
        "id": "yXrCDWYcqZzd"
      },
      "execution_count": null,
      "outputs": []
    },
    {
      "cell_type": "markdown",
      "source": [
        "Combine spatiotemporally coincident S2 NDVIs and SMAP VGFs"
      ],
      "metadata": {
        "id": "0uqWjXqdDtEQ"
      }
    },
    {
      "cell_type": "code",
      "source": [
        "smap_ndvi_ImgCol = space_time_join(smap_ImgCol, s2_ndvi_ImgCol)\n"
      ],
      "metadata": {
        "id": "KDfNQXzl85ri"
      },
      "execution_count": null,
      "outputs": []
    },
    {
      "cell_type": "markdown",
      "source": [
        "Randomly sample points of data to be used for building machine learning model"
      ],
      "metadata": {
        "id": "KRWja6wdVosL"
      }
    },
    {
      "cell_type": "code",
      "source": [
        "smap_ndvi_sample = smap_ndvi_ImgCol.map(add_date).map(aoi_sample).flatten()"
      ],
      "metadata": {
        "id": "KXOyS8kGVpeO"
      },
      "execution_count": null,
      "outputs": []
    },
    {
      "cell_type": "markdown",
      "source": [
        "Export the sampled data to the Google Drive as CSV (and Google Earth Engine Asset). This will take a while."
      ],
      "metadata": {
        "id": "ToAiMJqRGE92"
      }
    },
    {
      "cell_type": "code",
      "source": [
        "export_samples(smap_ndvi_sample, root_gdrive, 'smap_ndvi_samples_Iowa_north_30pts')"
      ],
      "metadata": {
        "colab": {
          "base_uri": "https://localhost:8080/"
        },
        "id": "IEIR7jccB_z9",
        "outputId": "a6afb7cb-1345-4cd5-fd0e-1124383aabc3"
      },
      "execution_count": null,
      "outputs": [
        {
          "output_type": "stream",
          "name": "stdout",
          "text": [
            "Training sample already exported.\n"
          ]
        }
      ]
    },
    {
      "cell_type": "code",
      "source": [],
      "metadata": {
        "id": "EH9GKAZvxPwt"
      },
      "execution_count": null,
      "outputs": []
    },
    {
      "cell_type": "markdown",
      "source": [
        "# **Examine the time-series of S2 NDVI, and SMAP VGF**\n",
        "\n",
        "Before building a machine learning regression model, it is better to check if there is a correlation between the data, which will give us an idea if a regression model can really be built. Let's look at the time-series and scatter plots of the data."
      ],
      "metadata": {
        "id": "17xop_zRxOiw"
      }
    },
    {
      "cell_type": "markdown",
      "source": [
        "**Function of making double y-axis plot and scatter plot**"
      ],
      "metadata": {
        "id": "Af3RlNmN3Fmr"
      }
    },
    {
      "cell_type": "code",
      "source": [
        "def make_yyplot(data, ax1_data_name, ax2_data_name, ax1_data_band='NDVI', ax2_data_band='vegetation_greenness_fraction'):\n",
        "\n",
        "    data_date = pd.to_datetime(pd.unique(data[\"Date\"]), format='%Y%m%d')\n",
        "\n",
        "    ax1_data = data[[\"Date\",ax1_data_band]] #soil_moisture_am\n",
        "    ax2_data = data[[\"Date\",ax2_data_band]]\n",
        "\n",
        "    fig, ax1 = plt.subplots()\n",
        "\n",
        "    line1 = ax1.plot(data_date, ax1_data.groupby(['Date']).mean())\n",
        "    ax1.set_ylabel(ax1_data_name, color='C0')\n",
        "    ax1.tick_params(axis='x', rotation=45)\n",
        "    ax1.tick_params(axis='y', color='C0', labelcolor='C0')\n",
        "\n",
        "    ax2 = ax1.twinx()\n",
        "    line2 = ax2.plot(data_date, ax2_data.groupby(['Date']).mean(),'C1')\n",
        "    ax2.set_ylabel(ax2_data_name, color='C1')\n",
        "    ax2.tick_params(axis='y', color='C1', labelcolor='C1')\n",
        "    ax2.spines['right'].set_color('C1')\n",
        "    ax2.spines['left'].set_color('C0')\n",
        "    plt.show()\n",
        "\n",
        "    plt.scatter(ax1_data[ax1_data_band], ax2_data[ax2_data_band])\n",
        "    plt.xlabel(ax1_data_name, fontsize=20)\n",
        "    plt.ylabel(ax2_data_name, fontsize=20)\n",
        "    plt.show()\n",
        "\n"
      ],
      "metadata": {
        "id": "Rw880ngT3LH5"
      },
      "execution_count": null,
      "outputs": []
    },
    {
      "cell_type": "markdown",
      "source": [
        "First of all, Let's read the sampled data from Google Drive"
      ],
      "metadata": {
        "id": "ectsMbGYVgCK"
      }
    },
    {
      "cell_type": "code",
      "source": [
        "try:\n",
        "    smap_ndvi_samples_df = pd.read_csv(root_gdrive+'smap_ndvi_samples_Iowa_north_30pts.csv')\n",
        "except:\n",
        "    print('There is no sample in the CSV (Corn).')\n"
      ],
      "metadata": {
        "id": "kxb9eWLeVgKi"
      },
      "execution_count": null,
      "outputs": []
    },
    {
      "cell_type": "markdown",
      "source": [
        "Then, let's make the time-series and scatter plots"
      ],
      "metadata": {
        "id": "oh5WF0lhrpYr"
      }
    },
    {
      "cell_type": "code",
      "source": [
        "make_yyplot(smap_ndvi_samples_df, 'S2 NDVI', 'SMAP VGF', 'NDVI', 'vegetation_greenness_fraction')"
      ],
      "metadata": {
        "colab": {
          "base_uri": "https://localhost:8080/",
          "height": 897
        },
        "id": "HkeZUCuPXG1y",
        "outputId": "8e8a4fae-ee2e-4f12-85d2-c7e03a02aed3"
      },
      "execution_count": null,
      "outputs": [
        {
          "output_type": "display_data",
          "data": {
            "text/plain": [
              "<Figure size 640x480 with 2 Axes>"
            ],
            "image/png": "[encoded data removed]"
          },
          "metadata": {}
        },
        {
          "output_type": "display_data",
          "data": {
            "text/plain": [
              "<Figure size 640x480 with 1 Axes>"
            ],
            "image/png": "[encoded data removed]"
          },
          "metadata": {}
        }
      ]
    },
    {
      "cell_type": "markdown",
      "source": [
        "If we look at the scatter plot, apparently there is a hysteresis pattern in how the data points are distributed. In the time-series plot, we can see that right after the SMAP VGF (orange line) reaches the peak value, it drops down rapidly, much faster than the S2 NDVI (blue line), which could be due to the harvest of the crops in the region.\n",
        "\n"
      ],
      "metadata": {
        "id": "OwFTp5OhzQYY"
      }
    },
    {
      "cell_type": "markdown",
      "source": [
        "To verify my inference, I separated the data into two groups based on whether the data acquisition time is within the harvest period or not. The average time frame of harvest and non-harvest period for corn and soybean are shown below, which were obtained from USDA website (https://ipad.fas.usda.gov/countrysummary/Default.aspx?id=US&crop=Soybean).\n",
        "\n",
        "![](https://drive.google.com/uc?export=view&id=1-6gE5fC5Fa3nC7m-GJT0_5wrGjGq2RLR)\n",
        "\n",
        "\n",
        "![](https://drive.google.com/uc?export=view&id=1-E3szEBN1Ox77OLrCWiHHGfJGv3LNssq)"
      ],
      "metadata": {
        "id": "6v3OQ7pRsCbh"
      }
    },
    {
      "cell_type": "code",
      "source": [
        "data_date = pd.to_datetime(pd.to_datetime(smap_ndvi_samples_df[\"Date\"], format='%Y%m%d').values)\n",
        "ax1_data = smap_ndvi_samples_df[\"NDVI\"]\n",
        "ax2_data = smap_ndvi_samples_df[\"vegetation_greenness_fraction\"]\n",
        "\n",
        "index_harvest_period = np.logical_and(data_date.month>=9, data_date.month<=11)\n",
        "index_nonharvest_period = np.logical_or(data_date.month<9, data_date.month==12)\n",
        "\n",
        "plt.scatter(ax1_data[index_nonharvest_period], ax2_data[index_nonharvest_period])\n",
        "plt.scatter(ax1_data[index_harvest_period], ax2_data[index_harvest_period])\n",
        "plt.xlabel('S2 NDVI', fontsize=20)\n",
        "plt.ylabel('SMAP VGF', fontsize=20)\n",
        "plt.legend(['Non-harvest', 'Harvest'])\n",
        "plt.show()\n"
      ],
      "metadata": {
        "colab": {
          "base_uri": "https://localhost:8080/",
          "height": 463
        },
        "id": "_tbCe5gF_pH9",
        "outputId": "78fbaafd-3111-42db-b8cc-31da269cc2c5"
      },
      "execution_count": null,
      "outputs": [
        {
          "output_type": "display_data",
          "data": {
            "text/plain": [
              "<Figure size 640x480 with 1 Axes>"
            ],
            "image/png": "[encoded data removed]"
          },
          "metadata": {}
        }
      ]
    },
    {
      "cell_type": "markdown",
      "source": [
        "From the new scatter plot, we can see that the data in each of the separated groups (acquired during the harvest period or not) now have mitigated hysteresis pattern, which verify my inference. It also means that by building two different models for harvest and non-harvest period can help us better estimate the VGFs. The data grouping process may be further refined if a more precise harvesting schedule is available, but let's proceed with what we have at the momment."
      ],
      "metadata": {
        "id": "o5Y7kTjF8mmz"
      }
    },
    {
      "cell_type": "code",
      "source": [],
      "metadata": {
        "id": "DQnKiLEK9dAR"
      },
      "execution_count": null,
      "outputs": []
    },
    {
      "cell_type": "markdown",
      "source": [
        "# **Build a machine learning model which estimate 10-m resolution VGF maps with S2 NDVI**\n",
        "\n",
        "Now, let's build machine learning regression model to estimate 10-m resolution VGF with S2 NDVI. I selected data acquired from 2019 to 2021 as training data, and the rest of data were used as test data.\n",
        "\n",
        "**If you have ready finished sampling the data by running the previous sectors of code, you can start from here directly**"
      ],
      "metadata": {
        "id": "CXE08n5-S2vK"
      }
    },
    {
      "cell_type": "markdown",
      "source": [
        "## Build up the machine learning model"
      ],
      "metadata": {
        "id": "moR5BFZA8PcS"
      }
    },
    {
      "cell_type": "markdown",
      "source": [
        "Let's first split the data into training and test datasets"
      ],
      "metadata": {
        "id": "7Ao8tqKJOWu1"
      }
    },
    {
      "cell_type": "code",
      "source": [
        "def add_eeDate(feature):\n",
        "    millis = ee.Date.millis(ee.Date.parse('YYYYMMdd',ee.Number(feature.get('Date')).format('%8d')))\n",
        "    return feature.set({'system:time_start':millis})"
      ],
      "metadata": {
        "id": "1A7foin9_oN6"
      },
      "execution_count": null,
      "outputs": []
    },
    {
      "cell_type": "code",
      "source": [
        "def train_test_filter(data, feature_name, label_name, training_span, test_span):\n",
        "\n",
        "    data = data.sort('system:time_start',True)\n",
        "\n",
        "    training_st_time = training_span[0]\n",
        "    training_ed_time = training_span[1]\n",
        "\n",
        "    test_st_time = test_span[0]\n",
        "    test_ed_time = test_span[1]\n",
        "\n",
        "    training_data = data.filterDate(training_st_time,training_ed_time).select(['Date','system:time_start',feature_name, label_name]).sort('system:time_start',True)\n",
        "    test_data = data.filterDate(test_st_time,test_ed_time).select(['Date','system:time_start',feature_name, label_name]).sort('system:time_start',True)\n",
        "\n",
        "    return training_data, test_data"
      ],
      "metadata": {
        "id": "5Ml9nefZR2Yu"
      },
      "execution_count": null,
      "outputs": []
    },
    {
      "cell_type": "code",
      "source": [
        "sampled_data = ee.FeatureCollection('users/cchang37ee/smap_ndvi_samples_Iowa_north_30pts').map(add_eeDate)\n",
        "\n",
        "training_span = ['2019-01-01', '2021-12-31']\n",
        "test_span = ['2022-01-01', '2023-12-31']\n",
        "training_data, test_data = train_test_filter(sampled_data, 'NDVI', 'vegetation_greenness_fraction', training_span, test_span)"
      ],
      "metadata": {
        "id": "LOxJAjvVAHKp"
      },
      "execution_count": null,
      "outputs": []
    },
    {
      "cell_type": "code",
      "source": [],
      "metadata": {
        "id": "gkYEj5BCzphL"
      },
      "execution_count": null,
      "outputs": []
    },
    {
      "cell_type": "markdown",
      "source": [
        "Then, since we will be building separated models for harvest and non-harvest periods, let's separate the data accordingly."
      ],
      "metadata": {
        "id": "6opWNYMh8ePs"
      }
    },
    {
      "cell_type": "code",
      "source": [
        "def data_grouping(data):\n",
        "\n",
        "    harvest_data = data.filter(ee.Filter.calendarRange(9,11,'month'))\n",
        "    non_harvest_data = data.filter(ee.Filter.Or(ee.Filter.calendarRange(1,8,'month'),ee.Filter.calendarRange(12,12,'month')))\n",
        "\n",
        "    return harvest_data, non_harvest_data"
      ],
      "metadata": {
        "id": "vejeOX8O87Ly"
      },
      "execution_count": null,
      "outputs": []
    },
    {
      "cell_type": "code",
      "source": [
        "training_harvest_data, training_non_harvest_data = data_grouping(training_data)\n",
        "test_harvest_data, test_non_harvest_data = data_grouping(test_data)\n"
      ],
      "metadata": {
        "id": "MbmAeYqDnAIY"
      },
      "execution_count": null,
      "outputs": []
    },
    {
      "cell_type": "code",
      "source": [
        "# Visualize training sample\n",
        "Map_training_sample = geemap.Map(center=((sample_aoi_s+sample_aoi_n)/2,(sample_aoi_w+sample_aoi_e)/2), zoom=9)\n",
        "Map_training_sample.addLayer(sample_aoi,{},name='Sample AOI')\n",
        "Map_training_sample.addLayer(training_data, {}, \"training sample\")\n",
        "Map_training_sample"
      ],
      "metadata": {
        "id": "kAqkO9_2p5dt",
        "colab": {
          "base_uri": "https://localhost:8080/",
          "height": 621,
          "referenced_widgets": [
            "0afc34707bf74849916e3de6f3564514",
            "33dcc1a5fd794d5fbc3f26a067c90786",
            "5f5bf554b4014cf39549a8ce82a5f11b",
            "342331f610734513a968c45066eb6b7f",
            "43f606ef203845168e3181cbdf28e18e",
            "4de55641766f4513968b50f65f4708f9",
            "9e2c9b9ef1c04662b3f3052ddfa9cdec",
            "a152d9fdb0a14f87b088b1b73bf6c879",
            "f8ab82124ca84004abc1b53af9504166",
            "498e0258896b4bf08afef7fd6f237220",
            "0c826745a5924dd8bde2ad1ae58fbe8f",
            "53bcf6666bdd496eb455c1d311d2224e",
            "a5efafced8e0414da48f50edf095f33a",
            "18578571bddf4da7b46635756291dd83",
            "43d035ddf7ea474e9bc2abd685ed81cc",
            "9933cdc2a13248f69a33118dd529a749",
            "d2de6702cc1441db82247f5adaa231a3",
            "f8bf02264ebf444e947643d0937ac6c2",
            "a997071f9c3b41ae88152c1acaa15ee8",
            "f6cd823e0bfd4aa1a1359626152d33af",
            "fd2cfb2fbbb84d73af0c092ade40baae",
            "c96542e9e2dc4d09824c050508c3a489",
            "a9984a28081745e6888cd71a1d6a8686",
            "084b78618a914f4d8332902afceca3ac",
            "6cc0836b5d364936b6544b8fddb324a1",
            "d60a5647be7240f3b01fabc1f353f6f8"
          ]
        },
        "outputId": "b299cbc9-fc33-4ef8-e0dd-3ee0fdf05fa1"
      },
      "execution_count": null,
      "outputs": [
        {
          "output_type": "display_data",
          "data": {
            "text/plain": [
              "Map(center=[43.125, -94.055], controls=(WidgetControl(options=['position', 'transparent_bg'], widget=HBox(chil…"
            ],
            "application/vnd.jupyter.widget-view+json": {
              "version_major": 2,
              "version_minor": 0,
              "model_id": "0afc34707bf74849916e3de6f3564514"
            }
          },
          "metadata": {
            "application/vnd.jupyter.widget-view+json": {
              "colab": {
                "custom_widget_manager": {
                  "url": "https://ssl.gstatic.com/colaboratory-static/widgets/colab-cdn-widget-manager/b3e629b1971e1542/manager.min.js"
                }
              }
            }
          }
        }
      ]
    },
    {
      "cell_type": "markdown",
      "source": [
        "Now we have the data ready to train a machine learning regression model, which I used the random forest regression model of Google Earth Engine API. Two random forest regression models were built, one for harvest period, the other one for non-harvest period."
      ],
      "metadata": {
        "id": "Xx-myzrhqs-o"
      }
    },
    {
      "cell_type": "code",
      "source": [
        "trained_harvest_regressor = (\n",
        "    ee.Classifier.smileRandomForest(numberOfTrees = 30)\n",
        "    .setOutputMode('REGRESSION')\n",
        "    .train(**{\n",
        "        \"features\": training_harvest_data,\n",
        "        \"classProperty\": 'vegetation_greenness_fraction',\n",
        "        \"inputProperties\": ['NDVI']}\n",
        "    )\n",
        ")\n",
        "\n",
        "\n",
        "trained_non_harvest_regressor = (\n",
        "    ee.Classifier.smileRandomForest(numberOfTrees = 30)\n",
        "    .setOutputMode('REGRESSION')\n",
        "    .train(**{\n",
        "        \"features\": training_non_harvest_data,\n",
        "        \"classProperty\": 'vegetation_greenness_fraction',\n",
        "        \"inputProperties\": ['NDVI']}\n",
        "    )\n",
        ")"
      ],
      "metadata": {
        "id": "HOjnd2W0S5BC"
      },
      "execution_count": null,
      "outputs": []
    },
    {
      "cell_type": "markdown",
      "source": [
        "## Visualize the result - High-resolution (10-m) VGF estimated from S2 NDVI with machine learning model"
      ],
      "metadata": {
        "id": "a8hdre0L8WYv"
      }
    },
    {
      "cell_type": "markdown",
      "source": [
        "We have finished training the random forest regression models. Now, let's generate high-resolution (10-m) VGF with S2 NDVI and the trained models."
      ],
      "metadata": {
        "id": "IFuF1gyPw74Q"
      }
    },
    {
      "cell_type": "code",
      "source": [
        "def estimateVGF_harvest(image):\n",
        "    temp = image.classify(trained_harvest_regressor)\n",
        "    temp = temp.where(temp.gt(1), 1)\n",
        "    vgf = temp.where(temp.lt(0), 0)\n",
        "    return vgf\n",
        "\n",
        "def estimateVGF_non_harvest(image):\n",
        "    temp = image.classify(trained_non_harvest_regressor)\n",
        "    temp = temp.where(temp.gt(1), 1)\n",
        "    vgf = temp.where(temp.lt(0), 0)\n",
        "    return vgf"
      ],
      "metadata": {
        "id": "RZM__Mxv0ABr"
      },
      "execution_count": null,
      "outputs": []
    },
    {
      "cell_type": "markdown",
      "source": [
        "In case you have finished the data sampling and start from this section directly, I set up the sample AOI and retrieve the USDA cropland layer again here as I want to visualize them along with the S2-estimated high resolution VGF."
      ],
      "metadata": {
        "id": "B-S3Kz9s1tNa"
      }
    },
    {
      "cell_type": "code",
      "source": [
        "# Iowa state border\n",
        "#sample_aoi_w, sample_aoi_s, sample_aoi_e, sample_aoi_n = -96.64, 40.41, -90.12, 43.55\n",
        "\n",
        "sample_aoi_w, sample_aoi_s, sample_aoi_e, sample_aoi_n = -94.73, 42.71, -93.38, 43.54\n",
        "sample_aoi = ee.Geometry.BBox(sample_aoi_w, sample_aoi_s, sample_aoi_e, sample_aoi_n)\n",
        "\n",
        "usda_crop = (\n",
        "    ee.ImageCollection(\"USDA/NASS/CDL\")\n",
        "    .filterDate('2022-01-01','2022-12-31')\n",
        "    .first()\n",
        "    .select('cropland')\n",
        ") .clip(sample_aoi)"
      ],
      "metadata": {
        "id": "n_DTDORg2jbH"
      },
      "execution_count": null,
      "outputs": []
    },
    {
      "cell_type": "code",
      "source": [
        "doi = '2022-06-20'\n",
        "doi_end = ee.Date(doi).advance(1,'day').format('YYYY-MM-dd')\n",
        "\n",
        "# Retrieve S2 images, calculate NDVI, and estimate the corresponding VGF\n",
        "doi_s2_ndvi_ImgCol = (\n",
        "    ee.ImageCollection(\"COPERNICUS/S2_SR\")\n",
        "    .filterDate(doi, doi_end)\n",
        "    .filter(ee.Filter.lt('CLOUDY_PIXEL_PERCENTAGE',20))\n",
        "    .filterBounds(aoi)\n",
        ").map(maskS2clouds).map(imgcol_clip).map(cal_ndvi)\n",
        "\n",
        "if ee.Date(doi).get('month').getInfo()>=9 and ee.Date(doi).get('month').getInfo()<=11:\n",
        "    doi_s2_HRVGF_ImgCol = doi_s2_ndvi_ImgCol.map(estimateVGF_harvest)\n",
        "else:\n",
        "    doi_s2_HRVGF_ImgCol = doi_s2_ndvi_ImgCol.map(estimateVGF_non_harvest)\n",
        "\n",
        "\n",
        "\n",
        "# Retrieve SMAP VGF for visual comparison\n",
        "smap_band = 'vegetation_greenness_fraction'\n",
        "doi_smap_ImgCol = (\n",
        "    ee.ImageCollection(\"NASA/SMAP/SPL4SMGP/007\")\n",
        "    .select(smap_band)\n",
        "    .filterDate(doi, doi_end)\n",
        "    .filterBounds(aoi)\n",
        ").map(imgcol_clip)\n",
        "\n",
        "\n",
        "\n",
        "# Calculate mean S2-estimated hight resolution VGF, and SMAP VGF acquired on the same date\n",
        "mean_doi_s2_HRVGF = doi_s2_HRVGF_ImgCol.reduce(ee.Reducer.mean())\n",
        "mean_doi_smap_VGF = doi_smap_ImgCol.reduce(ee.Reducer.mean())"
      ],
      "metadata": {
        "id": "Rw7GLZSVOhJH"
      },
      "execution_count": null,
      "outputs": []
    },
    {
      "cell_type": "code",
      "source": [
        "## In case you are interested in plotting each individual VGF map acquired on the same date\n",
        "#ImgCol_size = doi_s2_ndvi_ImgCol.size()\n",
        "#doi_s2_ndvi_ImgList = doi_s2_ndvi_ImgCol.toList(ImgCol_size)\n",
        "#doi_s2_HRVGF_ImgList = doi_s2_HRVGF_ImgCol.toList(ImgCol_size)"
      ],
      "metadata": {
        "id": "uoO7nqiMOhL4"
      },
      "execution_count": null,
      "outputs": []
    },
    {
      "cell_type": "markdown",
      "source": [
        "Now, let's visualize the result. Note that since S2 image has 10m of spatial resolution, which is quite fine. Visualizing on Google Earth Engine map could take a while. If you see nothing on the map at first, probably it's still plotting.\n",
        "\n",
        "On the other hand, since S2 is an optical sensor whose image could be occluded by cloud, if you don't see anything on the map, it's probably because the S2 images on the selected date-of-interest were too cloudy and were completely masked out. In this case, you can try another date-of-interest and give it a shot."
      ],
      "metadata": {
        "id": "f0JcjJHWx51T"
      }
    },
    {
      "cell_type": "code",
      "source": [
        "vis_VGF = {\n",
        "   'min':0.4,\n",
        "   'max':1,\n",
        "   #'palette':['saddlebrown','sienna','chocolate','peru','burlywood','moccasin','lemonchiffon','honeydew','palegreen','lightgreen','springgreen','lime','limegreen','green','darkgreen']\n",
        "   'palette':['white','lightgreen','green']\n",
        "}\n",
        "\n",
        "\n",
        "sample_aoi_w, sample_aoi_s, sample_aoi_e, sample_aoi_n\n",
        "\n",
        "Map_output = geemap.Map(center=((sample_aoi_s+sample_aoi_n)/2,(sample_aoi_w+sample_aoi_e)/2), zoom=13)\n",
        "Map_output.addLayer(usda_crop,{},name='USDA NASS Cropland 2022')\n",
        "Map_output.addLayer(sample_aoi,{},name='Sample AOI')\n",
        "Map_output.addLayer(mean_doi_smap_VGF,vis_VGF,name='Mean SMAP VGF:'+doi)\n",
        "Map_output.addLayer(mean_doi_s2_HRVGF,vis_VGF,name='Mean S2 VGF:'+doi)\n",
        "\n",
        "## In case you are interested in plotting each individual VGF map acquired on the same date\n",
        "#for ct_img in np.arange(ImgCol_size.getInfo()):\n",
        "#    single_img = ee.Image(doi_s2_ndvi_ImgList.get(int(ct_img)))\n",
        "#    Map_output.addLayer(single_img, vis_ndvi, name='S2 NDVI:'+doi+'-'+str(int(ct_img)).zfill(2))\n",
        "\n",
        "## In case you are interested in plotting each individual VGF map acquired on the same date\n",
        "#for ct_img in np.arange(ImgCol_size.getInfo()):\n",
        "#    single_img = ee.Image(doi_s2_HRVGF_ImgList.get(int(ct_img)))\n",
        "#    Map_output.addLayer(single_img, vis_VGF, name='S2 VGF:'+doi+'-'+str(int(ct_img)).zfill(2))\n",
        "\n",
        "Map_output.addLayerControl()\n",
        "Map_output"
      ],
      "metadata": {
        "id": "EJbJsZ7LOhOu",
        "colab": {
          "base_uri": "https://localhost:8080/",
          "height": 621,
          "referenced_widgets": [
            "6b03d61dd16843b4a95a74c4b9acd799",
            "8898b7d321414d06b99841ba55937f5d",
            "74e71fbf5f2049308bd1475a6b22dec0",
            "01e64e0d61624b6a8fb787d2b3b1b457",
            "01bb7e8306e64032b242b2f8d2756768",
            "07d082b92f1a44e8b41114785a0a5728",
            "e81159fd562d4f799c8649351fe8ae29",
            "7b57e1d81ed14c56ade656af35b412b2",
            "5ed6bf3a715a49128054385c0fe0c74e",
            "17d09d0feab14e568f3d6469b13ff2bd",
            "da5633ac52b0402eac3759cd8218d427",
            "74ad99f2c98946e997ba4b043bfd1a4b",
            "a928ca2e398645f68a78a34a595136be",
            "b251b7d55c3d43509c53b0e3736edab2",
            "7c815866f92643c7adc91921c30c1f8a",
            "d12abd89397d433a85ac418b03c1dedf",
            "73c39fec22944cb38eef439bf592fc78",
            "d4e99635c35040cba4e66a6d32cfd540",
            "9952b434886548629f815324e866fb13",
            "ee11bfcbe287452fad6deb7ad9702438",
            "de6079ba478148ec990e70415db27b0c",
            "05151954121b48d690498f3d075c218f",
            "3eea36e9d0f240be908f3456107107a0",
            "57ec5e973a474e26989be13a88c5dc41",
            "615e56b26f6c4e4fb9d54ad0a2a4e7b5",
            "52af7e50136c4654843613c202a1ae58",
            "cbc37f181f284e18b9e16f18662f8c97",
            "453f3a9e3bdf42ae96595343150789f0",
            "eae07cdbfa2c41e6b43302eaabfb61c4"
          ]
        },
        "outputId": "07149516-6734-4727-df09-367316b0d3fb"
      },
      "execution_count": null,
      "outputs": [
        {
          "output_type": "display_data",
          "data": {
            "text/plain": [
              "Map(center=[43.125, -94.055], controls=(WidgetControl(options=['position', 'transparent_bg'], widget=HBox(chil…"
            ],
            "application/vnd.jupyter.widget-view+json": {
              "version_major": 2,
              "version_minor": 0,
              "model_id": "6b03d61dd16843b4a95a74c4b9acd799"
            }
          },
          "metadata": {
            "application/vnd.jupyter.widget-view+json": {
              "colab": {
                "custom_widget_manager": {
                  "url": "https://ssl.gstatic.com/colaboratory-static/widgets/colab-cdn-widget-manager/b3e629b1971e1542/manager.min.js"
                }
              }
            }
          }
        }
      ]
    },
    {
      "cell_type": "markdown",
      "source": [
        "From the result above, we can clearly see that we have successfully generated high-resolution (10-m) VGF by using the S2 NDVI and the trained random forest regression model. The 10-m spatial resolution of this S2-estimated VGF is significantly finer than the 9-km resolution of the original SMAP VGF, which is much more informative that can more precisely tell the farmers where their crops are in bad condition and require more cares.\n",
        "\n",
        "Note that the training data here was sampled randomly over the entire AOI that could encompass different land covers (e.g., different crop types). This could be a reason why the scatter plot between SMAP-VGF and S2-NDVI that we saw earlier has disperse data point distribution, even after we split the data into harvest-time, and non-harvest-time groups. Later, training data may be sampled in either stratified way or separately based on the land covers, and see if the regression model can be improved."
      ],
      "metadata": {
        "id": "pr29tSTm3yTq"
      }
    }
  ]
}